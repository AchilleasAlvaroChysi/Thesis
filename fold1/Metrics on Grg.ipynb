{
 "cells": [
  {
   "cell_type": "code",
   "execution_count": 2,
   "metadata": {},
   "outputs": [],
   "source": [
    "from collections import defaultdict \n",
    "import statistics\n",
    "import os\n",
    "import sys\n",
    "import csv\n",
    "import math\n",
    "import random\n",
    "import time\n",
    "import networkx as nx\n",
    "from matplotlib.pyplot import figure\n",
    "from networkx.algorithms.flow import edmonds_karp\n",
    "from pathlib import Path, PureWindowsPath\n",
    "import FordFulkerson as ff\n",
    "import EdmondsKarp as EK\n",
    "from multiprocessing import Pool\n",
    "from collections import Counter\n",
    "from IPython.display import Image, display\n",
    "from matplotlib import pyplot as plt\n",
    "import numpy as np\n",
    "from scipy.spatial import distance\n",
    "from sklearn.metrics.pairwise import cosine_similarity"
   ]
  },
  {
   "cell_type": "code",
   "execution_count": null,
   "metadata": {},
   "outputs": [],
   "source": [
    "total_time = time.time()"
   ]
  },
  {
   "cell_type": "markdown",
   "metadata": {},
   "source": [
    "### createDirs(fold) \n",
    "creates lists of strings that contain the path to each graph file."
   ]
  },
  {
   "cell_type": "code",
   "execution_count": null,
   "metadata": {},
   "outputs": [],
   "source": [
    "def createDirs(fold):\n",
    "    path = \"DATASET F1/fold_\" +str(fold)\n",
    "    mal_path = path+ \"/20%_test\"\n",
    "    train_path = path+ \"/80%_train\"\n",
    "    benign_path = \"DATASET F1/specimen_benign/20%_test\"\n",
    "    \n",
    "    w_mal_path = PureWindowsPath(mal_path)\n",
    "    w_train_path= PureWindowsPath(train_path)\n",
    "    w_benign_path = PureWindowsPath(benign_path)\n",
    "    print( mal_path+\"\\n\"+ train_path+\"\\n\"+ benign_path)\n",
    "    print( w_mal_path, w_train_path, w_benign_path)\n",
    "\n",
    "    filename = \"default_G_tone_map\"\n",
    "    mapFilename = \"default_unique_mapping\"\n",
    "    \n",
    "    rootDir = [os.path.join(root, name)\n",
    "             for root, dirs, files in os.walk(w_mal_path)\n",
    "             for name in files\n",
    "             if name.endswith(filename+\".csv\")]\n",
    "    rootDir.sort()\n",
    "\n",
    "    benignDir = [os.path.join(root, name)\n",
    "                 for root, dirs, files in os.walk(w_benign_path)\n",
    "                 for name in files\n",
    "                 if name.endswith(filename+\".csv\")]\n",
    "    benignDir.sort()\n",
    "\n",
    "    # for i in range(len(paths)):\n",
    "    trainDir = [os.path.join(root, name)\n",
    "                 for root, dirs, files in os.walk(w_train_path)\n",
    "                 for name in files\n",
    "                 if name.endswith(filename+\".csv\")]\n",
    "    trainDir.sort()\n",
    "    #     trainDirs[i] = trainDir\n",
    "    return [rootDir,benignDir,trainDir]"
   ]
  },
  {
   "cell_type": "markdown",
   "metadata": {},
   "source": [
    "### createGraphs(dirs,npmode)\n",
    "imports the csv files and creates the nx.Graph() objects. Npmode returns numpy matrices of the graphs"
   ]
  },
  {
   "cell_type": "code",
   "execution_count": 2,
   "metadata": {},
   "outputs": [],
   "source": [
    "def createGraphs(dirs,npmode):\n",
    "    rootDir = dirs[0]\n",
    "    benignDir = dirs[1]\n",
    "    trainDir = dirs[2]\n",
    "    mal_gs = []\n",
    "    mal_np_gs = []\n",
    "    ben_gs = []\n",
    "    train_gs = []\n",
    "    train_np_gs = []\n",
    "    ben_np_gs = []\n",
    "    csm_vals = {}\n",
    "    \n",
    "    for i in range(len(rootDir)):\n",
    "        A = np.array(getArray(rootDir[i]))\n",
    "        G = nx.from_numpy_matrix(A)\n",
    "        x,y = A.shape\n",
    "        mal_gs.append(G)\n",
    "        mal_np_gs.append(np.reshape(A,x*y))\n",
    "        \n",
    "    for i in range(len(trainDir)):\n",
    "        A = np.array(getArray(trainDir[i]))\n",
    "        G = nx.from_numpy_matrix(A)        \n",
    "        x,y = A.shape\n",
    "        train_gs.append(G)\n",
    "        train_np_gs.append(np.reshape(A,x*y))\n",
    "        \n",
    "    for i in range(len(benignDir)):\n",
    "        A = np.array(getArray(benignDir[i]))\n",
    "        x,y = A.shape\n",
    "        G = nx.from_numpy_matrix(A)\n",
    "        ben_gs.append(G)\n",
    "        ben_np_gs.append(np.reshape(A,x*y))\n",
    "        \n",
    "    if npmode: \n",
    "        return [mal_np_gs, ben_np_gs, train_np_gs]\n",
    "    else: \n",
    "        return [mal_gs, ben_gs, train_gs]"
   ]
  },
  {
   "cell_type": "markdown",
   "metadata": {},
   "source": [
    "### getArray(path)\n",
    "parses the csv file and returns a list with the contents of it."
   ]
  },
  {
   "cell_type": "code",
   "execution_count": null,
   "metadata": {},
   "outputs": [],
   "source": [
    "def getArray (path):\n",
    "    results = []\n",
    "    with open(path) as csvfile:\n",
    "        reader = csv.reader(csvfile,csv.QUOTE_NONNUMERIC) # change contents to floats\n",
    "        for row in reader: # each row is a list\n",
    "            nums = []\n",
    "            for i in row: \n",
    "                if i :\n",
    "                    nums.append(int(i))\n",
    "            results.append(nums)\n",
    "    return results"
   ]
  },
  {
   "cell_type": "markdown",
   "metadata": {},
   "source": [
    "### similarityMetric(sr)\n",
    "calculates and returns the classification values."
   ]
  },
  {
   "cell_type": "code",
   "execution_count": null,
   "metadata": {},
   "outputs": [],
   "source": [
    "def similarityMetric(sr):\n",
    "    counterA = 0\n",
    "    counterB = 0\n",
    "    counterC = 0\n",
    "    for i in sr :\n",
    "        A,B = i[0].split(',')[0], i[0].split(',')[1]\n",
    "        C,D = i[2].split(',')[0], i[2].split(',')[1]\n",
    "        if A==C and B==D:\n",
    "            counterA +=1\n",
    "        if A==C or B==D:\n",
    "            counterB +=1\n",
    "        if A==C or A==D or B == C or B == D:\n",
    "            counterC += 1\n",
    "#     print(\"cA = %d (%f) cB= %d (%f) cC =%d (%f)\"%(counterA, counterA/len(sr), counterB, counterB/len(sr), counterC, counterC/len(sr)))\n",
    "    return [counterA/len(sr),counterB/len(sr),counterC/len(sr)]"
   ]
  },
  {
   "cell_type": "code",
   "execution_count": null,
   "metadata": {},
   "outputs": [],
   "source": [
    "def saveFigures(mal_th, ben_th, start, iteration):\n",
    "    lists = [mal_th,ben_th]\n",
    "    diffs = []\n",
    "    v = 0\n",
    "    for i in range(len(mal_th)):\n",
    "        v = max(v,abs(mal_th[i]-ben_th[i]))\n",
    "        diffs.append(abs(mal_th[i]-ben_th[i]))\n",
    "    print(v)\n",
    "    d = max(diffs)\n",
    "    print(d, mal_th[diffs.index(d)])\n",
    "\n",
    "    for i in lists:\n",
    "        plt.plot(i,marker= 11)\n",
    "    plt.title(\"max dif at %f\"%(diffs[diffs.index(d)]))\n",
    "    plt.legend([\"True positives\",\"False positives\"])\n",
    "    plt.yticks(np.arange(0, 1, 0.05))\n",
    "    plt.xticks(np.arange(0,step, 1))\n",
    "    plt.ylabel(\"\")\n",
    "    plt.draw()\n",
    "    try:\n",
    "        os.mkdir(str(iteration))\n",
    "    except OSError:\n",
    "#         print (\"Creation of the directory %s failed\" % str(iteration))\n",
    "        pass\n",
    "    else:\n",
    "        print (\"Successfully created the directory %s\" % str(iteration))\n",
    "    plt.savefig(str(iteration)+\"/\"+str(start)+\".png\")\n",
    "    plt.clf()\n",
    "\n"
   ]
  },
  {
   "cell_type": "code",
   "execution_count": null,
   "metadata": {},
   "outputs": [],
   "source": [
    "def detection(ben, mal, itr, step, metric = 'Csm' ):\n",
    "    dif = ben[0]-ben[-1]\n",
    "    thresh = [ben[-1]+i*dif/step for i in range(step)]\n",
    "    m = np.array(sum(i > thresh for i in mal)/len(mal))\n",
    "    p = np.array(sum(i > thresh for i in ben)/len(ben))\n",
    "    for i in [m,p]:\n",
    "        plt.plot(i)\n",
    "    plt.yticks(np.arange(0,1.05,0.05))\n",
    "    plt.xticks(np.arange(0,len(thresh),1))\n",
    "    plt.draw()\n",
    "    plt.title('detection at '+str(itr)+ ' iteration')\n",
    "    plt.savefig(metric+\"--\"+ str(itr)+'--flow.png')\n",
    "    plt.clf()\n",
    "    return [m, p]\n"
   ]
  },
  {
   "cell_type": "code",
   "execution_count": null,
   "metadata": {},
   "outputs": [],
   "source": [
    "def sortTests(test):\n",
    "    sortedTests =[]\n",
    "    for i in range(len(test)):\n",
    "        srTest = sorted(test[i], key = lambda kv:kv[1],reverse = True)\n",
    "        sortedTests.append(srTest)\n",
    "        \n",
    "    return sortedTests"
   ]
  },
  {
   "cell_type": "code",
   "execution_count": null,
   "metadata": {},
   "outputs": [],
   "source": [
    "def detectSteps(testA, testB,step, metric = \"Csm\"):\n",
    "    detect = []\n",
    "    for i in range(len(testA)):\n",
    "        detect.append(detection(testA[i], testB[i], i, step, metric=metric))\n",
    "    return detect"
   ]
  },
  {
   "cell_type": "code",
   "execution_count": null,
   "metadata": {},
   "outputs": [],
   "source": [
    "def simAverages(malTest, benTest, metric):\n",
    "    similarities = [similarityMetric(malTest[i]) for i in range(len(malTest))]\n",
    "    for i in similarities :\n",
    "        print(i)\n",
    "    counts = [[i[j] for i in similarities] for j in range(len(i))]\n",
    "    avg = [statistics.mean(i) for i in counts]\n",
    "    print(\"---------------\")\n",
    "    print(metric)\n",
    "    print(\"---------------\")\n",
    "    for j in avg : print(j)"
   ]
  },
  {
   "cell_type": "code",
   "execution_count": null,
   "metadata": {},
   "outputs": [],
   "source": [
    "itDirs = [createDirs(i)for i in range(1,6)]\n",
    "maps = [createGraphs(itDirs[i], True)for i in range(len(itDirs))]"
   ]
  },
  {
   "cell_type": "code",
   "execution_count": null,
   "metadata": {},
   "outputs": [],
   "source": [
    "def trial(metric, mode = True):\n",
    "    t = time.time()\n",
    "    \n",
    "    malwareTests = [calculateDifference(maps[i][0],maps[i][2], \n",
    "                                        itDirs[i], False, metric = metric) for i in range(1)]\n",
    "    print(\"malware took %f seconds\"%(time.time()-t))\n",
    "    benignTests = [calculateDifference(maps[i][1],maps[i][2], \n",
    "                                           itDirs[i], True, metric = metric) for i in range(1)]\n",
    "    return [malwareTests,benignTests]"
   ]
  },
  {
   "cell_type": "code",
   "execution_count": null,
   "metadata": {},
   "outputs": [],
   "source": [
    "def getSortTests(benignTests,malwareTests):\n",
    "    sortBenignTests= sortTests(benignTests)\n",
    "    sortMalwareTests =  sortTests(malwareTests)\n",
    "    return [sortBenignTests, sortMalwareTests]"
   ]
  },
  {
   "cell_type": "code",
   "execution_count": null,
   "metadata": {},
   "outputs": [],
   "source": [
    "def getTestValues(sortMalwareTests,sortBenignTests):\n",
    "    malwares =  [[sortMalwareTests[j][i][1] for i in range(len(sortMalwareTests[j]))] \n",
    "             for j in range(len(sortMalwareTests))]\n",
    "    benigns =  [[sortBenignTests[j][i][1] for i in range(len(sortBenignTests[j]))] \n",
    "             for j in range(len(sortBenignTests))]\n",
    "    return [malwares, benigns]"
   ]
  },
  {
   "cell_type": "code",
   "execution_count": null,
   "metadata": {},
   "outputs": [],
   "source": [
    "def calculateDifference(listA, listB, dirs,isBenign, metric = \"csm\"):\n",
    "    time_to = time.time()\n",
    "    ret_val = []\n",
    "    rootDir = dirs[0]\n",
    "    benDir = dirs[1]\n",
    "    trainDir = dirs[2]\n",
    "    stats= []\n",
    "    if metric == \"csm\" :\n",
    "        for i in range(len(listA)):\n",
    "            val = []\n",
    "            e_val = []\n",
    "            for j in range(len(listB)):\n",
    "                val.append(1-distance.cosine(listA[i], listB[j]))\n",
    "            \n",
    "            val_ar = [k for k, j in enumerate(val) if j == max(val)]\n",
    "            stats.append(len(val_ar))\n",
    "            best = val.index(max(val))\n",
    "            for v in val_ar:\n",
    "                if isBenign:\n",
    "                    if benDir[i].split('\\\\')[-3] == trainDir[v].split('\\\\')[-3]:\n",
    "                        best = v\n",
    "                else :\n",
    "                    if rootDir[i].split('\\\\')[-3] == trainDir[v].split('\\\\')[-3]:\n",
    "                        best = v\n",
    "            if isBenign:\n",
    "                ret_val.append([benDir[i].split('\\\\')[-3],val[best],trainDir[best].split('\\\\')[-3]])\n",
    "            else :\n",
    "                ret_val.append([rootDir[i].split('\\\\')[-3],val[best],trainDir[best].split('\\\\')[-3]])\n",
    "        plt.hist(stats, bins= 10)\n",
    "        print(str(time.time()-time_to)+ \"CSM TIME\")\n",
    "        return ret_val\n",
    "    elif metric == \"euc\":\n",
    "        for i in range(len(listA)):\n",
    "            e_val = []\n",
    "            for j in range(len(listB)):\n",
    "                e_val.append(1000.0/(1000.0+distance.euclidean(listA[i], listB[j])))\n",
    "            if isBenign:\n",
    "                ret_val.append([benDir[i].split('\\\\')[-3],max(e_val),trainDir[e_val.index(max(e_val))].split('\\\\')[-3]])\n",
    "            else :\n",
    "                ret_val.append([rootDir[i].split('\\\\')[-3],max(e_val),trainDir[e_val.index(max(e_val))].split('\\\\')[-3]])\n",
    "        print(str(time.time()-time_to)+ \"EUC TIME\")\n",
    "        return ret_val\n",
    "    elif metric == \"bray\":\n",
    "        for i in range(len(listA)):\n",
    "            e_val = []\n",
    "            for j in range(len(listB)):\n",
    "                e_val.append(1-distance.braycurtis(listA[i], listB[j]))\n",
    "            if isBenign:\n",
    "                ret_val.append([benDir[i].split('\\\\')[-3],max(e_val),trainDir[e_val.index(max(e_val))].split('\\\\')[-3]])\n",
    "            else :\n",
    "                ret_val.append([rootDir[i].split('\\\\')[-3],max(e_val),trainDir[e_val.index(max(e_val))].split('\\\\')[-3]])\n",
    "        print(str(time.time()-time_to)+ \"Bray TIME\")\n",
    "        return ret_val\n",
    "    elif metric == \"sqeuc\":\n",
    "        for i in range(len(listA)):\n",
    "            e_val = []\n",
    "            for j in range(len(listB)):\n",
    "                e_val.append(1000.0/(1000.0+distance.sqeuclidean(listA[i], listB[j])))\n",
    "            if isBenign:\n",
    "                ret_val.append([benDir[i].split('\\\\')[-3],max(e_val),trainDir[e_val.index(max(e_val))].split('\\\\')[-3]])\n",
    "            else :\n",
    "                ret_val.append([rootDir[i].split('\\\\')[-3],max(e_val),trainDir[e_val.index(max(e_val))].split('\\\\')[-3]])\n",
    "        print(str(time.time()-time_to)+ \"SQEUC TIME\")\n",
    "        return ret_val\n",
    "    elif metric == \"cor\":\n",
    "        for i in range(len(listA)):\n",
    "            e_val = []\n",
    "            for j in range(len(listB)):\n",
    "                e_val.append(1000.0/(1000.0+distance.correlation(listA[i], listB[j])))\n",
    "            if isBenign:\n",
    "                ret_val.append([benDir[i].split('\\\\')[-3],max(e_val),trainDir[e_val.index(max(e_val))].split('\\\\')[-3]])\n",
    "            else :\n",
    "                ret_val.append([rootDir[i].split('\\\\')[-3],max(e_val),trainDir[e_val.index(max(e_val))].split('\\\\')[-3]])\n",
    "        print(str(time.time()-time_to)+ \"COR TIME\")\n",
    "        return ret_val\n",
    "    elif metric == \"prod\":\n",
    "        for i in range(len(listA)):\n",
    "            e_val = []\n",
    "            for j in range(len(listB)):\n",
    "                a = 1-distance.braycurtis(listA[i], listB[j])\n",
    "                b = 10000.0/(10000.0+distance.sqeuclidean(listA[i],listB[j]))\n",
    "                e_val.append(a*b)\n",
    "            if isBenign:\n",
    "                ret_val.append([benDir[i].split('\\\\')[-3],max(e_val),trainDir[e_val.index(max(e_val))].split('\\\\')[-3]])\n",
    "            else :\n",
    "                ret_val.append([rootDir[i].split('\\\\')[-3],max(e_val),trainDir[e_val.index(max(e_val))].split('\\\\')[-3]])\n",
    "        print(str(time.time()-time_to)+ \"PROD TIME\")\n",
    "        return ret_val\n",
    "    elif metric == \"mink\":\n",
    "        for i in range(len(listA)):\n",
    "            e_val = []\n",
    "            for j in range(len(listB)):\n",
    "                a= 1000.0/(1000.0+distance.minkowski(listA[i], listB[j],1))\n",
    "                b= 1000.0/(1000.0+distance.cosine(listA[i], listB[j]))\n",
    "                e_val.append(a*b)\n",
    "            if isBenign:\n",
    "                ret_val.append([benDir[i].split('\\\\')[-3],max(e_val),trainDir[e_val.index(max(e_val))].split('\\\\')[-3]])\n",
    "            else :\n",
    "                ret_val.append([rootDir[i].split('\\\\')[-3],max(e_val),trainDir[e_val.index(max(e_val))].split('\\\\')[-3]])\n",
    "        \n",
    "        print(str(time.time()-time_to)+ \"Mink TIME\")\n",
    "        return ret_val"
   ]
  },
  {
   "cell_type": "code",
   "execution_count": null,
   "metadata": {},
   "outputs": [],
   "source": [
    "# CSM\n",
    "csmTests= trial(\"csm\")\n",
    "csmSortTests = getSortTests(csmTests[0],csmTests[1])\n",
    "csm = getTestValues(csmSortTests[0],csmSortTests[1])"
   ]
  },
  {
   "cell_type": "code",
   "execution_count": null,
   "metadata": {},
   "outputs": [],
   "source": [
    "#EUC\n",
    "eucTests= trial(\"euc\")\n",
    "eucSortTests = getSortTests(eucTests[0],eucTests[1])\n",
    "euc = getTestValues(eucSortTests[0],eucSortTests[1])"
   ]
  },
  {
   "cell_type": "code",
   "execution_count": null,
   "metadata": {},
   "outputs": [],
   "source": [
    "#BRAY CURTIS\n",
    "brayTests= trial(\"bray\")\n",
    "braySortTests = getSortTests(brayTests[0],brayTests[1])\n",
    "bray = getTestValues(braySortTests[0],braySortTests[1])"
   ]
  },
  {
   "cell_type": "code",
   "execution_count": null,
   "metadata": {},
   "outputs": [],
   "source": [
    "#SQUARE EUCLIDEAN\n",
    "sqeucTests = trial(\"sqeuc\")\n",
    "sqeucSortTests = getSortTests(sqeucTests[0],sqeucTests[1])\n",
    "sqeuc = getTestValues(sqeucSortTests[0],sqeucSortTests[1])"
   ]
  },
  {
   "cell_type": "code",
   "execution_count": null,
   "metadata": {},
   "outputs": [],
   "source": [
    "#DISTANCE CORRELATION\n",
    "corTests = trial(\"cor\")\n",
    "corSortTests = getSortTests(corTests[0],corTests[1])\n",
    "cor = getTestValues(corSortTests[0],corSortTests[1])"
   ]
  },
  {
   "cell_type": "code",
   "execution_count": null,
   "metadata": {},
   "outputs": [],
   "source": [
    "#PRODUCT Values\n",
    "prodTests = trial(\"prod\")\n",
    "prodSortTests = getSortTests(prodTests[0],prodTests[1])\n",
    "prod = getTestValues(prodSortTests[0],prodSortTests[1])"
   ]
  },
  {
   "cell_type": "code",
   "execution_count": null,
   "metadata": {},
   "outputs": [],
   "source": [
    "#MINKOWSKI COSINE PRODUCT\n",
    "minkTests = trial(\"mink\")\n",
    "minkSortTests = getSortTests(minkTests[0],minkTests[1])\n",
    "mink = getTestValues(minkSortTests[0],minkSortTests[1])"
   ]
  },
  {
   "cell_type": "code",
   "execution_count": null,
   "metadata": {},
   "outputs": [],
   "source": [
    "print(\"TOTAL TIME TAKEN : \"+str(time.time()-total_time))"
   ]
  },
  {
   "cell_type": "code",
   "execution_count": null,
   "metadata": {},
   "outputs": [],
   "source": [
    "steps = 20\n",
    "detect = detectSteps(csm[1],csm[0],steps, metric= \"Csm\")\n",
    "detectEuc = detectSteps(euc[1],euc[0], steps, metric=\"Euc\")\n",
    "detectBray = detectSteps( bray[1],bray[0], steps, metric=\"Bray\")\n",
    "detectSq = detectSteps(sqeuc[1],sqeuc[0], steps, metric=\"Sqeuc\")\n",
    "detectCor = detectSteps(cor[1], cor[0], steps, metric=\"Dist Cor\")\n",
    "detectProd = detectSteps(prod[1], prod[0], steps, metric=\"Prod\")\n",
    "detectMink = detectSteps(mink[1], mink[0], steps, metric=\"Mink\")"
   ]
  },
  {
   "cell_type": "code",
   "execution_count": null,
   "metadata": {},
   "outputs": [],
   "source": [
    "mal_det = np.array([detect[i][0] for i in range(len(detect))])\n",
    "ben_det = np.array([detect[i][1] for i in range(len(detect))])\n",
    "mal_euc = np.array([detectEuc[i][0] for i in range(len(detectEuc))])\n",
    "ben_euc = np.array([detectEuc[i][1] for i in range(len(detectEuc))])\n",
    "mal_bray = np.array([detectBray[i][0] for i in range(len(detectBray))])\n",
    "ben_bray = np.array([detectBray[i][1] for i in range(len(detectBray))])\n",
    "mal_sq = np.array([detectSq[i][0] for i in range(len(detectSq))])\n",
    "ben_sq = np.array([detectSq[i][1] for i in range(len(detectSq))])\n",
    "mal_cor = np.array([detectCor[i][0] for i in range(len(detectCor))])\n",
    "ben_cor = np.array([detectCor[i][1] for i in range(len(detectCor))])\n",
    "mal_prod = np.array([detectProd[i][0] for i in range(len(detectProd))])\n",
    "ben_prod = np.array([detectProd[i][1] for i in range(len(detectProd))])\n",
    "mal_mink = np.array([detectMink[i][0] for i in range(len(detectMink))])\n",
    "ben_mink = np.array([detectMink[i][1] for i in range(len(detectMink))])\n",
    "\n",
    "avg_det = np.mean(mal_det,axis=0)\n",
    "avg_det_b = np.mean(ben_det,axis=0)\n",
    "avg_euc = np.mean(mal_euc, axis =0)\n",
    "avg_euc_b = np.mean(ben_euc,axis = 0)\n",
    "avg_bray = np.mean(mal_bray, axis =0)\n",
    "avg_bray_b = np.mean(ben_bray,axis = 0)\n",
    "avg_sq = np.mean(mal_sq, axis =0)\n",
    "avg_sqeuc_b = np.mean(ben_sq,axis = 0)\n",
    "avg_cor = np.mean(mal_cor, axis =0)\n",
    "avg_cor_b = np.mean(ben_cor,axis = 0)\n",
    "avg_prod = np.mean(mal_prod, axis =0)\n",
    "avg_prod_b = np.mean(ben_prod,axis = 0)\n",
    "avg_mink = np.mean(mal_mink, axis =0)\n",
    "avg_mink_b = np.mean(ben_mink,axis = 0)\n",
    "print(avg_det)\n",
    "print(avg_mink_b)\n",
    "print(\"avg_mink ///// avg_mink_b ///// avg_cos ///// avg_cos_b\" )\n",
    "for i in range(len(avg_mink)):\n",
    "    print(str(i)+\". \"+ str(avg_mink[i])+\" // \"+str(avg_mink_b[i])+\" $$ \"+str(avg_det[i])+\" // \"+str(avg_det_b[i]))\n",
    "\n",
    "figure(num=None, figsize=(10,7), dpi=200, facecolor='w', edgecolor='k')\n",
    "plt.margins(0.01)\n",
    "plt.title(\"Average Metrics Flow Map\")\n",
    "plt.plot(avg_det)\n",
    "plt.plot(avg_det_b)\n",
    "plt.xticks(np.arange(0,len(avg_det),1))\n",
    "plt.yticks(np.arange(0,1.01,0.05))\n",
    "plt.legend([\"cosine malware\", \"cosine benign\",\"euclidean malware\", \"euclidean benign\", \"BC malware\", \n",
    "            \"BC benign\",\"Sqeuc malware\", \"Sqeuc benign\",\"Correlation malware\", \"Correlation benign\", \"Product malware\", \"Product benign\"])\n",
    "plt.savefig(\"averages of all metrics GRG.png\")"
   ]
  },
  {
   "cell_type": "code",
   "execution_count": null,
   "metadata": {},
   "outputs": [],
   "source": [
    "simAverages(csmSortTests[0],csmSortTests[1],\"Csm\")\n",
    "print(\"===========================================\")\n",
    "print()\n",
    "simAverages(eucSortTests[0],eucSortTests[1],\"Euc\")\n",
    "print(\"===========================================\")\n",
    "print()\n",
    "simAverages(braySortTests[0],braySortTests[1],\"Bray\")\n",
    "print(\"===========================================\")\n",
    "print()\n",
    "simAverages(sqeucSortTests[0],sqeucSortTests[1],\"Sq\")\n",
    "print(\"===========================================\")\n",
    "print()\n",
    "simAverages(corSortTests[0], corSortTests[1],\"Cor\")"
   ]
  }
 ],
 "metadata": {
  "kernelspec": {
   "display_name": "Python 3",
   "language": "python",
   "name": "python3"
  },
  "language_info": {
   "codemirror_mode": {
    "name": "ipython",
    "version": 3
   },
   "file_extension": ".py",
   "mimetype": "text/x-python",
   "name": "python",
   "nbconvert_exporter": "python",
   "pygments_lexer": "ipython3",
   "version": "3.7.6"
  }
 },
 "nbformat": 4,
 "nbformat_minor": 2
}
