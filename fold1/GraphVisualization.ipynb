{
 "cells": [
  {
   "cell_type": "code",
   "execution_count": 1,
   "metadata": {},
   "outputs": [],
   "source": [
    "import pydot\n",
    "import os\n",
    "import random\n",
    "import operator\n",
    "import numpy as np\n",
    "from collections import Counter\n",
    "from PIL import Image"
   ]
  },
  {
   "cell_type": "code",
   "execution_count": 2,
   "metadata": {},
   "outputs": [],
   "source": [
    "classes = {\"DummyStart\":0,\"ACCESS_MASK\":1,\"Atom\":2,\"BOOLEAN\":3,\"Debug\":4,\"Device\":5,\n",
    "                                 \"Environment\":6,\"File\":7,\"HANDLE\":8,\"Job\":9,\"LONG\":10,\"LPC\":11,\n",
    "                                 \"Memory\":12,\"NTSTATUS\":13,\"Object\":14,\"Other\":15,\"PHANDLE\":16,\n",
    "                                 \"PLARGE_INTEGER\":17,\"Process\":18,\"PUNICODE_STRING\":19,\n",
    "                                 \"PULONG\":20,\"PULARGE_INTEGER\":21,\"PVOID_SIZEAFTER\":22,\n",
    "                                 \"PWSTR\":23,\"Registry\":24,\"Security\":25,\"Synchronization\":26,\n",
    "                                 \"Time\":27,\"Transaction\":28,\"ULONG\":29,\"WOW64\":30, \"DummyEnd\":31}"
   ]
  },
  {
   "cell_type": "code",
   "execution_count": 3,
   "metadata": {},
   "outputs": [],
   "source": [
    "path = \"/home/achilleas/Desktop/thesis/DATASET F1/Fold_1/20%_test\"\n",
    "filename = \"default_G_tone_cardinality\"\n",
    "mapFilename = \"default_unique_mapping\"\n",
    "rootDir = [os.path.join(root, name)\n",
    "             for root, dirs, files in os.walk(path)\n",
    "             for name in files\n",
    "             if name.endswith(filename+\".txt\")]\n",
    "map_dir = [os.path.join(root, name)\n",
    "              for root, dirs, files in os.walk(path)\n",
    "              for name in files\n",
    "              if name.endswith(mapFilename+\".txt\")]"
   ]
  },
  {
   "cell_type": "code",
   "execution_count": 4,
   "metadata": {},
   "outputs": [
    {
     "name": "stdout",
     "output_type": "stream",
     "text": [
      "Creation of the directory media failed\n"
     ]
    }
   ],
   "source": [
    "try:\n",
    "    os.mkdir(\"media\")\n",
    "except OSError:\n",
    "    print (\"Creation of the directory %s failed\" % \"media\")\n",
    "else:\n",
    "    print (\"Successfully created the directory %s\" % \"media\")"
   ]
  },
  {
   "cell_type": "code",
   "execution_count": 5,
   "metadata": {},
   "outputs": [],
   "source": [
    "def createBucket(path):\n",
    "    bucket = {}\n",
    "    with open(path) as fp:\n",
    "        line = fp.readline()\n",
    "        i=0\n",
    "        while line : \n",
    "            bucket[i] = line\n",
    "            i += 1\n",
    "            line = fp.readline()\n",
    "    print(bucket)\n",
    "        "
   ]
  },
  {
   "cell_type": "code",
   "execution_count": 6,
   "metadata": {},
   "outputs": [],
   "source": [
    "def graphCreate(path) :\n",
    "    G = pydot.Dot(graph_type='digraph')\n",
    "    vir_hash = path.split(\"/\")[-2]\n",
    "    family = path.split(\"/\")[-3]\n",
    "    nodes = {}\n",
    "    nodes_counter = {}\n",
    "    edge_list = {}\n",
    "\n",
    "    cnt = 1 \n",
    "    with open(path) as fp:\n",
    "        line = fp.readline()\n",
    "        while line :\n",
    "            parent_id = line.split(',')[0]\n",
    "            child_id = line.split(',')[1]\n",
    "            if parent_id not in nodes :\n",
    "                nodes[parent_id] = pydot.Node(parent_id, style = \"filled\", color= \"green\")\n",
    "                nodes_counter[nodes[parent_id]]=1\n",
    "            else :\n",
    "                nodes_counter[nodes[parent_id]]+=1\n",
    "            if child_id not in nodes :\n",
    "                nodes[child_id] =pydot.Node(child_id, style = \"filled\", color= \"red\")\n",
    "                nodes_counter[nodes[child_id]] =1\n",
    "            else: \n",
    "                nodes_counter[nodes[child_id]]+=1\n",
    "            temp_edge = parent_id+\"*\"+child_id\n",
    "            if temp_edge in edge_list: \n",
    "                edge_list[temp_edge] += 1            \n",
    "            else : \n",
    "                edge_list[temp_edge] = 1\n",
    "    #         edge = pydot.Edge(nodes[parent_id], nodes[child_id])\n",
    "    #         edge_list.append(edge)\n",
    "            line = fp.readline()\n",
    "        sorted_n = sorted(nodes_counter.items(), key = lambda kv: kv[1])\n",
    "        fp.close()\n",
    "    for n in sorted_n:\n",
    "        G.add_node(n[0])\n",
    "    for e in edge_list:\n",
    "        expected_edge = pydot.Edge(e.split('*')[0], e.split('*')[1], label = edge_list[e])\n",
    "        G.add_edge(expected_edge)\n",
    "    return [G, vir_hash, filename, family]"
   ]
  },
  {
   "cell_type": "code",
   "execution_count": 7,
   "metadata": {},
   "outputs": [],
   "source": [
    "def displayGraph (G , vir_hash, filename, dir_dst):\n",
    "    from IPython.display import Image, display\n",
    "    im = Image(G.create_png())\n",
    "    try:\n",
    "        os.mkdir(\"media/\"+dir_dst)\n",
    "    except OSError:\n",
    "        print (\"Creation of the directory %s failed\" % dir_dst)\n",
    "    else:\n",
    "        print (\"Successfully created the directory %s\" % dir_dst)\n",
    "    G.write_png(\"media/\"+dir_dst+ '/' + vir_hash+\".png\")\n",
    "#     display(im)"
   ]
  },
  {
   "cell_type": "code",
   "execution_count": 8,
   "metadata": {},
   "outputs": [],
   "source": [
    "def visualizeAllData():\n",
    "    for paths in rootDir:\n",
    "        Grf = graphCreate(paths)\n",
    "        displayGraph(Grf[0],Grf[1],Grf[2], Grf[3])"
   ]
  },
  {
   "cell_type": "code",
   "execution_count": 9,
   "metadata": {},
   "outputs": [],
   "source": [
    "def visualizeOne(path):\n",
    "    print(rootDir.index(path))\n",
    "    print(path)\n",
    "    print(len(rootDir))\n",
    "    displayGraph(graphCreate(path)[0],graphCreate(path)[1],graphCreate(path)[2], graphCreate(path)[3])"
   ]
  },
  {
   "cell_type": "code",
   "execution_count": 10,
   "metadata": {},
   "outputs": [],
   "source": [
    "def countPngs():\n",
    "    return len([os.path.join(root, name)\n",
    "             for root, dirs, files in os.walk(\"media\")\n",
    "             for name in files\n",
    "             if name.endswith('.png')])"
   ]
  },
  {
   "cell_type": "code",
   "execution_count": 11,
   "metadata": {},
   "outputs": [],
   "source": [
    "def createCoverageMap (GrG):\n",
    "    CVG = []"
   ]
  },
  {
   "cell_type": "code",
   "execution_count": 12,
   "metadata": {},
   "outputs": [
    {
     "name": "stdout",
     "output_type": "stream",
     "text": [
      "167\n",
      "/home/achilleas/Desktop/thesis/DATASET F1/Fold_1/20%_test/Plemood,Pupil,/3AF6727F9513665DD549F51DBBD111F3/default_G_tone_cardinality.txt\n",
      "521\n",
      "Creation of the directory Plemood,Pupil, failed\n",
      "{0: 'FILE_INFORMATION_CLASS\\n', 1: 'NtWaitForSingleObject\\n', 2: 'NtWriteVirtualMemory\\n', 3: 'KEY_INFORMATION_CLASS\\n', 4: 'NtQueryDefaultLocale\\n', 5: 'NtRequestWaitReplyPort\\n', 6: 'NtQueryInformationToken\\n', 7: 'NtAllocateVirtualMemory\\n', 8: 'NtAccessCheck\\n', 9: 'NtWaitForMultipleObjects\\n', 10: 'NtQueryDebugFilterState\\n', 11: 'NtOpenFile\\n', 12: 'NtCreateProcessEx\\n', 13: 'ACCESS_MASK\\n', 14: 'NtDuplicateToken\\n', 15: 'JOBOBJECTINFOCLASS\\n', 16: 'NtMapViewOfSection\\n', 17: 'THREADINFOCLASS\\n', 18: 'PSECURITY_DESCRIPTOR\\n', 19: 'NtReadVirtualMemory\\n', 20: 'PHANDLE\\n', 21: 'NtTerminateThread\\n', 22: 'ULONG\\n', 23: 'TOKEN_TYPE\\n', 24: 'NtSetInformationThread\\n', 25: 'NtProtectVirtualMemory\\n', 26: 'NtQueryPerformanceCounter\\n', 27: 'BOOLEAN\\n', 28: 'PVOID_SIZEAFTER\\n', 29: 'NtCreateSemaphore\\n', 30: 'NtRaiseException\\n', 31: 'NtUnmapViewOfSection\\n', 32: 'NtSetEvent\\n', 33: 'NtOpenDirectoryObject\\n', 34: 'NtCreateThread\\n', 35: 'NtQueryValueKey\\n', 36: 'PIO_APC_ROUTINE\\n', 37: 'NtContinue\\n', 38: 'NtOpenThreadToken\\n', 39: 'NtFlushInstructionCache\\n', 40: 'NtCreateKey\\n', 41: 'NtQuerySymbolicLinkObject\\n', 42: 'NtQuerySection\\n', 43: 'NtOpenSection\\n', 44: 'NtDuplicateObject\\n', 45: 'NtCreateEvent\\n', 46: 'WAIT_TYPE\\n', 47: 'SECTION_INFORMATION_CLASS\\n', 48: 'MEMORY_INFORMATION_CLASS\\n', 49: 'NtQueryInformationJobObject\\n', 50: 'NtOpenThreadTokenEx\\n', 51: 'NtQueryInformationProcess\\n', 52: 'NtQueryAttributesFile\\n', 53: 'PLARGE_INTEGER\\n', 54: 'SYSTEM_INFORMATION_CLASS\\n', 55: 'NtQueryVolumeInformationFile\\n', 56: 'NtEnumerateKey\\n', 57: 'KEY_VALUE_INFORMATION_CLASS\\n', 58: 'HANDLE\\n', 59: 'NtOpenProcessToken\\n', 60: 'NtQuerySystemInformation\\n', 61: 'NtOpenMutant\\n', 62: 'NtTestAlert\\n', 63: 'NtOpenSymbolicLinkObject\\n', 64: 'NtCreateFile\\n', 65: 'NtQueryVirtualMemory\\n', 66: 'SECTION_INHERIT\\n', 67: 'NtFreeVirtualMemory\\n', 68: 'PROCESSINFOCLASS\\n', 69: 'NtCreateMutant\\n', 70: 'NTSTATUS\\n', 71: 'PCONTEXT\\n', 72: 'NtQueryInstallUILanguage\\n', 73: 'NtQueryDefaultUILanguage\\n', 74: 'NtSetInformationObject\\n', 75: 'NtResumeThread\\n', 76: 'NtOpenKey\\n', 77: 'NtQueryInformationFile\\n', 78: 'POBJECT_ATTRIBUTES\\n', 79: 'EVENT_TYPE\\n', 80: 'NtSetInformationProcess\\n', 81: 'NtReleaseMutant\\n', 82: 'NtQueryDirectoryFile\\n', 83: 'PUNICODE_STRING\\n', 84: 'PEXCEPTION_RECORD\\n', 85: 'PPORT_MESSAGE\\n', 86: 'TOKEN_INFORMATION_CLASS\\n', 87: 'FS_INFORMATION_CLASS\\n', 88: 'NtOpenProcessTokenEx\\n', 89: 'OBJECT_INFORMATION_CLASS\\n', 90: 'PULONG\\n', 91: 'LONG\\n', 92: 'NtCallbackReturn\\n', 93: 'NtClose\\n', 94: 'NtCreateSection\\n'}\n"
     ]
    }
   ],
   "source": [
    "visualizeOne(rootDir[random.randrange(len(rootDir))])\n",
    "createBucket(map_dir[random.randrange(len(map_dir))])\n",
    "# visualizeAllData()\n",
    "# countPngs()"
   ]
  }
 ],
 "metadata": {
  "kernelspec": {
   "display_name": "Python 3",
   "language": "python",
   "name": "python3"
  },
  "language_info": {
   "codemirror_mode": {
    "name": "ipython",
    "version": 3
   },
   "file_extension": ".py",
   "mimetype": "text/x-python",
   "name": "python",
   "nbconvert_exporter": "python",
   "pygments_lexer": "ipython3",
   "version": "3.6.5"
  }
 },
 "nbformat": 4,
 "nbformat_minor": 2
}
