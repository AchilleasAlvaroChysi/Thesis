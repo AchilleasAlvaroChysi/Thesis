{
 "cells": [
  {
   "cell_type": "code",
   "execution_count": 248,
   "metadata": {},
   "outputs": [],
   "source": [
    "import sys\n",
    "import os\n",
    "import csv\n",
    "import time\n",
    "import statistics\n",
    "import numpy as np\n",
    "from numpy import dot\n",
    "from numpy.linalg import norm\n",
    "import networkx as nx\n",
    "import networkx.algorithms\n",
    "from collections import Counter\n",
    "from IPython.display import Image, display\n",
    "from matplotlib import pyplot as plt\n",
    "from scipy.spatial import distance\n",
    "from sklearn.metrics.pairwise import cosine_similarity\n",
    "from matplotlib.widgets import Slider, Button, RadioButtons"
   ]
  },
  {
   "cell_type": "code",
   "execution_count": null,
   "metadata": {},
   "outputs": [],
   "source": [
    "def printProgressBar (iteration, total, prefix = '', suffix = '', decimals = 1, length = 100, fill = '█', printEnd = \"\\r\"):\n",
    "    \"\"\"\n",
    "    Call in a loop to create terminal progress bar\n",
    "    @params:\n",
    "        iteration   - Required  : current iteration (Int)\n",
    "        total       - Required  : total iterations (Int)\n",
    "        prefix      - Optional  : prefix string (Str)\n",
    "        suffix      - Optional  : suffix string (Str)\n",
    "        decimals    - Optional  : positive number of decimals in percent complete (Int)\n",
    "        length      - Optional  : character length of bar (Int)\n",
    "        fill        - Optional  : bar fill character (Str)\n",
    "        printEnd    - Optional  : end character (e.g. \"\\r\", \"\\r\\n\") (Str)\n",
    "    \"\"\"\n",
    "    percent = (\"{0:.\" + str(decimals) + \"f}\").format(100 * (iteration / float(total)))\n",
    "    filledLength = int(length * iteration // total)\n",
    "    bar = fill * filledLength + '-' * (length - filledLength)\n",
    "    print('\\r%s |%s| %s%% %s' % (prefix, bar, percent, suffix), end = printEnd)\n",
    "    # Print New Line on Complete\n",
    "    if iteration == total: \n",
    "        print()"
   ]
  },
  {
   "cell_type": "code",
   "execution_count": null,
   "metadata": {},
   "outputs": [],
   "source": [
    "def getArray (path):\n",
    "    results = []\n",
    "    with open(path) as csvfile:\n",
    "        reader = csv.reader(csvfile,csv.QUOTE_NONNUMERIC) # change contents to floats\n",
    "        for row in reader: # each row is a list\n",
    "            nums = []\n",
    "            for i in row: \n",
    "                if i :\n",
    "                    nums.append(int(i))\n",
    "            results.append(nums)\n",
    "    return results"
   ]
  },
  {
   "cell_type": "code",
   "execution_count": null,
   "metadata": {},
   "outputs": [],
   "source": [
    "def createDirs(fold):\n",
    "    path = \"20%_test\"\n",
    "    pathB = \"/home/achilleas/Desktop/thesis/DATASET F1/specimen_benign/20%_test\"\n",
    "    pathT = \"80%_train\"\n",
    "    # paths = [\"/home/achilleas/Desktop/thesis/DATASET F1/Fold_\"+str(i) for i in range(1,6)]\n",
    "    paths = \"/home/achilleas/Desktop/thesis/DATASET F1/Fold_\"+str(fold)\n",
    "    print(paths)\n",
    "\n",
    "    filename = \"default_G_tone_map\"\n",
    "    mapFilename = \"default_unique_mapping\"\n",
    "    \n",
    "    rootDir = [os.path.join(root, name)\n",
    "             for root, dirs, files in os.walk(paths+\"/\"+path)\n",
    "             for name in files\n",
    "             if name.endswith(filename+\".csv\")]\n",
    "    rootDir.sort()\n",
    "    print(len(rootDir))\n",
    "    # for i in range(len(paths)):\n",
    "    #     p = [os.path.join(root, name)\n",
    "    #              for root, dirs, files in os.walk(paths[i]+\"/\"+path)\n",
    "    #              for name in files\n",
    "    #              if name.endswith(filename+\".csv\")]\n",
    "    #     p.sort()\n",
    "    #     rootDirs[i] = p\n",
    "    # print(rootDirs[10])\n",
    "    benignDir = [os.path.join(root, name)\n",
    "                 for root, dirs, files in os.walk(pathB)\n",
    "                 for name in files\n",
    "                 if name.endswith(filename+\".csv\")]\n",
    "    benignDir.sort()\n",
    "\n",
    "    # for i in range(len(paths)):\n",
    "    trainDir = [os.path.join(root, name)\n",
    "                 for root, dirs, files in os.walk(paths+\"/\"+pathT)\n",
    "                 for name in files\n",
    "                 if name.endswith(filename+\".csv\")]\n",
    "    trainDir.sort()\n",
    "    #     trainDirs[i] = trainDir\n",
    "    return [rootDir,benignDir,trainDir]"
   ]
  },
  {
   "cell_type": "code",
   "execution_count": null,
   "metadata": {},
   "outputs": [],
   "source": [
    "def createGraphs(dirs, npmode):\n",
    "    rootDir = dirs[0]\n",
    "    benignDir = dirs[1]\n",
    "    trainDir = dirs[2]\n",
    "    mal_gs = []\n",
    "    mal_np_gs = []\n",
    "    ben_gs = []\n",
    "    train_gs = []\n",
    "    train_np_gs = []\n",
    "    ben_np_gs = []\n",
    "    csm_vals = {}\n",
    "    for i in range(len(rootDir)):\n",
    "        A = np.array(getArray(rootDir[i]))\n",
    "        G = nx.from_numpy_matrix(A)\n",
    "        mal_gs.append(G)\n",
    "        mal_np_gs.append(A)\n",
    "        printProgressBar(i, len(rootDir)-1,length =50, prefix = 'malware gs')\n",
    "    for i in range(len(trainDir)):\n",
    "        A = np.array(getArray(trainDir[i]))\n",
    "        G = nx.from_numpy_matrix(A)\n",
    "        train_gs.append(G)\n",
    "        train_np_gs.append(A)\n",
    "        printProgressBar(i, len(trainDir)-1,length =50, prefix = 'train gs')\n",
    "        \n",
    "    for i in range(len(benignDir)):\n",
    "        A = np.array(getArray(benignDir[i]))\n",
    "        G = nx.from_numpy_matrix(A)\n",
    "        ben_gs.append(G)\n",
    "        ben_np_gs.append(A)\n",
    "        printProgressBar(i, len(benignDir)-1,length =50, prefix = 'benign gs')\n",
    "    if npmode: \n",
    "        return [mal_np_gs, ben_np_gs, train_np_gs]\n",
    "    else: \n",
    "        return [mal_gs, ben_gs, train_gs]\n",
    "\n"
   ]
  },
  {
   "cell_type": "code",
   "execution_count": null,
   "metadata": {},
   "outputs": [],
   "source": [
    "def findCentrality(graphs):\n",
    "    ben_gs = graphs[0]\n",
    "    mal_gs = graphs[1]\n",
    "    train_gs = graphs[2]\n",
    "    ben_bs = []\n",
    "    mal_bs = []\n",
    "    train_bs = []\n",
    "    ben_centr = []\n",
    "    mal_centr = []\n",
    "    train_centr = []\n",
    "    for i in ben_gs:\n",
    "        ben_bs.append(nx.betweenness_centrality(i))\n",
    "        printProgressBar(ben_gs.index(i),len(ben_gs)-1,length =50, prefix = 'benign')\n",
    "    for j in mal_gs:\n",
    "        mal_bs.append(nx.betweenness_centrality(j))\n",
    "        printProgressBar(mal_gs.index(j),len(mal_gs)-1,length =50,prefix = 'malware',)\n",
    "    for k in train_gs:\n",
    "        train_bs.append(nx.betweenness_centrality(k))\n",
    "        printProgressBar(train_gs.index(k),len(train_gs)-1,length =50,prefix = 'train',)\n",
    "    for i in range(len(ben_bs)):\n",
    "        ben_centr.append(list(ben_bs[i].values()))\n",
    "    for i in range(len(mal_bs)):\n",
    "        mal_centr.append(list(mal_bs[i].values()))\n",
    "        print(list(mal_bs[i].values()))\n",
    "    for i in range(len(train_bs)):\n",
    "        train_centr.append(list(train_bs[i].values()))\n",
    "    return [ben_centr, mal_centr, train_centr]\n"
   ]
  },
  {
   "cell_type": "code",
   "execution_count": null,
   "metadata": {},
   "outputs": [],
   "source": [
    "def calculateDifference(listA, listB, dirs,isBenign):\n",
    "    csm_val = []\n",
    "    rootDir = dirs[0]\n",
    "    benDir = dirs[1]\n",
    "    trainDir = dirs[2]\n",
    "    for i in range(len(listA)):\n",
    "        printProgressBar(i,len(listA)-1,length = min(len(listA), 50),prefix='diff calculation:')\n",
    "        val = []\n",
    "        for j in range(len(listB)):\n",
    "            val.append(1-distance.cosine(listA[i], listB[j]))\n",
    "        if isBenign:\n",
    "            csm_val.append([benDir[i].split('/')[-3],max(val),trainDir[val.index(max(val))].split('/')[-3]])\n",
    "        else :\n",
    "            csm_val.append([rootDir[i].split('/')[-3],max(val),trainDir[val.index(max(val))].split('/')[-3]])\n",
    "    return csm_val"
   ]
  },
  {
   "cell_type": "code",
   "execution_count": null,
   "metadata": {},
   "outputs": [],
   "source": [
    "iterationDirs = [createDirs(i) for i in range(1,6)]"
   ]
  },
  {
   "cell_type": "code",
   "execution_count": null,
   "metadata": {},
   "outputs": [],
   "source": [
    "graphs = [createGraphs(iterationDirs[i],False)for i in range(len(iterationDirs))]"
   ]
  },
  {
   "cell_type": "code",
   "execution_count": null,
   "metadata": {
    "scrolled": true
   },
   "outputs": [],
   "source": [
    "graphCentr = [findCentrality(graphs[i]) for i in range(len(graphs))]"
   ]
  },
  {
   "cell_type": "code",
   "execution_count": null,
   "metadata": {},
   "outputs": [],
   "source": [
    "t = time.time()\n",
    "malwareTests = [calculateDifference(graphCentr[i][0],graphCentr[i][2], \n",
    "                                    iterationDirs[i], False) for i in range(len(graphCentr))]\n",
    "print(\"malware took %f seconds\"%(time.time()-t))"
   ]
  },
  {
   "cell_type": "code",
   "execution_count": 229,
   "metadata": {},
   "outputs": [
    {
     "name": "stdout",
     "output_type": "stream",
     "text": [
      "diff calculation: |███████████████████████████████████| 100.0% \n",
      "diff calculation: |███████████████████████████████████| 100.0% \n",
      "diff calculation: |███████████████████████████████████| 100.0% \n",
      "diff calculation: |███████████████████████████████████| 100.0% \n",
      "diff calculation: |███████████████████████████████████| 100.0% \n"
     ]
    }
   ],
   "source": [
    "benignTests = [calculateDifference(graphCentr[i][1],graphCentr[i][2], \n",
    "                                   iterationDirs[i], True) for i in range(len(graphCentr))]"
   ]
  },
  {
   "cell_type": "code",
   "execution_count": null,
   "metadata": {},
   "outputs": [],
   "source": [
    "def sortTests(test):\n",
    "    sortedTests =[]\n",
    "    for i in range(len(test)):\n",
    "        srTest = sorted(test[i], key = lambda kv:kv[1],reverse = True)\n",
    "        sortedTests.append(srTest)\n",
    "        # sortMalTest = sorted(malwareTests[0], key = lambda kv:kv[1], reverse = True)\n",
    "        # print(sortMalTest)\n",
    "        print()\n",
    "        print('---------iteration %d---------'%(i))\n",
    "        print()\n",
    "        print(srTest)\n",
    "    return sortedTests"
   ]
  },
  {
   "cell_type": "code",
   "execution_count": null,
   "metadata": {},
   "outputs": [],
   "source": [
    "def saveFigures(mal_th, ben_th, start, iteration):\n",
    "    lists = [mal_th,ben_th]\n",
    "    diffs = []\n",
    "    v = 0\n",
    "    for i in range(len(mal_th)):\n",
    "        v = max(v,abs(mal_th[i]-ben_th[i]))\n",
    "        diffs.append(abs(mal_th[i]-ben_th[i]))\n",
    "    print(v)\n",
    "    d = max(diffs)\n",
    "    print(d, mal_th[diffs.index(d)])\n",
    "\n",
    "    for i in lists:\n",
    "        plt.plot(i,marker= 11)\n",
    "    plt.title(\"max dif at %f\"%(diffs[diffs.index(d)]))\n",
    "    plt.legend([\"True positives\",\"False positives\"])\n",
    "    plt.yticks(np.arange(0, 1, 0.05))\n",
    "    plt.xticks(np.arange(0,step, 1))\n",
    "    plt.ylabel(\"\")\n",
    "    plt.draw()\n",
    "    try:\n",
    "        os.mkdir(str(iteration))\n",
    "    except OSError:\n",
    "#         print (\"Creation of the directory %s failed\" % str(iteration))\n",
    "        pass\n",
    "    else:\n",
    "        print (\"Successfully created the directory %s\" % str(iteration))\n",
    "    plt.savefig(str(iteration)+\"/\"+str(start)+\".png\")\n",
    "    plt.clf()\n",
    "\n"
   ]
  },
  {
   "cell_type": "code",
   "execution_count": 230,
   "metadata": {},
   "outputs": [],
   "source": [
    "def similarityMetric(sr):\n",
    "    counterA = 0\n",
    "    counterB = 0\n",
    "    counterC = 0\n",
    "    for i in sr :\n",
    "        A,B = i[0].split(',')[0], i[0].split(',')[1]\n",
    "        C,D = i[2].split(',')[0], i[2].split(',')[1]\n",
    "        if A==C and B==D:\n",
    "            counterA +=1\n",
    "        if A==C or B==D:\n",
    "            counterB +=1\n",
    "        if A==C or A==D or B == C or B == D:\n",
    "            counterC += 1\n",
    "    print(\"cA = %d (%f) cB= %d (%f) cC =%d (%f)\"%(counterA, counterA/len(sr), counterB, counterB/len(sr), counterC, counterC/len(sr)))\n",
    "    return [counterA/len(sr),counterB/len(sr),counterC/len(sr)]"
   ]
  },
  {
   "cell_type": "code",
   "execution_count": 373,
   "metadata": {},
   "outputs": [],
   "source": [
    "def detection(ben, mal, itr, step =10, threshIdx = 0):\n",
    "    dif = 1.0-ben[-1-threshIdx]\n",
    "    thresh = [ben[-1-threshIdx]+i*dif/step for i in range(step)]\n",
    "    vThresh = [round(i,3) for i in thresh]\n",
    "    malsOT = sum(i > thresh for i in mal)\n",
    "    bensOT = sum(i > thresh for i in ben)\n",
    "    print(malsOT)\n",
    "    print(bensOT)\n",
    "    m = np.array(malsOT/len(mal))\n",
    "    p = np.array(bensOT/len(ben))\n",
    "    d = m-p\n",
    "    for i in [m,p]:\n",
    "        plt.plot(i,marker= 'o')\n",
    "\n",
    "    (a,b, c )= plt.stem(np.array([i for i in range(len(p))]),p,linefmt='C0:')\n",
    "    plt.setp(c, visible=False)\n",
    "    plt.yticks(np.arange(0,1.05,0.05))\n",
    "    plt.xticks(np.arange(len(thresh)), vThresh,rotation= 'vertical')    \n",
    "    plt.legend(['malware','benign'])\n",
    "    plt.figtext(.2,.2, \"max dif %f at %d\"%(max(d),np.where(d== max(d))[0]))\n",
    "    plt.draw()\n",
    "    \n",
    "    try:\n",
    "        os.mkdir(str(itr)+\"--BTWC\")\n",
    "    except OSError:\n",
    "#         print (\"Creation of the directory %s failed\" % str(iteration))\n",
    "        pass\n",
    "    else:\n",
    "        print (\"Successfully created the directory %s\" % str(itr))\n",
    "    \n",
    "    plt.title('detection at '+str(itr)+ ' iteration // first threshold = '+ str(thresh[-1 -threshIdx]))\n",
    "    plt.savefig(str(itr)+\"--BTWC/\"+str(threshIdx)+'--btc.png')\n",
    "    plt.clf()"
   ]
  },
  {
   "cell_type": "code",
   "execution_count": null,
   "metadata": {
    "scrolled": true
   },
   "outputs": [],
   "source": [
    "sortBenignTests= sortTests(benignTests)"
   ]
  },
  {
   "cell_type": "code",
   "execution_count": null,
   "metadata": {},
   "outputs": [],
   "source": [
    "sortMalwareTests =  sortTests(malwareTests)"
   ]
  },
  {
   "cell_type": "code",
   "execution_count": null,
   "metadata": {},
   "outputs": [],
   "source": [
    "malwares =  [[sortMalwareTests[j][i][1] for i in range(len(sortMalwareTests[j]))] \n",
    "             for j in range(len(sortMalwareTests))]\n",
    "benigns =  [[sortBenignTests[j][i][1] for i in range(len(sortBenignTests[j]))] \n",
    "             for j in range(len(sortBenignTests))]"
   ]
  },
  {
   "cell_type": "code",
   "execution_count": 342,
   "metadata": {},
   "outputs": [
    {
     "name": "stdout",
     "output_type": "stream",
     "text": [
      "[1.0, 1.0, 1.0, 0.9997878937928353, 0.999525610606294, 0.999396477344311, 0.9993574445469795, 0.9977934076304636, 0.9968699461783223, 0.9958794239100288, 0.9954295987566565, 0.9946736375907338, 0.9943800154268131, 0.993802219789989, 0.9915109356245235, 0.9891444937318298, 0.9872611180672923, 0.9865720874859274, 0.9861086368284955, 0.9800910262407794, 0.9778535674900424, 0.9740429036811438, 0.9737885498973333, 0.9728705368452987, 0.9691700524883922, 0.967858917960301, 0.9645328960256325, 0.9614477844957747, 0.9604938373840788, 0.9541644785923894, 0.9516055029539386, 0.9507694541122511, 0.9398583261745685, 0.9346179859545285, 0.8866506879792664]\n"
     ]
    }
   ],
   "source": [
    "print(benigns[0])"
   ]
  },
  {
   "cell_type": "code",
   "execution_count": 375,
   "metadata": {
    "scrolled": true
   },
   "outputs": [
    {
     "name": "stdout",
     "output_type": "stream",
     "text": [
      "[521 520 520 519 519 518 514 514 502 486]\n",
      "[34 34 34 34 34 32 29 26 21 16]\n",
      "[517 516 516 516 516 515 513 510 499 486]\n",
      "[34 34 33 32 30 27 25 21 19 14]\n",
      "[520 519 519 518 517 515 513 506 502 484]\n",
      "[34 34 33 32 30 28 25 20 18 14]\n",
      "[521 521 520 518 517 514 509 504 500 483]\n",
      "[34 34 33 32 30 28 25 21 18 12]\n",
      "[528 528 525 524 523 523 520 515 508 496]\n",
      "[34 34 33 32 30 28 25 20 18 14]\n",
      "[519 519 516 514 514 514 509 498 490 476]\n",
      "[33 32 32 29 28 26 22 19 17 14]\n",
      "[516 516 516 515 515 513 510 508 495 479]\n",
      "[33 32 32 29 27 26 22 19 18 14]\n",
      "[519 519 517 515 515 513 507 505 495 479]\n",
      "[33 32 32 29 28 26 22 18 17 14]\n",
      "[521 519 518 516 514 511 504 500 494 479]\n",
      "[33 32 32 29 28 26 22 19 17 12]\n",
      "[525 525 523 523 523 521 517 510 503 492]\n",
      "[33 32 32 29 28 26 20 18 18 14]\n",
      "[519 517 514 514 514 511 506 498 488 476]\n",
      "[32 32 30 29 27 24 21 19 16 13]\n",
      "[516 516 516 515 513 512 510 505 494 477]\n",
      "[32 32 30 29 26 24 21 19 17 13]\n",
      "[519 518 517 515 514 512 507 503 493 474]\n",
      "[32 32 30 29 27 24 20 18 17 13]\n",
      "[519 518 517 516 512 508 504 500 490 476]\n",
      "[32 32 30 29 27 24 21 19 16 12]\n",
      "[525 524 523 523 523 520 515 508 503 489]\n",
      "[32 32 30 29 27 23 20 18 17 13]\n",
      "[514 514 514 514 510 507 498 495 484 471]\n",
      "[31 29 28 26 24 21 19 19 15 11]\n",
      "[516 515 515 513 512 510 508 499 489 474]\n",
      "[31 29 27 26 24 21 19 19 15 11]\n",
      "[517 515 515 514 512 507 505 501 491 469]\n",
      "[31 29 28 26 24 20 18 18 15 11]\n",
      "[518 517 516 512 508 504 501 500 488 472]\n",
      "[31 30 29 27 24 21 19 18 14 11]\n",
      "[523 523 523 521 520 516 510 506 498 484]\n",
      "[31 29 28 26 23 20 18 18 14 11]\n",
      "[514 514 514 514 510 507 498 495 482 470]\n",
      "[30 29 28 26 24 21 19 19 15 11]\n",
      "[516 515 514 513 512 510 507 499 488 474]\n",
      "[30 29 27 26 24 21 19 19 15 11]\n",
      "[517 515 515 514 512 507 505 501 490 469]\n",
      "[30 29 28 26 24 20 18 18 15 11]\n",
      "[518 516 516 512 508 504 500 500 488 472]\n",
      "[30 29 29 27 24 21 19 18 14 11]\n",
      "[523 523 523 521 519 515 510 506 498 484]\n",
      "[30 29 28 26 22 20 18 18 14 11]\n",
      "[514 514 514 513 509 504 498 492 482 469]\n",
      "[29 29 27 25 24 21 19 18 15 11]\n",
      "[515 515 513 513 511 510 506 496 487 471]\n",
      "[29 29 26 25 24 21 19 18 15 11]\n",
      "[515 515 514 513 508 506 504 496 489 467]\n",
      "[29 29 27 25 23 20 18 17 15 11]\n",
      "[516 516 513 511 505 503 500 495 486 469]\n",
      "[29 29 27 25 24 21 19 17 14 11]\n",
      "[523 523 523 520 519 513 508 505 497 481]\n",
      "[29 29 27 25 22 20 18 18 14 11]\n",
      "[514 514 512 509 506 498 496 488 479 467]\n",
      "[28 27 25 24 21 19 19 16 14  9]\n",
      "[515 513 513 512 510 508 502 494 486 468]\n",
      "[28 26 26 24 21 20 19 17 14 11]\n",
      "[515 514 513 509 506 505 502 493 484 466]\n",
      "[28 27 25 23 20 19 18 17 14 11]\n",
      "[515 512 509 506 504 500 500 490 483 467]\n",
      "[28 27 25 24 21 19 18 16 12 11]\n",
      "[523 523 520 519 515 510 508 503 496 478]\n",
      "[28 27 25 22 20 18 18 17 14 11]\n",
      "[514 514 511 509 504 498 495 488 478 467]\n",
      "[27 26 25 23 21 19 19 16 14  9]\n",
      "[515 513 513 512 510 508 499 494 486 466]\n",
      "[27 26 25 24 21 19 19 17 14 11]\n",
      "[515 514 512 508 506 505 502 492 484 465]\n",
      "[27 26 24 22 20 18 18 17 14 11]\n",
      "[514 512 508 504 504 500 500 489 482 466]\n",
      "[27 26 25 23 21 19 18 16 12 11]\n",
      "[523 521 520 518 515 510 508 502 496 478]\n",
      "[27 26 25 22 20 18 18 17 14 11]\n",
      "[514 513 509 507 500 497 494 484 477 464]\n",
      "[26 25 24 21 20 19 19 15 14  9]\n",
      "[514 513 513 511 510 507 499 493 485 466]\n",
      "[26 26 25 23 21 19 19 17 14 11]\n",
      "[514 513 511 507 506 503 498 491 482 464]\n",
      "[26 25 24 20 20 18 18 16 14 11]\n",
      "[512 511 506 504 502 500 498 489 481 462]\n",
      "[26 25 24 21 19 19 18 15 12 11]\n",
      "[523 520 519 517 511 508 505 500 492 477]\n",
      "[26 25 22 20 19 18 18 15 14 11]\n",
      "[513 510 508 501 498 496 490 482 476 461]\n",
      "[25 24 21 21 19 19 17 15 14  9]\n",
      "[513 512 510 510 507 502 495 488 478 462]\n",
      "[25 24 21 21 19 19 18 15 14 11]\n",
      "[513 512 507 506 505 502 495 490 477 460]\n",
      "[25 24 21 20 18 18 17 15 14 11]\n",
      "[511 506 504 503 500 500 493 488 479 460]\n",
      "[25 24 21 21 19 18 17 14 12 11]\n",
      "[520 519 517 513 510 508 503 497 491 477]\n",
      "[25 22 20 20 18 18 18 14 14 10]\n"
     ]
    },
    {
     "data": {
      "text/plain": [
       "<Figure size 432x288 with 0 Axes>"
      ]
     },
     "metadata": {},
     "output_type": "display_data"
    }
   ],
   "source": [
    "step = 10\n",
    "for j in range(step):\n",
    "    for i in range(len(benigns)):\n",
    "        detection(benigns[i], malwares[i], i,threshIdx = j)"
   ]
  },
  {
   "cell_type": "code",
   "execution_count": null,
   "metadata": {},
   "outputs": [],
   "source": [
    "similarities = [similarityMetric(sortMalwareTests[i]) for i in range(len(sortMalwareTests))]\n",
    "for i in similarities :\n",
    "    print(i)\n",
    "print('-------------------------------\\n')\n",
    "counts = [[i[j] for i in similarities] for j in range(len(i))]\n",
    "avg = [statistics.mean(i) for i in counts]\n",
    "\n",
    "for j in avg : print(j)"
   ]
  }
 ],
 "metadata": {
  "kernelspec": {
   "display_name": "Python 3",
   "language": "python",
   "name": "python3"
  },
  "language_info": {
   "codemirror_mode": {
    "name": "ipython",
    "version": 3
   },
   "file_extension": ".py",
   "mimetype": "text/x-python",
   "name": "python",
   "nbconvert_exporter": "python",
   "pygments_lexer": "ipython3",
   "version": "3.6.5"
  }
 },
 "nbformat": 4,
 "nbformat_minor": 2
}
