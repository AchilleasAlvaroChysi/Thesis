{
 "cells": [
  {
   "cell_type": "code",
   "execution_count": 1,
   "metadata": {
    "scrolled": false
   },
   "outputs": [],
   "source": [
    "from collections import defaultdict \n",
    "import pydot\n",
    "import statistics\n",
    "import os\n",
    "import sys\n",
    "import csv\n",
    "import random\n",
    "import time\n",
    "from datetime import datetime \n",
    "from collections import Counter\n",
    "import seaborn as sns\n",
    "from IPython.display import Image, display\n",
    "from matplotlib import pyplot as plt\n"
   ]
  },
  {
   "cell_type": "code",
   "execution_count": 2,
   "metadata": {
    "scrolled": false
   },
   "outputs": [],
   "source": [
    "path = \"/home/achilleas/Desktop/thesis/DATASET F1/Fold_1/20%_test\"\n",
    "pathB = \"/home/achilleas/Desktop/thesis/DATASET F1/specimen_benign/20%_test\"\n",
    "pathT = \"/home/achilleas/Desktop/thesis/DATASET F1/Fold_1/80%_train\"\n",
    "\n",
    "# filename = \"default_G_tone_UNIQUES_map\"\n",
    "filename = \"default_G_tone_map\"\n",
    "# filename = \"CVGB\"\n",
    "grgFilename = \"default_G'\"\n",
    "mapFilename = \"default_unique_mapping\"\n",
    "rootDir = [os.path.join(root, name)\n",
    "             for root, dirs, files in os.walk(path)\n",
    "             for name in files\n",
    "             if name.endswith(filename+\".csv\")]\n",
    "rootDir.sort()\n",
    "benignDir = [os.path.join(root, name)\n",
    "             for root, dirs, files in os.walk(pathB)\n",
    "             for name in files\n",
    "             if name.endswith(filename+\".csv\")]\n",
    "benignDir.sort()\n",
    "trainDir = [os.path.join(root, name)\n",
    "             for root, dirs, files in os.walk(pathT)\n",
    "             for name in files\n",
    "             if name.endswith(filename+\".csv\")]\n",
    "trainDir.sort()\n",
    "\n",
    "grgDir = [os.path.join(root,name)\n",
    "             for root, dirs, files in os.walk(path)\n",
    "             for name in files\n",
    "             if name.endswith(grgFilename+\".txt\")]\n"
   ]
  },
  {
   "cell_type": "code",
   "execution_count": 3,
   "metadata": {
    "scrolled": false
   },
   "outputs": [],
   "source": [
    "classes = {\"ACCESS_MASK\":0,\"Atom\":1,\"BOOLEAN\":2,\"Debug\":3,\"Device\":4,\n",
    "                                 \"Environment\":5,\"File\":6,\"HANDLE\":7,\"Job\":8,\"LONG\":9,\"LPC\":10,\n",
    "                                 \"Memory\":11,\"NTSTATUS\":12,\"Object\":13,\"Other\":14,\"PHANDLE\":15,\n",
    "                                 \"PLARGE_INTEGER\":16,\"Process\":17,\"PUNICODE_STRING\":18,\n",
    "                                 \"PULONG\":19,\"PULARGE_INTEGER\":20,\"PVOID_SIZEAFTER\":21,\n",
    "                                 \"PWSTR\":22,\"Registry\":23,\"Security\":24,\"Synchronization\":25,\n",
    "                                 \"Time\":26,\"Transaction\":27,\"ULONG\":28,\"WOW64\":29, \"DummyStart\":30,\"DummyEnd\":31}"
   ]
  },
  {
   "cell_type": "code",
   "execution_count": 4,
   "metadata": {
    "scrolled": false
   },
   "outputs": [],
   "source": [
    "# Python program for implementation of Ford Fulkerson algorithm \n",
    "\n",
    "\n",
    "#This class represents a directed graph using adjacency matrix representation \n",
    "class Graph: \n",
    "\n",
    "    def __init__(self,graph): \n",
    "        self.graph = graph # residual graph \n",
    "        self. ROW = len(graph) \n",
    "        #self.COL = len(gr[0]) \n",
    "        \n",
    "\n",
    "    '''Returns true if there is a path from source 's' to sink 't' in \n",
    "    residual graph. Also fills parent[] to store the path '''\n",
    "    \n",
    "    def isReachable(self, s, d):\n",
    "        # Mark all the vertices as not visited \n",
    "        visited =[False]*(self.ROW) \n",
    "        # Create a queue for BFS \n",
    "        queue=[] \n",
    "        \n",
    "        # Mark the source node as visited and enqueue it \n",
    "        queue.append(s) \n",
    "        visited[s] = True\n",
    "\n",
    "        while queue:\n",
    "            #Dequeue a vertex from queue  \n",
    "            n = queue.pop(0) \n",
    "            \n",
    "            # If this adjacent node is the destination node, \n",
    "            # then return true \n",
    "            if n == d: \n",
    "                return True\n",
    "\n",
    "            #  Else, continue to do BFS \n",
    "            \n",
    "            for ind, val in enumerate(self.graph[n]): \n",
    "                if visited[ind] == False and val > 0 : \n",
    "                    queue.append(ind) \n",
    "                    visited[ind] = True\n",
    "        # If BFS is complete without visited d \n",
    "        return False\n",
    "        \n",
    "    def BFS(self,s, t, parent): \n",
    "        \n",
    "        # Mark all the vertices as not visited \n",
    "        visited =[False]*(self.ROW) \n",
    "        \n",
    "        # Create a queue for BFS \n",
    "        queue=[] \n",
    "        \n",
    "        # Mark the source node as visited and enqueue it \n",
    "        queue.append(s) \n",
    "        visited[s] = True\n",
    "        \n",
    "        # Standard BFS Loop \n",
    "        while queue: \n",
    "\n",
    "            #Dequeue a vertex from queue and print it \n",
    "            u = queue.pop(0) \n",
    "\n",
    "            # Get all adjacent vertices of the dequeued vertex u \n",
    "            # If a adjacent has not been visited, then mark it \n",
    "            # visited and enqueue it \n",
    "            for ind, val in enumerate(self.graph[u]): \n",
    "                if visited[ind] == False and val > 0 : \n",
    "                    queue.append(ind) \n",
    "                    visited[ind] = True\n",
    "                    parent[ind] = u \n",
    "        # If we reached sink in BFS starting from source, then return \n",
    "        # true, else false \n",
    "        return True if visited[t] else False\n",
    "\n",
    "\n",
    "    # Returns tne maximum flow from s to t in the given graph \n",
    "    def FordFulkerson(self, source, sink): \n",
    "        # This array is filled by BFS and to store path \n",
    "        parent = [-1]*(self.ROW) \n",
    "\n",
    "        max_flow = 0 # There is no flow initially \n",
    "\n",
    "        if not self.isReachable(source,sink):\n",
    "            return 0\n",
    "        # Augment the flow while there is path from source to sink \n",
    "        while self.BFS(source, sink, parent) : \n",
    "\n",
    "            # Find minimum residual capacity of the edges along the \n",
    "            # path filled by BFS. Or we can say find the maximum flow \n",
    "            # through the path found. \n",
    "            path_flow = float(\"Inf\") \n",
    "            s = sink \n",
    "            while(s != source): \n",
    "                path_flow = min (path_flow, self.graph[parent[s]][s]) \n",
    "                s = parent[s] \n",
    "            # Add path flow to overall flow \n",
    "            max_flow += path_flow \n",
    "\n",
    "            # update residual capacities of the edges and reverse edges \n",
    "            # along the path \n",
    "            v = sink \n",
    "            while(v != source): \n",
    "                u = parent[v] \n",
    "                self.graph[u][v] -= path_flow \n",
    "                self.graph[v][u] += path_flow \n",
    "                v = parent[v] \n",
    "#         print (\"max flow is: \"+str(max_flow))\n",
    "        return max_flow\n",
    "\n",
    "\n",
    "# # Create a graph given in the above diagram \n",
    "\n",
    "# graph = [[0, 16, 13, 0, 0, 0], \n",
    "# \t\t[0, 0, 10, 12, 0, 0], \n",
    "# \t\t[0, 4, 0, 0, 14, 0], \n",
    "# \t\t[0, 0, 9, 0, 0, 20], \n",
    "# \t\t[0, 0, 0, 7, 0, 4], \n",
    "# \t\t[0, 0, 0, 0, 0, 0]] \n",
    "\n",
    "# g = Graph(graph) \n",
    "\n",
    "# source = 0; sink = 5\n",
    "\n",
    "# print (\"The maximum possible flow is %d \" % g.FordFulkerson(source, sink)) \n",
    "\n",
    "# #This code is contributed by Neelam Yadav \n"
   ]
  },
  {
   "cell_type": "code",
   "execution_count": 5,
   "metadata": {
    "scrolled": false
   },
   "outputs": [],
   "source": [
    "def Bfs(C, F, s, t):  # C is the capacity matrix\n",
    "    n = len(C)\n",
    "    queue = []\n",
    "    queue.append(s)\n",
    "    global level\n",
    "    level = n * [0]  # initialization\n",
    "    level[s] = 1  \n",
    "    while queue:\n",
    "        k = queue.pop(0)\n",
    "        for i in range(n):\n",
    "                if (F[k][i] < C[k][i]) and (level[i] == 0): # not visited\n",
    "                        level[i] = level[k] + 1\n",
    "                        queue.append(i)\n",
    "    return level[t] > 0"
   ]
  },
  {
   "cell_type": "code",
   "execution_count": 6,
   "metadata": {
    "scrolled": false
   },
   "outputs": [],
   "source": [
    "def Dfs(C, F, k, cp):\n",
    "    tmp = cp\n",
    "    if k == len(C)-1:\n",
    "        return cp\n",
    "    for i in range(len(C)):\n",
    "        if (level[i] == level[k] + 1) and (F[k][i] < C[k][i]):\n",
    "            f = Dfs(C,F,i,min(tmp,C[k][i] - F[k][i]))\n",
    "            F[k][i] = F[k][i] + f\n",
    "            F[i][k] = F[i][k] - f\n",
    "            tmp = tmp - f\n",
    "    return cp - tmp"
   ]
  },
  {
   "cell_type": "code",
   "execution_count": 7,
   "metadata": {
    "scrolled": false
   },
   "outputs": [],
   "source": [
    "def MaxFlow(C,s,t):\n",
    "    n = len(C)\n",
    "    F = [n*[0] for i in range(n)] # F is the flow matrix\n",
    "    flow = 0\n",
    "    while(Bfs(C,F,s,t)):\n",
    "           flow = flow + Dfs(C,F,s,100000)\n",
    "    return flow"
   ]
  },
  {
   "cell_type": "code",
   "execution_count": 8,
   "metadata": {
    "scrolled": false
   },
   "outputs": [],
   "source": [
    "def getSourceSink(path):\n",
    "    verteces = []\n",
    "    with open(path) as fp:\n",
    "        line = fp.readline()\n",
    "        while line:\n",
    "            verteces.append(line.split(\",\"))\n",
    "            line = fp.readline()\n",
    "    return [verteces[0][0],verteces[-1][1].strip()]"
   ]
  },
  {
   "cell_type": "code",
   "execution_count": 9,
   "metadata": {
    "scrolled": false
   },
   "outputs": [],
   "source": [
    "def getArray (path):\n",
    "    results = []\n",
    "    with open(path) as csvfile:\n",
    "        reader = csv.reader(csvfile,csv.QUOTE_NONNUMERIC) # change contents to floats\n",
    "        for row in reader: # each row is a list\n",
    "            nums = []\n",
    "            for i in row: \n",
    "                if i :\n",
    "                    nums.append(int(i))\n",
    "            results.append(nums)\n",
    "    return results"
   ]
  },
  {
   "cell_type": "code",
   "execution_count": 10,
   "metadata": {
    "scrolled": false
   },
   "outputs": [],
   "source": [
    "def createExtendedG(g):\n",
    "    parents = []\n",
    "    children = []\n",
    "    for i in range(len(g)):\n",
    "        for j in range(len(g[i])):\n",
    "            if g[i][j]!=0:\n",
    "                break\n",
    "            else:\n",
    "                children.append(i)\n",
    "    for i in range(len(g)):\n",
    "        for j in range(len(g[i])):\n",
    "            if g[j][i]!=0:\n",
    "                break\n",
    "            else:\n",
    "                parents.append(i)\n",
    "                \n",
    "    for i in range(len(g)):\n",
    "        g[i].append(0)\n",
    "        g[i].append(0)\n",
    "    leng= len(g)\n",
    "    g.append([0 for i in range (leng+2)])\n",
    "    g.append([0 for i in range (leng+2)])\n",
    "    \n",
    "    for i in children :\n",
    "        g[i][-1] = 1\n",
    "    for j in parents:\n",
    "        g[-2][j]=1\n",
    "    return g"
   ]
  },
  {
   "cell_type": "code",
   "execution_count": 11,
   "metadata": {
    "scrolled": false
   },
   "outputs": [],
   "source": [
    "def createImage(g,path):\n",
    "    G = pydot.Dot(graph_type='digraph')\n",
    "    for i in range(len(g)):\n",
    "        x = pydot.Node(i)\n",
    "        for j in range(len(g[i])):\n",
    "            if g[i][j]!= 0 :\n",
    "                y = pydot.Node(j)\n",
    "                e = pydot.Edge(i,j)\n",
    "                G.add_edge(e)\n",
    "                \n",
    "    im = Image(G.create_png())\n",
    "    G.write_png(path)\n",
    "    display(im)             "
   ]
  },
  {
   "cell_type": "code",
   "execution_count": 12,
   "metadata": {
    "scrolled": false
   },
   "outputs": [],
   "source": [
    "def findMaxOutDegreeVertex(g):\n",
    "    outDegrees={}\n",
    "    return_matrix = []\n",
    "    for i in range(len(g)):\n",
    "        for j in range(len(g[i])):\n",
    "            if g[i][j]!=0:\n",
    "                if i not in outDegrees:\n",
    "                    outDegrees[i]=[g[i][j],1]\n",
    "                else: \n",
    "                    weight = outDegrees[i][0]+g[i][j]\n",
    "                    cardinality = outDegrees[i][1]+1\n",
    "                    outDegrees[i]=[weight,cardinality]\n",
    "    return outDegrees\n",
    "    "
   ]
  },
  {
   "cell_type": "code",
   "execution_count": 13,
   "metadata": {
    "scrolled": false
   },
   "outputs": [],
   "source": [
    "def findMaxInDegreeVertex(g):\n",
    "    inDegrees= {}\n",
    "    return_matrix = []\n",
    "    for i in range (len(g)):\n",
    "        for j in range(len(g[i])):\n",
    "            if g[j][i]!=0:\n",
    "                if i not in inDegrees:\n",
    "                    inDegrees[i] = [g[j][i],1]\n",
    "                else: \n",
    "                    weight = inDegrees[i][0]+g[j][i]\n",
    "                    cardinality = inDegrees[i][1]+1\n",
    "                    inDegrees[i]=[weight,cardinality]\n",
    "                    \n",
    "    return inDegrees    \n"
   ]
  },
  {
   "cell_type": "code",
   "execution_count": 14,
   "metadata": {
    "scrolled": false
   },
   "outputs": [],
   "source": [
    "def createCoverageGraph(g):\n",
    "    cvg = []\n",
    "    combinedDegrees = {}\n",
    "    inDegrees = findMaxInDegreeVertex(g)\n",
    "    inKeys =list(inDegrees.keys())\n",
    "    outDegrees = findMaxOutDegreeVertex(g)\n",
    "    outKeys =list(outDegrees.keys())\n",
    "    combinedDegrees= outDegrees.copy()\n",
    "    for i in inKeys:\n",
    "        if i in outDegrees:\n",
    "            combinedDegrees[i] = [inDegrees[i][0]+outDegrees[i][0], inDegrees[i][1]+outDegrees[i][1]]\n",
    "        else : \n",
    "            combinedDegrees[i] = inDegrees[i]\n",
    "    sortedcDegrees = sorted(combinedDegrees.items(), key = lambda kv:kv[0])     \n",
    "    cKeys = [i[0] for i in sortedcDegrees]\n",
    "    for i in range(30):\n",
    "        row = [0 for k in range(30)]\n",
    "        if i not in cKeys:\n",
    "            cvg.append(row)\n",
    "            continue\n",
    "        weight = combinedDegrees[i][0]\n",
    "        cardinality = combinedDegrees[i][1]\n",
    "        for j in cKeys:\n",
    "            if weight > combinedDegrees[j][0] and cardinality > combinedDegrees[j][1]:\n",
    "                row[j] = 1\n",
    "        cvg.append(row)\n",
    "        \n",
    "\n",
    "    return cvg\n",
    "    "
   ]
  },
  {
   "cell_type": "markdown",
   "metadata": {},
   "source": [
    "# def writeCSV()\n",
    "generic method to quickly write a graph to a csv file."
   ]
  },
  {
   "cell_type": "code",
   "execution_count": 15,
   "metadata": {
    "scrolled": false
   },
   "outputs": [],
   "source": [
    "def writeCSV(g,path,name):\n",
    "    path_spl = path.split('/')\n",
    "    path_spl[-1] = name\n",
    "    sp_path = '/'.join(path_spl)\n",
    "    with open(sp_path, mode='w') as cvg_file:\n",
    "        cvg_writer = csv.writer(cvg_file, delimiter=',', quotechar='\"', quoting=csv.QUOTE_MINIMAL)\n",
    "        for i in g:\n",
    "            cvg_writer.writerow(i)"
   ]
  },
  {
   "cell_type": "markdown",
   "metadata": {},
   "source": [
    "# def executeTrial ()\n",
    "## here we call the max Flow algorithm \n",
    "### Max flow in GRG\n",
    "* if we get the source and the sink from the default G' the algorithm stops in cases of first caller X and last called X function.\n",
    "* if we get the source and the sink from the default G_tone_cardinality tests show that nothing stops the algorithm as in all cases the first caller is different than the last called\n",
    "\n",
    "### Max flow in CVG\n",
    "* the algorithm works fine.\n"
   ]
  },
  {
   "cell_type": "code",
   "execution_count": 16,
   "metadata": {
    "scrolled": false
   },
   "outputs": [],
   "source": [
    "def executeTrial(path):\n",
    "    sp_path = path.split('/')\n",
    "    family = sp_path[-3]\n",
    "    write_path = '/'.join(sp_path)\n",
    "#     graph = createExtendedG(createCoverageGraph(getArray(path)))\n",
    "    graph = getArray(path)\n",
    "#     for i in range(len(graph)):\n",
    "#         for j in range(len(graph[i])):\n",
    "#             if graph[i][j]!=0:\n",
    "#                 graph[i][j] =1\n",
    "#     g = Graph(createExtendedG(createCoverageGraph(graph)))\n",
    "    sp_path[-1]= \"default_G_tone_cardinality.txt\"\n",
    "#     source = 30\n",
    "#     sink = 31\n",
    "    source = classes[getSourceSink('/'.join(sp_path))[0]]\n",
    "    sink = classes[getSourceSink('/'.join(sp_path))[1]]\n",
    "#     print(\"source %d sink %d\"%(source,sink))\n",
    "    fG = Graph(graph).FordFulkerson(source,sink)\n",
    "#     fG = MaxFlow(graph,source,sink)\n",
    "    return [fG, family]"
   ]
  },
  {
   "cell_type": "markdown",
   "metadata": {},
   "source": [
    "# def experiment()\n",
    "wrapper method to execute and calculate median max flow for each member of our dataset\n",
    "## median\n",
    "we prefer median values of the flows because they are more robust to individual extreme flows"
   ]
  },
  {
   "cell_type": "code",
   "execution_count": 19,
   "metadata": {
    "scrolled": false
   },
   "outputs": [],
   "source": [
    "def experiment(dirs):\n",
    "#     print(len(dirs))\n",
    "    max_flow_vals={}\n",
    "    mean_max_flow={}\n",
    "    mean_flows = []\n",
    "    total_values = []\n",
    "    for i in dirs:\n",
    "        values= executeTrial(i)\n",
    "        total_values.append(values[0])\n",
    "        if values[1] in max_flow_vals:\n",
    "            max_flow_vals[values[1]].append(values[0])\n",
    "        else : \n",
    "            max_flow_vals[values[1]]= [values[0]]\n",
    "\n",
    "    for i in max_flow_vals:\n",
    "        mean_max_flow[i] = statistics.median(max_flow_vals[i])\n",
    "    for i in mean_max_flow :\n",
    "        mean_flows.append(mean_max_flow[i])\n",
    "        \n",
    "    return mean_max_flow"
   ]
  },
  {
   "cell_type": "markdown",
   "metadata": {},
   "source": [
    "# main body \n",
    "here we make separate calls in our functions to test the validity of the above methods"
   ]
  },
  {
   "cell_type": "code",
   "execution_count": 20,
   "metadata": {
    "scrolled": true
   },
   "outputs": [
    {
     "data": {
      "image/png": "[encoded data removed]",
      "text/plain": [
       "<Figure size 432x288 with 1 Axes>"
      ]
     },
     "metadata": {},
     "output_type": "display_data"
    },
    {
     "data": {
      "text/plain": [
       "<Figure size 432x288 with 0 Axes>"
      ]
     },
     "metadata": {},
     "output_type": "display_data"
    }
   ],
   "source": [
    "root_flows = experiment(rootDir)\n",
    "benign_flows = experiment(benignDir)\n",
    "train_flows = experiment(trainDir)\n",
    "# mal_corners = [min(root_flows), max(root_flows)]\n",
    "# benign_corners = [min(benign_flows), max(benign_flows)]\n",
    "\n",
    "\n",
    "# print(\"mal_corners:\")\n",
    "# print(mal_corners)\n",
    "# print(\"benign_corners:\")\n",
    "# print(benign_corners)\n",
    "\n",
    "sort_root = sorted(root_flows.items(), key = lambda kv:kv[1])\n",
    "sort_benign = sorted(benign_flows.items(), key = lambda kv:kv[1])\n",
    "sort_train = sorted(train_flows.items(), key = lambda kv:kv[1])\n",
    "\n",
    "# print()\n",
    "\n",
    "sort_root_vals = [i[1] for i in sort_root]\n",
    "sort_benign_vals = [i[1] for i in sort_benign]\n",
    "sort_train_vals = [i[1] for i in sort_train]\n",
    "\n",
    "\n",
    "sort_root_names = [i[0] for i in sort_root]\n",
    "sort_benign_names = [i[0] for i in sort_benign]\n",
    "sort_train_names = [i[0] for i in sort_train]\n",
    "\n",
    "\n",
    "sorted_root_flows = sorted(root_flows)\n",
    "sorted_benign_flows= sorted(benign_flows)\n",
    "\n",
    "\n",
    "\n",
    "# bCount =sorted(Counter(benign_flows).items(),key = lambda kv:kv[0])\n",
    "# mCount = sorted(Counter(root_flows).items(),key = lambda kv:kv[0])\n",
    "\n",
    "\n",
    "\n",
    "# --------------------------------------------\n",
    "lists = [sort_root_vals, sort_benign_vals,sort_train_vals]\n",
    "names = [sort_root_names, sort_benign_names, sort_train_names]\n",
    "\n",
    "for i in lists:\n",
    "    plt.plot(i,marker=11)\n",
    "fig = plt.gcf()\n",
    "plt.show()\n",
    "plt.draw()\n",
    "\n",
    "fig.savefig('maxFlow.png')\n",
    "#---------------------------------------------------\n",
    "# executeTrial(rootDir[0])\n",
    "# ar = [[0,1,1,1,1],\n",
    "#       [0,0,0,1,1],\n",
    "#       [0,0,0,1,1],\n",
    "#       [0,0,0,0,1],\n",
    "#       [0,0,0,0,0]]\n",
    "# createExtendedG(ar)\n",
    "# cvg = createCoverageGraph(getArray(rootDir[0]),rootDir[0])\n",
    "\n",
    "# for i in rootDir:\n",
    "#     writeCSV(createExtendedG(createCoverageGraph(getArray(i))),i, 'CVGB.csv')\n",
    "# for i in cvg:\n",
    "#     print(i)\n",
    "# g = createExtendedG(ar)\n",
    "# G = pydot.Dot(graph_type='digraph')\n",
    "# for i in range(len(g)):\n",
    "#     x = pydot.Node(i)\n",
    "#     for j in range(len(g[i])):\n",
    "#         if g[i][j]!= 0 :\n",
    "#             y = pydot.Node(j)\n",
    "#             e = pydot.Edge(i,j)\n",
    "#             G.add_edge(e)\n",
    "                \n",
    "# im = Image(G.create_png())\n",
    "# display(im)             "
   ]
  },
  {
   "cell_type": "code",
   "execution_count": null,
   "metadata": {
    "scrolled": false
   },
   "outputs": [],
   "source": []
  }
 ],
 "metadata": {
  "kernelspec": {
   "display_name": "Python 3",
   "language": "python",
   "name": "python3"
  },
  "language_info": {
   "codemirror_mode": {
    "name": "ipython",
    "version": 3
   },
   "file_extension": ".py",
   "mimetype": "text/x-python",
   "name": "python",
   "nbconvert_exporter": "python",
   "pygments_lexer": "ipython3",
   "version": "3.6.5"
  }
 },
 "nbformat": 4,
 "nbformat_minor": 2
}
