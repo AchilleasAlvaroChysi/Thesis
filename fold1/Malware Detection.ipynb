{
 "cells": [
  {
   "cell_type": "code",
   "execution_count": null,
   "metadata": {
    "scrolled": true
   },
   "outputs": [],
   "source": [
    "from collections import defaultdict \n",
    "import pydot\n",
    "import statistics\n",
    "import os\n",
    "import sys\n",
    "import csv\n",
    "import math\n",
    "import random\n",
    "import time\n",
    "import networkx as nx\n",
    "from matplotlib.pyplot import figure\n",
    "from networkx.algorithms.flow import edmonds_karp\n",
    "from pathlib import Path, PureWindowsPath\n",
    "import FordFulkerson as ff\n",
    "import EdmondsKarp as EK\n",
    "from multiprocessing import Pool\n",
    "from collections import Counter\n",
    "from IPython.display import Image, display\n",
    "from matplotlib import pyplot as plt\n",
    "import numpy as np\n",
    "from scipy.spatial import distance\n",
    "from sklearn.metrics.pairwise import cosine_similarity"
   ]
  },
  {
   "cell_type": "code",
   "execution_count": null,
   "metadata": {
    "scrolled": true
   },
   "outputs": [],
   "source": [
    "classes = {\"ACCESS_MASK\":0,\"Atom\":1,\"BOOLEAN\":2,\"Debug\":3,\"Device\":4,\n",
    "                                 \"Environment\":5,\"File\":6,\"HANDLE\":7,\"Job\":8,\"LONG\":9,\"LPC\":10,\n",
    "                                 \"Memory\":11,\"NTSTATUS\":12,\"Object\":13,\"Other\":14,\"PHANDLE\":15,\n",
    "                                 \"PLARGE_INTEGER\":16,\"Process\":17,\"PUNICODE_STRING\":18,\n",
    "                                 \"PULONG\":19,\"PULARGE_INTEGER\":20,\"PVOID_SIZEAFTER\":21,\n",
    "                                 \"PWSTR\":22,\"Registry\":23,\"Security\":24,\"Synchronization\":25,\n",
    "                                 \"Time\":26,\"Transaction\":27,\"ULONG\":28,\"WOW64\":29, \"DummyStart\":30,\"DummyEnd\":31}"
   ]
  },
  {
   "cell_type": "code",
   "execution_count": null,
   "metadata": {
    "scrolled": true
   },
   "outputs": [],
   "source": [
    "def createDirs(fold):\n",
    "    path = \"DATASET F1/fold_\" +str(fold)\n",
    "    mal_path = path+ \"/20%_test\"\n",
    "    train_path = path+ \"/80%_train\"\n",
    "    benign_path = \"DATASET F1/specimen_benign/20%_test\"\n",
    "    \n",
    "    w_mal_path = PureWindowsPath(mal_path)\n",
    "    w_train_path= PureWindowsPath(train_path)\n",
    "    w_benign_path = PureWindowsPath(benign_path)\n",
    "    print( mal_path+\"\\n\"+ train_path+\"\\n\"+ benign_path)\n",
    "    print( w_mal_path, w_train_path, w_benign_path)\n",
    "\n",
    "    filename = \"default_G_tone_map\"\n",
    "    mapFilename = \"default_unique_mapping\"\n",
    "    \n",
    "    rootDir = [os.path.join(root, name)\n",
    "             for root, dirs, files in os.walk(w_mal_path)\n",
    "             for name in files\n",
    "             if name.endswith(filename+\".csv\")]\n",
    "    rootDir.sort()\n",
    "    # for i in range(len(paths)):\n",
    "    #     p = [os.path.join(root, name)\n",
    "    #              for root, dirs, files in os.walk(paths[i]+\"/\"+path)\n",
    "    #              for name in files\n",
    "    #              if name.endswith(filename+\".csv\")]\n",
    "    #     p.sort()\n",
    "    #     rootDirs[i] = p\n",
    "    # print(rootDirs[10])\n",
    "    benignDir = [os.path.join(root, name)\n",
    "                 for root, dirs, files in os.walk(w_benign_path)\n",
    "                 for name in files\n",
    "                 if name.endswith(filename+\".csv\")]\n",
    "    benignDir.sort()\n",
    "\n",
    "    # for i in range(len(paths)):\n",
    "    trainDir = [os.path.join(root, name)\n",
    "                 for root, dirs, files in os.walk(w_train_path)\n",
    "                 for name in files\n",
    "                 if name.endswith(filename+\".csv\")]\n",
    "    trainDir.sort()\n",
    "    #     trainDirs[i] = trainDir\n",
    "    return [rootDir,benignDir,trainDir]"
   ]
  },
  {
   "cell_type": "code",
   "execution_count": null,
   "metadata": {},
   "outputs": [],
   "source": [
    "def createGraphs(dirs,npmode):\n",
    "    rootDir = dirs[0]\n",
    "    benignDir = dirs[1]\n",
    "    trainDir = dirs[2]\n",
    "    mal_gs = []\n",
    "    mal_np_gs = []\n",
    "    ben_gs = []\n",
    "    train_gs = []\n",
    "    train_np_gs = []\n",
    "    ben_np_gs = []\n",
    "    csm_vals = {}\n",
    "    for i in range(len(rootDir)):\n",
    "        A = np.array(getArray(rootDir[i]))\n",
    "        G = nx.from_numpy_matrix(A)\n",
    "        mal_gs.append(G)\n",
    "        mal_np_gs.append(A)\n",
    "        printProgressBar(i, len(rootDir)-1,prefix = 'malware gs')\n",
    "\n",
    "    for i in range(len(trainDir)):\n",
    "        A = np.array(getArray(trainDir[i]))\n",
    "        G = nx.from_numpy_matrix(A)\n",
    "        train_gs.append(G)\n",
    "        train_np_gs.append(A)\n",
    "        printProgressBar(i, len(trainDir)-1, prefix = 'train gs')\n",
    "        \n",
    "    for i in range(len(benignDir)):\n",
    "        A = np.array(getArray(benignDir[i]))\n",
    "        G = nx.from_numpy_matrix(A)\n",
    "        ben_gs.append(G)\n",
    "        ben_np_gs.append(A)\n",
    "        printProgressBar(i, len(benignDir)-1, prefix = 'benign gs')\n",
    "    if npmode: \n",
    "        return [mal_np_gs, ben_np_gs, train_np_gs]\n",
    "    else: \n",
    "        return [mal_gs, ben_gs, train_gs]"
   ]
  },
  {
   "cell_type": "code",
   "execution_count": null,
   "metadata": {
    "scrolled": true
   },
   "outputs": [],
   "source": [
    "def getArray (path):\n",
    "    results = []\n",
    "    with open(path) as csvfile:\n",
    "        reader = csv.reader(csvfile,csv.QUOTE_NONNUMERIC) # change contents to floats\n",
    "        for row in reader: # each row is a list\n",
    "            nums = []\n",
    "            for i in row: \n",
    "                if i :\n",
    "                    nums.append(int(i))\n",
    "            results.append(nums)\n",
    "    return results"
   ]
  },
  {
   "cell_type": "markdown",
   "metadata": {},
   "source": [
    "# def writeCSV()\n",
    "generic method to quickly write a graph to a csv file."
   ]
  },
  {
   "cell_type": "code",
   "execution_count": null,
   "metadata": {
    "scrolled": true
   },
   "outputs": [],
   "source": [
    "def writeCSV(g,path,name):\n",
    "    path_spl = path.split('/')\n",
    "    path_spl[-1] = name\n",
    "    sp_path = '/'.join(path_spl)\n",
    "    with open(sp_path, mode='w') as cvg_file:\n",
    "        cvg_writer = csv.writer(cvg_file, delimiter=',', quotechar='\"', quoting=csv.QUOTE_MINIMAL)\n",
    "        for i in g:\n",
    "            cvg_writer.writerow(i)"
   ]
  },
  {
   "cell_type": "code",
   "execution_count": null,
   "metadata": {},
   "outputs": [],
   "source": [
    "def printProgressBar (iteration, total, prefix = '', suffix = '', decimals = 1, length = 100, fill = '█', printEnd = \"\\r\"):\n",
    "    \"\"\"\n",
    "    Call in a loop to create terminal progress bar\n",
    "    @params:\n",
    "        iteration   - Required  : current iteration (Int)\n",
    "        total       - Required  : total iterations (Int)\n",
    "        prefix      - Optional  : prefix string (Str)\n",
    "        suffix      - Optional  : suffix string (Str)\n",
    "        decimals    - Optional  : positive number of decimals in percent complete (Int)\n",
    "        length      - Optional  : character length of bar (Int)\n",
    "        fill        - Optional  : bar fill character (Str)\n",
    "        printEnd    - Optional  : end character (e.g. \"\\r\", \"\\r\\n\") (Str)\n",
    "    \"\"\"\n",
    "    percent = (\"{0:.\" + str(decimals) + \"f}\").format(100 * (iteration / float(total)))\n",
    "    filledLength = int(length * iteration // total)\n",
    "    bar = fill * filledLength + '-' * (length - filledLength)\n",
    "    print('\\r%s |%s| %s%% %s' % (prefix, bar, percent, suffix), end = printEnd)\n",
    "    # Print New Line on Complete\n",
    "    if iteration == total: \n",
    "        print()"
   ]
  },
  {
   "cell_type": "markdown",
   "metadata": {},
   "source": [
    "# Flow map\n",
    "## def createFlowMap(g):\n",
    "* Given the capacity of each edge and the neighbors of each node of a graph, the function returns a NxN array tha represents the flow map of the given graph, having in each `g'[i][j]= MaxFlow(cap,neighs,i,j)`. **the base function used to permutate our original GrGs** \n",
    "\n",
    "## def createMap(dirs):\n",
    "* wrapper method that calls createFlowMap(path) for every path in the dirs list. This method is used to run through the rootDir, benignDir and train Dir to create our point of reference\n",
    "\n",
    "## def CSM(A,B):\n",
    "* calculates the cosine similarity metric for two arrays A and B\n",
    "   "
   ]
  },
  {
   "cell_type": "code",
   "execution_count": null,
   "metadata": {
    "scrolled": true
   },
   "outputs": [],
   "source": [
    "def createFlowMap(capacity, neighbors): \n",
    "    values = [[0 for i in range(len(capacity))] for j in range(len(capacity))]\n",
    "\n",
    "    for i in range(len(capacity)):\n",
    "        for j in range(len(capacity)):\n",
    "            values[i][j] = EK.EdmondsKarp(capacity,neighbors,i,j)\n",
    "    return values"
   ]
  },
  {
   "cell_type": "code",
   "execution_count": null,
   "metadata": {
    "scrolled": true
   },
   "outputs": [],
   "source": [
    "def createMap(paths):\n",
    "    mal_paths = paths[0]\n",
    "    benign_paths = paths[1]\n",
    "    train_paths = paths[2]\n",
    "    mals = {}\n",
    "    bens = {}\n",
    "    trains ={}\n",
    "    mal_vals = []\n",
    "    ben_vals = []\n",
    "    train_vals = []\n",
    "    \n",
    "    for i in range(len(mal_paths)):\n",
    "        cap, neig = EK.ParseGraph(mal_paths[i])\n",
    "        mals[i]=[cap,neig]\n",
    "        v = np.array(createFlowMap(cap,neig))\n",
    "        x,y = v.shape\n",
    "        mal_vals.append(np.reshape(v,x*y))\n",
    "        printProgressBar(i, len(mal_paths)-1, length = 50,prefix = \"malware\")       \n",
    "\n",
    "    for i in range(len(benign_paths)):\n",
    "        cap, neig = EK.ParseGraph(benign_paths[i])\n",
    "        bens[i]=[cap,neig]\n",
    "        v =np.array(createFlowMap(cap,neig))\n",
    "        x,y = v.shape\n",
    "        ben_vals.append(np.reshape(v,x*y))\n",
    "        printProgressBar(i, len(benign_paths)-1, length = 50,prefix = \"benign\")       \n",
    "\n",
    "    for i in range(len(train_paths)):\n",
    "        cap, neig = EK.ParseGraph(train_paths[i])\n",
    "        trains[i]=[cap,neig]\n",
    "        v = np.array(createFlowMap(cap,neig))\n",
    "        x,y = v.shape\n",
    "        train_vals.append(np.reshape(v,x*y))\n",
    "        printProgressBar(i, len(train_paths)-1, length = 50,prefix = \"train\")       \n",
    "    \n",
    "    \n",
    "    return [mal_vals,ben_vals,train_vals]"
   ]
  },
  {
   "cell_type": "code",
   "execution_count": null,
   "metadata": {},
   "outputs": [],
   "source": [
    "def calculateDifference(listA, listB, dirs,isBenign, metric = \"csm\"):\n",
    "    ret_val = []\n",
    "    rootDir = dirs[0]\n",
    "    benDir = dirs[1]\n",
    "    trainDir = dirs[2]\n",
    "    if metric == \"csm\" :\n",
    "        for i in range(len(listA)):\n",
    "            printProgressBar(i,len(listA)-1,length = min(len(listA), 50),prefix='diff calculation:')\n",
    "            val = []\n",
    "            e_val = []\n",
    "            for j in range(len(listB)):\n",
    "                val.append(1-distance.cosine(listA[i], listB[j]))\n",
    "            if isBenign:\n",
    "                ret_val.append([benDir[i].split('\\\\')[-3],max(val),trainDir[val.index(max(val))].split('\\\\')[-3]])\n",
    "            else :\n",
    "                ret_val.append([rootDir[i].split('\\\\')[-3],max(val),trainDir[val.index(max(val))].split('\\\\')[-3]])\n",
    "        return ret_val\n",
    "    elif metric == \"euc\":\n",
    "        for i in range(len(listA)):\n",
    "            printProgressBar(i,len(listA)-1,length = min(len(listA), 50),prefix='diff calculation:')\n",
    "            e_val = []\n",
    "            for j in range(len(listB)):\n",
    "                e_val.append(1000.0/(1000.0+distance.euclidean(listA[i], listB[j])))\n",
    "            if isBenign:\n",
    "                ret_val.append([benDir[i].split('\\\\')[-3],max(e_val),trainDir[e_val.index(max(e_val))].split('\\\\')[-3]])\n",
    "            else :\n",
    "                ret_val.append([rootDir[i].split('\\\\')[-3],max(e_val),trainDir[e_val.index(max(e_val))].split('\\\\')[-3]])\n",
    "        return ret_val\n",
    "    elif metric == \"bray\":\n",
    "        for i in range(len(listA)):\n",
    "            printProgressBar(i,len(listA)-1,length = min(len(listA), 50),prefix='diff calculation:')\n",
    "            e_val = []\n",
    "            for j in range(len(listB)):\n",
    "                e_val.append(1-distance.braycurtis(listA[i], listB[j]))\n",
    "            if isBenign:\n",
    "                ret_val.append([benDir[i].split('\\\\')[-3],max(e_val),trainDir[e_val.index(max(e_val))].split('\\\\')[-3]])\n",
    "            else :\n",
    "                ret_val.append([rootDir[i].split('\\\\')[-3],max(e_val),trainDir[e_val.index(max(e_val))].split('\\\\')[-3]])\n",
    "        return ret_val\n",
    "    elif metric == \"sqeuc\":\n",
    "        for i in range(len(listA)):\n",
    "            printProgressBar(i,len(listA)-1,length = min(len(listA), 50),prefix='diff calculation:')\n",
    "            e_val = []\n",
    "            for j in range(len(listB)):\n",
    "                e_val.append(1000.0/(1000.0+distance.sqeuclidean(listA[i], listB[j])))\n",
    "            if isBenign:\n",
    "                ret_val.append([benDir[i].split('\\\\')[-3],max(e_val),trainDir[e_val.index(max(e_val))].split('\\\\')[-3]])\n",
    "            else :\n",
    "                ret_val.append([rootDir[i].split('\\\\')[-3],max(e_val),trainDir[e_val.index(max(e_val))].split('\\\\')[-3]])\n",
    "        return ret_val\n",
    "    elif metric == \"cor\":\n",
    "        for i in range(len(listA)):\n",
    "            printProgressBar(i,len(listA)-1,length = min(len(listA), 50),prefix='diff calculation:')\n",
    "            e_val = []\n",
    "            for j in range(len(listB)):\n",
    "                e_val.append(1000.0/(1000.0+distance.correlation(listA[i], listB[j])))\n",
    "            if isBenign:\n",
    "                ret_val.append([benDir[i].split('\\\\')[-3],max(e_val),trainDir[e_val.index(max(e_val))].split('\\\\')[-3]])\n",
    "            else :\n",
    "                ret_val.append([rootDir[i].split('\\\\')[-3],max(e_val),trainDir[e_val.index(max(e_val))].split('\\\\')[-3]])\n",
    "        return ret_val\n",
    "    elif metric == \"prod\":\n",
    "        for i in range(len(listA)):\n",
    "            printProgressBar(i,len(listA)-1,length = min(len(listA), 50),prefix='diff calculation:')\n",
    "            e_val = []\n",
    "            for j in range(len(listB)):\n",
    "                a= 1000.0/(1000.0+distance.sqeuclidean(listA[i], listB[j]))\n",
    "                b = 1-distance.braycurtis(listA[i],listB[j])\n",
    "                e_val.append(a*b)\n",
    "            if isBenign:\n",
    "                ret_val.append([benDir[i].split('\\\\')[-3],max(e_val),trainDir[e_val.index(max(e_val))].split('\\\\')[-3]])\n",
    "            else :\n",
    "                ret_val.append([rootDir[i].split('\\\\')[-3],max(e_val),trainDir[e_val.index(max(e_val))].split('\\\\')[-3]])\n",
    "        return ret_val\n",
    "    elif metric == \"mink\":\n",
    "        for i in range(len(listA)):\n",
    "            printProgressBar(i,len(listA)-1,length = min(len(listA), 50),prefix='diff calculation:')\n",
    "            e_val = []\n",
    "            for j in range(len(listB)):\n",
    "                a= 1000.0/(1000.0+distance.minkowski(listA[i], listB[j],1))\n",
    "                b= 1000.0/(1000.0+distance.cosine(listA[i], listB[j]))\n",
    "                e_val.append(a*b)\n",
    "            if isBenign:\n",
    "                ret_val.append([benDir[i].split('\\\\')[-3],max(e_val),trainDir[e_val.index(max(e_val))].split('\\\\')[-3]])\n",
    "            else :\n",
    "                ret_val.append([rootDir[i].split('\\\\')[-3],max(e_val),trainDir[e_val.index(max(e_val))].split('\\\\')[-3]])\n",
    "        return ret_val\n",
    "    \n"
   ]
  },
  {
   "cell_type": "code",
   "execution_count": null,
   "metadata": {},
   "outputs": [],
   "source": [
    "def similarityMetric(sr):\n",
    "    counterA = 0\n",
    "    counterB = 0\n",
    "    counterC = 0\n",
    "    for i in sr :\n",
    "        A,B = i[0].split(',')[0], i[0].split(',')[1]\n",
    "        C,D = i[2].split(',')[0], i[2].split(',')[1]\n",
    "        if A==C and B==D:\n",
    "            counterA +=1\n",
    "        if A==C or B==D:\n",
    "            counterB +=1\n",
    "        if A==C or A==D or B == C or B == D:\n",
    "            counterC += 1\n",
    "#     print(\"cA = %d (%f) cB= %d (%f) cC =%d (%f)\"%(counterA, counterA/len(sr), counterB, counterB/len(sr), counterC, counterC/len(sr)))\n",
    "    return [counterA/len(sr),counterB/len(sr),counterC/len(sr)]"
   ]
  },
  {
   "cell_type": "code",
   "execution_count": null,
   "metadata": {},
   "outputs": [],
   "source": [
    "def saveFigures(mal_th, ben_th, start, iteration):\n",
    "    lists = [mal_th,ben_th]\n",
    "    diffs = []\n",
    "    v = 0\n",
    "    for i in range(len(mal_th)):\n",
    "        v = max(v,abs(mal_th[i]-ben_th[i]))\n",
    "        diffs.append(abs(mal_th[i]-ben_th[i]))\n",
    "    print(v)\n",
    "    d = max(diffs)\n",
    "    print(d, mal_th[diffs.index(d)])\n",
    "\n",
    "    for i in lists:\n",
    "        plt.plot(i,marker= 11)\n",
    "    plt.title(\"max dif at %f\"%(diffs[diffs.index(d)]))\n",
    "    plt.legend([\"True positives\",\"False positives\"])\n",
    "    plt.yticks(np.arange(0, 1, 0.05))\n",
    "    plt.xticks(np.arange(0,step, 1))\n",
    "    plt.ylabel(\"\")\n",
    "    plt.draw()\n",
    "    try:\n",
    "        os.mkdir(str(iteration))\n",
    "    except OSError:\n",
    "#         print (\"Creation of the directory %s failed\" % str(iteration))\n",
    "        pass\n",
    "    else:\n",
    "        print (\"Successfully created the directory %s\" % str(iteration))\n",
    "    plt.savefig(str(iteration)+\"/\"+str(start)+\".png\")\n",
    "    plt.clf()\n",
    "\n"
   ]
  },
  {
   "cell_type": "code",
   "execution_count": null,
   "metadata": {},
   "outputs": [],
   "source": [
    "def detection(ben, mal, itr, step, metric = 'Csm' ):\n",
    "    dif = ben[0]-ben[-1]\n",
    "    thresh = [ben[-1]+i*dif/step for i in range(step)]\n",
    "    m = np.array(sum(i > thresh for i in mal)/len(mal))\n",
    "    p = np.array(sum(i > thresh for i in ben)/len(ben))\n",
    "    for i in [m,p]:\n",
    "        plt.plot(i)\n",
    "    plt.yticks(np.arange(0,1.05,0.05))\n",
    "    plt.xticks(np.arange(0,len(thresh),1))\n",
    "    plt.draw()\n",
    "    plt.title('detection at '+str(itr)+ ' iteration')\n",
    "    plt.savefig(metric+\"--\"+ str(itr)+'--flow.png')\n",
    "    plt.clf()\n",
    "    return [m, p]\n"
   ]
  },
  {
   "cell_type": "code",
   "execution_count": null,
   "metadata": {},
   "outputs": [],
   "source": [
    "def sortTests(test):\n",
    "    sortedTests =[]\n",
    "    for i in range(len(test)):\n",
    "        srTest = sorted(test[i], key = lambda kv:kv[1],reverse = True)\n",
    "        sortedTests.append(srTest)\n",
    "        \n",
    "    return sortedTests"
   ]
  },
  {
   "cell_type": "code",
   "execution_count": null,
   "metadata": {},
   "outputs": [],
   "source": [
    "def detectSteps(testA, testB,step, metric = \"Csm\"):\n",
    "    detect = []\n",
    "    for i in range(len(testA)):\n",
    "        detect.append(detection(testA[i], testB[i], i, step, metric=metric))\n",
    "    return detect"
   ]
  },
  {
   "cell_type": "code",
   "execution_count": null,
   "metadata": {},
   "outputs": [],
   "source": [
    "def simAverages(malTest, benTest, metric):\n",
    "    similarities = [similarityMetric(malTest[i]) for i in range(len(malTest))]\n",
    "    for i in similarities :\n",
    "        print(i)\n",
    "    counts = [[i[j] for i in similarities] for j in range(len(i))]\n",
    "    avg = [statistics.mean(i) for i in counts]\n",
    "    print(\"---------------\")\n",
    "    print(metric)\n",
    "    print(\"---------------\")\n",
    "    print(avg)"
   ]
  },
  {
   "cell_type": "code",
   "execution_count": null,
   "metadata": {},
   "outputs": [],
   "source": [
    "itDirs = [createDirs(i) for i in range(1,6)]\n",
    "\n",
    "maps = [createMap(itDirs[i]) for i in range(len(itDirs))]"
   ]
  },
  {
   "cell_type": "code",
   "execution_count": null,
   "metadata": {},
   "outputs": [],
   "source": [
    "t = time.time()\n",
    "malwareTests = [calculateDifference(maps[i][0],maps[i][2], \n",
    "                                    itDirs[i], False) for i in range(len(maps))]\n",
    "print(\"malware took %f seconds\"%(time.time()-t))\n",
    "\n",
    "benignTests = [calculateDifference(maps[i][1],maps[i][2], \n",
    "                                   itDirs[i], True) for i in range(len(maps))]"
   ]
  },
  {
   "cell_type": "code",
   "execution_count": null,
   "metadata": {},
   "outputs": [],
   "source": [
    "sortBenignTests= sortTests(benignTests)\n",
    "\n",
    "sortMalwareTests =  sortTests(malwareTests)"
   ]
  },
  {
   "cell_type": "code",
   "execution_count": null,
   "metadata": {},
   "outputs": [],
   "source": [
    "malwares =  [[sortMalwareTests[j][i][1] for i in range(len(sortMalwareTests[j]))] \n",
    "             for j in range(len(sortMalwareTests))]\n",
    "benigns =  [[sortBenignTests[j][i][1] for i in range(len(sortBenignTests[j]))] \n",
    "             for j in range(len(sortBenignTests))]"
   ]
  },
  {
   "cell_type": "code",
   "execution_count": null,
   "metadata": {},
   "outputs": [],
   "source": [
    "t = time.time()\n",
    "malwareTestsEuc = [calculateDifference(maps[i][0],maps[i][2], \n",
    "                                    itDirs[i], False, metric = \"euc\") for i in range(len(maps))]\n",
    "print(\"malware took %f seconds\"%(time.time()-t))\n",
    "\n",
    "benignTestsEuc = [calculateDifference(maps[i][1],maps[i][2], \n",
    "                                   itDirs[i], True, metric = \"euc\") for i in range(len(maps))]"
   ]
  },
  {
   "cell_type": "code",
   "execution_count": null,
   "metadata": {},
   "outputs": [],
   "source": [
    "sortBenignTestsEuc = sortTests(benignTestsEuc)\n",
    "sortMalwareTestsEuc = sortTests(malwareTestsEuc)"
   ]
  },
  {
   "cell_type": "code",
   "execution_count": null,
   "metadata": {},
   "outputs": [],
   "source": []
  },
  {
   "cell_type": "code",
   "execution_count": null,
   "metadata": {},
   "outputs": [],
   "source": [
    "malwaresEuc =  [[sortMalwareTestsEuc[j][i][1] for i in range(len(sortMalwareTestsEuc[j]))] \n",
    "             for j in range(len(sortMalwareTestsEuc))]\n",
    "\n",
    "benignsEuc =  [[sortBenignTestsEuc[j][i][1] for i in range(len(sortBenignTestsEuc[j]))] \n",
    "             for j in range(len(sortBenignTestsEuc))]\n",
    "\n"
   ]
  },
  {
   "cell_type": "code",
   "execution_count": null,
   "metadata": {},
   "outputs": [],
   "source": [
    "t = time.time()\n",
    "malwareTestsBray = [calculateDifference(maps[i][0],maps[i][2], \n",
    "                                    itDirs[i], False, metric = \"bray\") for i in range(len(maps))]\n",
    "print(\"malware euc took %f seconds\"%(time.time()-t))\n",
    "\n",
    "benignTestsBray = [calculateDifference(maps[i][1],maps[i][2], \n",
    "                                   itDirs[i], True, metric = \"bray\") for i in range(len(maps))]"
   ]
  },
  {
   "cell_type": "code",
   "execution_count": null,
   "metadata": {},
   "outputs": [],
   "source": [
    "sortBenignTestsBray = sortTests(benignTestsBray)\n",
    "sortMalwareTestsBray = sortTests(malwareTestsBray)"
   ]
  },
  {
   "cell_type": "code",
   "execution_count": null,
   "metadata": {},
   "outputs": [],
   "source": [
    "malwaresBray =  [[sortMalwareTestsBray[j][i][1] for i in range(len(sortMalwareTestsBray[j]))] \n",
    "             for j in range(len(sortMalwareTestsBray))]\n",
    "\n",
    "benignsBray =  [[sortBenignTestsBray[j][i][1] for i in range(len(sortBenignTestsBray[j]))] \n",
    "             for j in range(len(sortBenignTestsBray))]\n",
    "\n"
   ]
  },
  {
   "cell_type": "code",
   "execution_count": null,
   "metadata": {},
   "outputs": [],
   "source": [
    "t = time.time()\n",
    "malwareTestsSq = [calculateDifference(maps[i][0],maps[i][2], \n",
    "                                    itDirs[i], False, metric = \"sqeuc\") for i in range(len(maps))]\n",
    "print(\"malware took %f seconds\"%(time.time()-t))\n",
    "\n",
    "benignTestsSq = [calculateDifference(maps[i][1],maps[i][2], \n",
    "                                   itDirs[i], True, metric = \"sqeuc\") for i in range(len(maps))]"
   ]
  },
  {
   "cell_type": "code",
   "execution_count": null,
   "metadata": {},
   "outputs": [],
   "source": [
    "sortBenignTestsSq = sortTests(benignTestsSq)\n",
    "sortMalwareTestsSq = sortTests(malwareTestsSq)"
   ]
  },
  {
   "cell_type": "code",
   "execution_count": null,
   "metadata": {},
   "outputs": [],
   "source": [
    "malwaresSq =  [[sortMalwareTestsSq[j][i][1] for i in range(len(sortMalwareTestsSq[j]))] \n",
    "             for j in range(len(sortMalwareTestsSq))]\n",
    "\n",
    "benignsSq =  [[sortBenignTestsSq[j][i][1] for i in range(len(sortBenignTestsSq[j]))] \n",
    "             for j in range(len(sortBenignTestsSq))]\n",
    "\n"
   ]
  },
  {
   "cell_type": "code",
   "execution_count": null,
   "metadata": {},
   "outputs": [],
   "source": [
    "t = time.time()\n",
    "malwareTestsCor = [calculateDifference(maps[i][0],maps[i][2], \n",
    "                                    itDirs[i], False, metric = \"cor\") for i in range(len(maps))]\n",
    "print(\"malware took %f seconds\"%(time.time()-t))\n",
    "\n",
    "benignTestsCor = [calculateDifference(maps[i][1],maps[i][2], \n",
    "                                   itDirs[i], True, metric = \"cor\") for i in range(len(maps))]"
   ]
  },
  {
   "cell_type": "code",
   "execution_count": null,
   "metadata": {},
   "outputs": [],
   "source": [
    "sortBenignTestsCor = sortTests(benignTestsCor)\n",
    "sortMalwareTestsCor = sortTests(malwareTestsCor)"
   ]
  },
  {
   "cell_type": "code",
   "execution_count": null,
   "metadata": {},
   "outputs": [],
   "source": [
    "malwaresCor =  [[sortMalwareTestsCor[j][i][1] for i in range(len(sortMalwareTestsCor[j]))] \n",
    "             for j in range(len(sortMalwareTestsCor))]\n",
    "\n",
    "benignsCor =  [[sortBenignTestsCor[j][i][1] for i in range(len(sortBenignTestsCor[j]))] \n",
    "             for j in range(len(sortBenignTestsCor))]\n",
    "\n"
   ]
  },
  {
   "cell_type": "code",
   "execution_count": null,
   "metadata": {},
   "outputs": [],
   "source": [
    "t = time.time()\n",
    "malwareTestsProd = [calculateDifference(maps[i][0],maps[i][2], \n",
    "                                    itDirs[i], False, metric = \"prod\") for i in range(len(maps))]\n",
    "print(\"malware took %f seconds\"%(time.time()-t))\n",
    "\n",
    "benignTestsProd = [calculateDifference(maps[i][1],maps[i][2], \n",
    "                                   itDirs[i], True, metric = \"prod\") for i in range(len(maps))]\n",
    "sortBenignTestsProd = sortTests(benignTestsProd)\n",
    "sortMalwareTestsProd = sortTests(malwareTestsProd)"
   ]
  },
  {
   "cell_type": "code",
   "execution_count": null,
   "metadata": {},
   "outputs": [],
   "source": [
    "malwaresProd =  [[sortMalwareTestsProd[j][i][1] for i in range(len(sortMalwareTestsProd[j]))] \n",
    "             for j in range(len(sortMalwareTestsProd))]\n",
    "\n",
    "benignsProd =  [[sortBenignTestsProd[j][i][1] for i in range(len(sortBenignTestsProd[j]))] \n",
    "             for j in range(len(sortBenignTestsProd))]\n",
    "\n"
   ]
  },
  {
   "cell_type": "code",
   "execution_count": null,
   "metadata": {},
   "outputs": [],
   "source": [
    "t = time.time()\n",
    "malwareTestsMin = [calculateDifference(maps[i][0],maps[i][2], \n",
    "                                    itDirs[i], False, metric = \"mink\") for i in range(len(maps))]\n",
    "print(\"malware took %f seconds\"%(time.time()-t))\n",
    "\n",
    "benignTestsMin = [calculateDifference(maps[i][1],maps[i][2], \n",
    "                                   itDirs[i], True, metric = \"mink\") for i in range(len(maps))]\n",
    "sortBenignTestsMin = sortTests(benignTestsMin)\n",
    "sortMalwareTestsMin = sortTests(malwareTestsMin)"
   ]
  },
  {
   "cell_type": "code",
   "execution_count": null,
   "metadata": {},
   "outputs": [],
   "source": [
    "malwaresMin =  [[sortMalwareTestsMin[j][i][1] for i in range(len(sortMalwareTestsMin[j]))] \n",
    "             for j in range(len(sortMalwareTestsMin))]\n",
    "\n",
    "benignsMin =  [[sortBenignTestsMin[j][i][1] for i in range(len(sortBenignTestsMin[j]))] \n",
    "             for j in range(len(sortBenignTestsMin))]\n",
    "\n"
   ]
  },
  {
   "cell_type": "code",
   "execution_count": null,
   "metadata": {},
   "outputs": [],
   "source": [
    "steps = 20\n",
    "detect = detectSteps(benigns,malwares,steps, metric= \"Csm\")\n",
    "detectEuc = detectSteps(benignsEuc,malwaresEuc, steps, metric=\"Euc\")\n",
    "detectBray = detectSteps(benignsBray,malwaresBray, steps, metric=\"Bray\")\n",
    "detectSq = detectSteps(benignsSq,malwaresSq, steps, metric=\"Sqeuc\")\n",
    "detectCor = detectSteps(benignsCor, malwaresCor, steps, metric=\"Dist Cor\")\n",
    "detectProd = detectSteps(benignsProd, malwaresProd, steps, metric=\"Prod\")\n",
    "detectMin = detectSteps(benignsMin, malwaresMin, steps, metric=\"Minkowski\")"
   ]
  },
  {
   "cell_type": "code",
   "execution_count": null,
   "metadata": {},
   "outputs": [],
   "source": [
    "mal_det = np.array([detect[i][0] for i in range(len(detect))])\n",
    "ben_det = np.array([detect[i][1] for i in range(len(detect))])\n",
    "mal_euc = np.array([detectEuc[i][0] for i in range(len(detectEuc))])\n",
    "ben_euc = np.array([detectEuc[i][1] for i in range(len(detectEuc))])\n",
    "mal_bray = np.array([detectBray[i][0] for i in range(len(detectBray))])\n",
    "ben_bray = np.array([detectBray[i][1] for i in range(len(detectBray))])\n",
    "mal_sq = np.array([detectSq[i][0] for i in range(len(detectSq))])\n",
    "ben_sq = np.array([detectSq[i][1] for i in range(len(detectSq))])\n",
    "mal_cor = np.array([detectCor[i][0] for i in range(len(detectCor))])\n",
    "ben_cor = np.array([detectCor[i][1] for i in range(len(detectCor))])\n",
    "mal_prod = np.array([detectProd[i][0] for i in range(len(detectProd))])\n",
    "ben_prod = np.array([detectProd[i][1] for i in range(len(detectProd))])\n",
    "mal_min = np.array([detectMin[i][0] for i in range(len(detectMin))])\n",
    "ben_min = np.array([detectMin[i][1] for i in range(len(detectMin))])\n",
    "\n",
    "\n",
    "\n",
    "avg_det = np.mean(mal_det,axis=0)\n",
    "avg_det_b = np.mean(ben_det,axis=0)\n",
    "avg_euc = np.mean(mal_euc, axis =0)\n",
    "avg_euc_b = np.mean(ben_euc,axis = 0)\n",
    "avg_bray = np.mean(mal_bray, axis =0)\n",
    "avg_bray_b = np.mean(ben_bray,axis = 0)\n",
    "avg_sq = np.mean(mal_sq, axis =0)\n",
    "avg_sqeuc_b = np.mean(ben_sq,axis = 0)\n",
    "avg_cor = np.mean(mal_cor, axis =0)\n",
    "avg_cor_b = np.mean(ben_cor,axis = 0)\n",
    "avg_prod = np.mean(mal_prod, axis =0)\n",
    "avg_prod_b = np.mean(ben_prod,axis = 0)\n",
    "avg_min = np.mean(mal_min, axis =0)\n",
    "avg_min_b = np.mean(ben_min,axis = 0)\n",
    "\n",
    "tot_avg = np.mean(np.array([avg_det,avg_euc,avg_bray,avg_cor,avg_sq]),axis=0)\n",
    "tot_avg_b = np.mean(np.array([avg_det_b,avg_euc_b,avg_bray_b,avg_cor_b,avg_sqeuc_b]),axis=0)\n",
    "\n",
    "print(avg_min)\n",
    "print(\"======================================\")\n",
    "print(avg_min_b)\n",
    "print(\"======================================\")\n",
    "figure(num=None, figsize=(10,7), dpi=200, facecolor='w', edgecolor='k')\n",
    "plt.margins(0.01)\n",
    "plt.title(\"Average Metrics Flow Map\")\n",
    "plt.plot(avg_det)\n",
    "plt.plot(avg_det_b)\n",
    "# plt.plot(avg_euc)\n",
    "# plt.plot(avg_euc_b)\n",
    "# plt.plot(avg_bray)\n",
    "# plt.plot(avg_bray_b)\n",
    "# plt.plot(avg_sq)\n",
    "# plt.plot(avg_sqeuc_b)\n",
    "# plt.plot(avg_cor)\n",
    "# plt.plot(avg_cor_b)\n",
    "# plt.plot(avg_prod)\n",
    "# plt.plot(avg_prod_b)\n",
    "plt.plot(avg_min)\n",
    "plt.plot(avg_min_b)\n",
    "\n",
    "\n",
    "# plt.plot((avg_euc+avg_bray)/2)\n",
    "# plt.plot((avg_euc_b + avg_bray_b)/2)\n",
    "plt.xticks(np.arange(0,len(avg_det),1))\n",
    "plt.yticks(np.arange(0,1.01,0.05))\n",
    "plt.legend([\"cosine malware\", \"cosine benign\",\"euclidean malware\", \"euclidean benign\", \"BC malware\", \n",
    "            \"BC benign\",\"Sqeuc malware\", \"Sqeuc benign\",\"Correlation malware\", \"Correlation benign\"])\n",
    "plt.savefig(\"averages of all metrics.png\")"
   ]
  },
  {
   "cell_type": "code",
   "execution_count": null,
   "metadata": {},
   "outputs": [],
   "source": [
    "simAverages(sortMalwareTests,sortBenignTests,\"Csm\")\n",
    "print(\"===========================================\")\n",
    "print()\n",
    "simAverages(sortMalwareTestsEuc,sortBenignTestsEuc,\"Euc\")\n",
    "print(\"===========================================\")\n",
    "print()\n",
    "simAverages(sortMalwareTestsBray,sortBenignTestsBray,\"Bray\")\n",
    "print(\"===========================================\")\n",
    "print()\n",
    "simAverages(sortMalwareTestsSq,sortBenignTestsSq,\"Sq\")\n",
    "print(\"===========================================\")\n",
    "print()\n",
    "simAverages(sortMalwareTestsCor,sortBenignTestsCor,\"Cor\")\n",
    "print(\"===========================================\")\n",
    "print()\n",
    "simAverages(sortMalwareTestsProd,sortBenignTestsProd,\"Prod\")\n"
   ]
  },
  {
   "cell_type": "code",
   "execution_count": null,
   "metadata": {},
   "outputs": [],
   "source": []
  }
 ],
 "metadata": {
  "kernelspec": {
   "display_name": "Python 3",
   "language": "python",
   "name": "python3"
  },
  "language_info": {
   "codemirror_mode": {
    "name": "ipython",
    "version": 3
   },
   "file_extension": ".py",
   "mimetype": "text/x-python",
   "name": "python",
   "nbconvert_exporter": "python",
   "pygments_lexer": "ipython3",
   "version": "3.7.4"
  }
 },
 "nbformat": 4,
 "nbformat_minor": 2
}
