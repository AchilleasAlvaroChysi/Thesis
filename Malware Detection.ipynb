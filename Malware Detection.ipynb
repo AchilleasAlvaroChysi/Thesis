{
 "cells": [
  {
   "cell_type": "code",
   "execution_count": 1,
   "metadata": {
    "scrolled": true
   },
   "outputs": [],
   "source": [
    "from collections import defaultdict \n",
    "import statistics\n",
    "import os\n",
    "import sys\n",
    "import csv\n",
    "import math\n",
    "import random\n",
    "import time\n",
    "import networkx as nx\n",
    "from matplotlib.pyplot import figure\n",
    "from networkx.algorithms.flow import edmonds_karp\n",
    "from pathlib import Path, PureWindowsPath\n",
    "import FordFulkerson as ff\n",
    "import EdmondsKarp as EK\n",
    "from multiprocessing import Pool\n",
    "from collections import Counter\n",
    "from IPython.display import Image, display\n",
    "from matplotlib import pyplot as plt\n",
    "import numpy as np\n",
    "from scipy.spatial import distance\n",
    "from sklearn.metrics.pairwise import cosine_similarity"
   ]
  },
  {
   "cell_type": "markdown",
   "metadata": {},
   "source": [
    "### classes \n",
    "are the labels of each node in the GrGs"
   ]
  },
  {
   "cell_type": "code",
   "execution_count": 2,
   "metadata": {
    "scrolled": true
   },
   "outputs": [],
   "source": [
    "classes = {\"ACCESS_MASK\":0,\"Atom\":1,\"BOOLEAN\":2,\"Debug\":3,\"Device\":4,\n",
    "                                 \"Environment\":5,\"File\":6,\"HANDLE\":7,\"Job\":8,\"LONG\":9,\"LPC\":10,\n",
    "                                 \"Memory\":11,\"NTSTATUS\":12,\"Object\":13,\"Other\":14,\"PHANDLE\":15,\n",
    "                                 \"PLARGE_INTEGER\":16,\"Process\":17,\"PUNICODE_STRING\":18,\n",
    "                                 \"PULONG\":19,\"PULARGE_INTEGER\":20,\"PVOID_SIZEAFTER\":21,\n",
    "                                 \"PWSTR\":22,\"Registry\":23,\"Security\":24,\"Synchronization\":25,\n",
    "                                 \"Time\":26,\"Transaction\":27,\"ULONG\":28,\"WOW64\":29, \"DummyStart\":30,\"DummyEnd\":31}"
   ]
  },
  {
   "cell_type": "markdown",
   "metadata": {},
   "source": [
    "### createDirs(fold) \n",
    "creates lists of strings that contain the path to each graph file."
   ]
  },
  {
   "cell_type": "code",
   "execution_count": 3,
   "metadata": {
    "scrolled": true
   },
   "outputs": [],
   "source": [
    "def createDirs(fold):\n",
    "    path = \"DATASET F1/fold_\" +str(fold)\n",
    "    mal_path = path+ \"/20%_test\"\n",
    "    train_path = path+ \"/80%_train\"\n",
    "    benign_path = \"DATASET F1/specimen_benign/20%_test\"\n",
    "    \n",
    "    w_mal_path = PureWindowsPath(mal_path)\n",
    "    w_train_path= PureWindowsPath(train_path)\n",
    "    w_benign_path = PureWindowsPath(benign_path)\n",
    "#     print( mal_path+\"\\n\"+ train_path+\"\\n\"+ benign_path)\n",
    "#     print( w_mal_path, w_train_path, w_benign_path)\n",
    "\n",
    "    filename = \"default_G_tone_map\"\n",
    "    mapFilename = \"default_unique_mapping\"\n",
    "    \n",
    "    rootDir = [os.path.join(root, name)\n",
    "             for root, dirs, files in os.walk(w_mal_path)\n",
    "             for name in files\n",
    "             if name.endswith(filename+\".csv\")]\n",
    "    rootDir.sort()\n",
    "    # for i in range(len(paths)):\n",
    "    #     p = [os.path.join(root, name)\n",
    "    #              for root, dirs, files in os.walk(paths[i]+\"/\"+path)\n",
    "    #              for name in files\n",
    "    #              if name.endswith(filename+\".csv\")]\n",
    "    #     p.sort()\n",
    "    #     rootDirs[i] = p\n",
    "    # print(rootDirs[10])\n",
    "    benignDir = [os.path.join(root, name)\n",
    "                 for root, dirs, files in os.walk(w_benign_path)\n",
    "                 for name in files\n",
    "                 if name.endswith(filename+\".csv\")]\n",
    "    benignDir.sort()\n",
    "\n",
    "    # for i in range(len(paths)):\n",
    "    trainDir = [os.path.join(root, name)\n",
    "                 for root, dirs, files in os.walk(w_train_path)\n",
    "                 for name in files\n",
    "                 if name.endswith(filename+\".csv\")]\n",
    "    trainDir.sort()\n",
    "    #     trainDirs[i] = trainDir\n",
    "    return [rootDir,benignDir,trainDir]"
   ]
  },
  {
   "cell_type": "markdown",
   "metadata": {},
   "source": [
    "### createGraphs(dirs,npmode)\n",
    "imports the csv files and creates the nx.Graph() objects. Npmode returns numpy matrices of the graphs"
   ]
  },
  {
   "cell_type": "code",
   "execution_count": 4,
   "metadata": {},
   "outputs": [],
   "source": [
    "def createGraphs(dirs,npmode):\n",
    "    time_to = time.time()\n",
    "    rootDir = dirs[0]\n",
    "    benignDir = dirs[1]\n",
    "    trainDir = dirs[2]\n",
    "    mal_gs = []\n",
    "    mal_np_gs = []\n",
    "    ben_gs = []\n",
    "    train_gs = []\n",
    "    train_np_gs = []\n",
    "    ben_np_gs = []\n",
    "    csm_vals = {}\n",
    "    for i in range(len(rootDir)):\n",
    "        A = np.array(getArray(rootDir[i]))\n",
    "        G = nx.from_numpy_matrix(A)\n",
    "        mal_gs.append(G)\n",
    "        mal_np_gs.append(A)\n",
    "#         printProgressBar(i, len(rootDir)-1,prefix = 'malware gs')\n",
    "\n",
    "    for i in range(len(trainDir)):\n",
    "        A = np.array(getArray(trainDir[i]))\n",
    "        G = nx.from_numpy_matrix(A)\n",
    "        train_gs.append(G)\n",
    "        train_np_gs.append(A)\n",
    "#         printProgressBar(i, len(trainDir)-1, prefix = 'train gs')\n",
    "        \n",
    "    for i in range(len(benignDir)):\n",
    "        A = np.array(getArray(benignDir[i]))\n",
    "        G = nx.from_numpy_matrix(A)\n",
    "        ben_gs.append(G)\n",
    "        ben_np_gs.append(A)\n",
    "#         printProgressBar(i, len(benignDir)-1, prefix = 'benign gs')\n",
    "    if npmode:\n",
    "        print(str(time.time()-time_to)+ \"graph create TIME\")\n",
    "        return [mal_np_gs, ben_np_gs, train_np_gs]\n",
    "    else: \n",
    "        print(str(time.time()-time_to)+ \"graph create TIME\")\n",
    "        return [mal_gs, ben_gs, train_gs]"
   ]
  },
  {
   "cell_type": "markdown",
   "metadata": {},
   "source": [
    "### getArray(path)\n",
    "parses the csv file and returns a list with the contents of it."
   ]
  },
  {
   "cell_type": "code",
   "execution_count": 5,
   "metadata": {
    "scrolled": true
   },
   "outputs": [],
   "source": [
    "def getArray (path):\n",
    "    results = []\n",
    "    with open(path) as csvfile:\n",
    "        reader = csv.reader(csvfile,csv.QUOTE_NONNUMERIC) # change contents to floats\n",
    "        for row in reader: # each row is a list\n",
    "            nums = []\n",
    "            for i in row: \n",
    "                if i :\n",
    "                    nums.append(int(i))\n",
    "            results.append(nums)\n",
    "    return results"
   ]
  },
  {
   "cell_type": "markdown",
   "metadata": {},
   "source": [
    "### def writeCSV()\n",
    "generic method to quickly write a graph to a csv file."
   ]
  },
  {
   "cell_type": "code",
   "execution_count": 6,
   "metadata": {
    "scrolled": true
   },
   "outputs": [],
   "source": [
    "def writeCSV(g,path,name):\n",
    "    path_spl = path.split('/')\n",
    "    path_spl[-1] = name\n",
    "    sp_path = '/'.join(path_spl)\n",
    "    with open(sp_path, mode='w') as cvg_file:\n",
    "        cvg_writer = csv.writer(cvg_file, delimiter=',', quotechar='\"', quoting=csv.QUOTE_MINIMAL)\n",
    "        for i in g:\n",
    "            cvg_writer.writerow(i)"
   ]
  },
  {
   "cell_type": "markdown",
   "metadata": {},
   "source": [
    "## Flow map\n",
    "### def createFlowMap(g):\n",
    "* Given the capacity of each edge and the neighbors of each node of a graph, the function returns a NxN array tha represents the flow map of the given graph, having in each `g'[i][j]= MaxFlow(cap,neighs,i,j)`. **the base function used to permutate our original GrGs** \n",
    "\n",
    "### def createMap(dirs):\n",
    "* wrapper method that calls createFlowMap(path) for every path in the dirs list. This method is used to run through the rootDir, benignDir and train Dir to create our point of reference\n"
   ]
  },
  {
   "cell_type": "code",
   "execution_count": 7,
   "metadata": {
    "scrolled": true
   },
   "outputs": [],
   "source": [
    "def createFlowMap(capacity, neighbors): \n",
    "    values = [[0 for i in range(len(capacity))] for j in range(len(capacity))]\n",
    "\n",
    "    for i in range(len(capacity)):\n",
    "        for j in range(len(capacity)):\n",
    "            values[i][j] = EK.EdmondsKarp(capacity,neighbors,i,j)\n",
    "    return values"
   ]
  },
  {
   "cell_type": "code",
   "execution_count": 8,
   "metadata": {
    "scrolled": true
   },
   "outputs": [],
   "source": [
    "def createMap(paths):\n",
    "    mal_paths = paths[0]\n",
    "    benign_paths = paths[1]\n",
    "    train_paths = paths[2]\n",
    "    mals = {}\n",
    "    bens = {}\n",
    "    trains ={}\n",
    "    mal_vals = []\n",
    "    ben_vals = []\n",
    "    train_vals = []\n",
    "    \n",
    "    for i in range(len(mal_paths)):\n",
    "        cap, neig = EK.ParseGraph(mal_paths[i])\n",
    "        mals[i]=[cap,neig]\n",
    "        v = np.array(createFlowMap(cap,neig))\n",
    "        x,y = v.shape\n",
    "        mal_vals.append(np.reshape(v,x*y))\n",
    "#         printProgressBar(i, len(mal_paths)-1, length = 50,prefix = \"malware\")       \n",
    "\n",
    "    for i in range(len(benign_paths)):\n",
    "        cap, neig = EK.ParseGraph(benign_paths[i])\n",
    "        bens[i]=[cap,neig]\n",
    "        v =np.array(createFlowMap(cap,neig))\n",
    "        x,y = v.shape\n",
    "        ben_vals.append(np.reshape(v,x*y))\n",
    "#         printProgressBar(i, len(benign_paths)-1, length = 50,prefix = \"benign\")       \n",
    "\n",
    "    for i in range(len(train_paths)):\n",
    "        cap, neig = EK.ParseGraph(train_paths[i])\n",
    "        trains[i]=[cap,neig]\n",
    "        v = np.array(createFlowMap(cap,neig))\n",
    "        x,y = v.shape\n",
    "        train_vals.append(np.reshape(v,x*y))\n",
    "#         printProgressBar(i, len(train_paths)-1, length = 50,prefix = \"train\")       \n",
    "    \n",
    "    \n",
    "    return [mal_vals,ben_vals,train_vals]"
   ]
  },
  {
   "cell_type": "markdown",
   "metadata": {},
   "source": [
    "### calcPageRank(Graphs)\n",
    "calculates the pageRank values of the graphs."
   ]
  },
  {
   "cell_type": "code",
   "execution_count": 9,
   "metadata": {},
   "outputs": [],
   "source": [
    "def calcPageRank(graphs):\n",
    "    mal = graphs[0]\n",
    "    ben = graphs[1]\n",
    "    train = graphs[2]\n",
    "    \n",
    "    pgr_mal = [nx.pagerank_numpy(nx.from_numpy_matrix(mal[i].reshape(30,30))) for i in range(len(mal))]\n",
    "    pgr_ben = [nx.pagerank_numpy(nx.from_numpy_matrix(ben[i].reshape(30,30))) for i in range(len(ben))]\n",
    "    pgr_train = [nx.pagerank_numpy(nx.from_numpy_matrix(train[i].reshape(30,30))) for i in range(len(train))]\n",
    "    \n",
    "    pgrgs = [list(pgr_mal[i].values()) for i in range(len(pgr_mal))]\n",
    "    pgrgs_ben = [list(pgr_ben[i].values())for i in range(len(pgr_ben))]\n",
    "    pgrgs_train = [list(pgr_train[i].values())for i in range(len(pgr_train))]\n",
    "    \n",
    "    return [pgrgs, pgrgs_ben, pgrgs_train]"
   ]
  },
  {
   "cell_type": "markdown",
   "metadata": {},
   "source": [
    "### calculateDifference(listA,listB,dirs,isBenign,metric)\n",
    "computes the similarity of each pair of test graphs with the train graphs, returning the pair with the maximum similarity"
   ]
  },
  {
   "cell_type": "code",
   "execution_count": 10,
   "metadata": {},
   "outputs": [
    {
     "ename": "SyntaxError",
     "evalue": "invalid syntax (<ipython-input-10-0212e5692a56>, line 26)",
     "output_type": "error",
     "traceback": [
      "\u001b[1;36m  File \u001b[1;32m\"<ipython-input-10-0212e5692a56>\"\u001b[1;36m, line \u001b[1;32m26\u001b[0m\n\u001b[1;33m    test_ret.append([benDir[i].split('\\\\')[-3],max(val), [trainDir[i for i in maximum_vals].split('\\\\')[-3]]])\u001b[0m\n\u001b[1;37m                                                                       ^\u001b[0m\n\u001b[1;31mSyntaxError\u001b[0m\u001b[1;31m:\u001b[0m invalid syntax\n"
     ]
    }
   ],
   "source": [
    "def calculateDifference(listA, listB, dirs,isBenign, metric = \"csm\"):\n",
    "    ret_val = []\n",
    "    test_ret = []\n",
    "    rootDir = dirs[0]\n",
    "    benDir = dirs[1]\n",
    "    trainDir = dirs[2]\n",
    "    methods = {'csm': lambda a,b : 1-distance.cosine(a,b), \n",
    "               'euc': lambda a,b: 1000.0/(1000.0+distance.euclidean(a,b)), \n",
    "               'bray': lambda a,b: 1-distance.braycurtis(a,b), \n",
    "               'mink': lambda a,b: 1000.0/(1000.0+distance.minkowski(a,b,1)), #manhattan\n",
    "               'sqeuc': lambda a,b: 1000.0/(1000.0+distance.sqeuclidean(a,b)),\n",
    "               'cor': lambda a,b: (((1000.0/(1000.0+distance.euclidean(a,b))) + (1000.0/(1000.0+distance.minkowski(a,b,1))))/2),\n",
    "               'prod': lambda a,b: ((1000.0/(1000.0+distance.sqeuclidean(a,b))) * (1000.0/(1000.0+distance.minkowski(a,b,1))))\n",
    "              }\n",
    "#                'cor' : lambda a,b: 1-distance.correlation(a,b)},\n",
    "\n",
    "    for i in range(len(listA)):\n",
    "#         printProgressBar(i,len(listA)-1, length = 50, prefix = 'diff calculation', suffix = \"with \" + metric)\n",
    "        val = []\n",
    "        e_val = []\n",
    "        stats = []\n",
    "        for j in range(len(listB)):\n",
    "            val.append(methods[metric](listA[i], listB[j]))\n",
    "        if isBenign:\n",
    "            maximum_vals = [i for i in range(len(val)) if val[i] == max(val)]\n",
    "            test_ret.append([benDir[i].split('\\\\')[-3],max(val), [trainDir[i for i in maximum_vals].split('\\\\')[-3]]])\n",
    "            ret_val.append([benDir[i].split('\\\\')[-3],max(val),trainDir[val.index(max(val))].split('\\\\')[-3]])\n",
    "        else :\n",
    "            ret_val.append([rootDir[i].split('\\\\')[-3],max(val),trainDir[val.index(max(val))].split('\\\\')[-3]])\n",
    "    print(test_ret)\n",
    "    return ret_val\n"
   ]
  },
  {
   "cell_type": "markdown",
   "metadata": {},
   "source": [
    "### similarityMetric(sr)\n",
    "calculates and returns the classification values."
   ]
  },
  {
   "cell_type": "markdown",
   "metadata": {},
   "source": [
    "### saveFigures(mal_th,ben_th,start,iteration)\n",
    "creates and saves the figures of our experiments using matplotlib"
   ]
  },
  {
   "cell_type": "code",
   "execution_count": null,
   "metadata": {},
   "outputs": [],
   "source": [
    "def saveFigures(mal_th, ben_th, start, iteration):\n",
    "    lists = [mal_th,ben_th]\n",
    "    diffs = []\n",
    "    v = 0\n",
    "    for i in range(len(mal_th)):\n",
    "        v = max(v,abs(mal_th[i]-ben_th[i]))\n",
    "        diffs.append(abs(mal_th[i]-ben_th[i]))\n",
    "#     print(v)\n",
    "    d = max(diffs)\n",
    "#     print(d, mal_th[diffs.index(d)])\n",
    "\n",
    "    for i in lists:\n",
    "        plt.plot(i,marker= 11)\n",
    "    plt.title(\"max dif at %f\"%(diffs[diffs.index(d)]))\n",
    "    plt.legend([\"True positives\",\"False positives\"])\n",
    "    plt.yticks(np.arange(0, 1, 0.05))\n",
    "    plt.xticks(np.arange(0,step, 1))\n",
    "    plt.ylabel(\"\")\n",
    "    plt.draw()\n",
    "    try:\n",
    "        os.mkdir(str(iteration))\n",
    "    except OSError:\n",
    "#         print (\"Creation of the directory %s failed\" % str(iteration))\n",
    "        pass\n",
    "    else:\n",
    "        print (\"Successfully created the directory %s\" % str(iteration))\n",
    "    plt.savefig(str(iteration)+\"/\"+str(start)+\".png\")\n",
    "    plt.clf()"
   ]
  },
  {
   "cell_type": "markdown",
   "metadata": {},
   "source": [
    "### detection\n",
    "creates the graphics taking into account the `step` and the `threshold`\n",
    "### detectionSteps\n",
    "calculates the Five-Fold-Average of all experiments."
   ]
  },
  {
   "cell_type": "code",
   "execution_count": null,
   "metadata": {},
   "outputs": [],
   "source": [
    "def detectSteps(testA, testB,step, metric = \"Csm\"):\n",
    "    detect = []\n",
    "    thresh = []\n",
    "    for i in range(len(testA)):\n",
    "        det, thr = detection(testA[i], testB[i], i, step, metric=metric)\n",
    "        detect.append(det)\n",
    "        thresh.append(thr)\n",
    "    return detect, thresh"
   ]
  },
  {
   "cell_type": "code",
   "execution_count": null,
   "metadata": {},
   "outputs": [],
   "source": [
    "def detection(ben, mal, itr, step, metric = 'Csm' ):\n",
    "    thresh = np.arange(ben[-1]-abs(ben[0]-ben[-1])/step, ben[0], abs(ben[0]-ben[-1])/(step-1))\n",
    "    \n",
    "    thresh = np.append(thresh, ben[0])\n",
    "#     print(thresh, \"***************************\")\n",
    "#     thresh = np.array(list(reversed(ben)))\n",
    "#     print(thresh)\n",
    "    m = np.array((sum(i > thresh for i in mal)/len(mal))*100)\n",
    "    p = np.array((sum(i > thresh for i in ben)/len(ben))*100)\n",
    "    for i in [m,p]:\n",
    "        plt.plot(i)\n",
    "    plt.yticks(np.arange(0,100,5))\n",
    "    plt.xticks(np.arange(0,len(thresh),1))\n",
    "    plt.draw()\n",
    "    plt.title('detection at '+str(itr)+ ' iteration')\n",
    "    plt.savefig(metric+\"--\"+ str(itr)+'--flow.png')\n",
    "    plt.clf()\n",
    "    return [m, p], thresh"
   ]
  },
  {
   "cell_type": "code",
   "execution_count": null,
   "metadata": {},
   "outputs": [],
   "source": [
    "def sortTests(test):\n",
    "    sortedTests =[]\n",
    "    for i in range(len(test)):\n",
    "        srTest = sorted(test[i], key = lambda kv:kv[1],reverse = True)\n",
    "        sortedTests.append(srTest)\n",
    "    return sortedTests"
   ]
  },
  {
   "cell_type": "markdown",
   "metadata": {},
   "source": [
    "### simAverages\n",
    "Calculates and prints the classification Five-Fold-Averages"
   ]
  },
  {
   "cell_type": "code",
   "execution_count": null,
   "metadata": {},
   "outputs": [],
   "source": [
    "def similarityMetric(sr):\n",
    "    counterA = 0\n",
    "    counterB = 0\n",
    "    counterC = 0\n",
    "    for i in sr :\n",
    "        A,B = i[0].split(',')[0], i[0].split(',')[1]\n",
    "        C,D = i[2].split(',')[0], i[2].split(',')[1]\n",
    "        if A==C and B==D:\n",
    "            counterA +=1\n",
    "        if A==C or B==D:\n",
    "            counterB +=1\n",
    "        if A==C or A==D or B == C or B == D:\n",
    "            counterC += 1\n",
    "#     print(\"cA = %d (%f) cB= %d (%f) cC =%d (%f)\"%(counterA, counterA/len(sr), counterB, counterB/len(sr), counterC, counterC/len(sr)))\n",
    "    return [counterA/len(sr),counterB/len(sr),counterC/len(sr)]"
   ]
  },
  {
   "cell_type": "code",
   "execution_count": null,
   "metadata": {},
   "outputs": [],
   "source": [
    "def simAverages(malTest, benTest, metric):\n",
    "    similarities = [similarityMetric(malTest[i]) for i in range(len(malTest))]\n",
    "    ties = []\n",
    "    print(malTest[0])\n",
    "    for i in similarities :\n",
    "        print(i)\n",
    "    counts = [[i[j] for i in similarities] for j in range(len(i))]\n",
    "    avg = [statistics.mean(i) for i in counts]\n",
    "    print(\"---------------\")\n",
    "    print(metric)\n",
    "    print(\"---------------\")\n",
    "    print(avg)"
   ]
  },
  {
   "cell_type": "code",
   "execution_count": null,
   "metadata": {},
   "outputs": [],
   "source": [
    "def plot_metrics(listA, listB, listThr, metric):\n",
    "    diffs = []\n",
    "    v = 0\n",
    "    for i in range(len(listA)):\n",
    "        v = max(v,abs(listA[i]-listB[i]))\n",
    "        diffs.append(abs(listA[i]-listB[i]))\n",
    "    pd = diffs.index(v)\n",
    "    print(listA[pd], listB[pd])\n",
    "    figure(num=None, figsize=(10,7), dpi=200, facecolor='w', edgecolor=None)\n",
    "    plt.margins(0.01)\n",
    "    plt.plot(listA,'r')\n",
    "    plt.plot(listB,'g')\n",
    "#     plt.plot(pd,listA[pd],'yo-')\n",
    "#     plt.plot(pd,listB[pd],'yo-')\n",
    "#     plt.plot((pd,pd),(listA[pd],listB[pd]),'k--')\n",
    "    \n",
    "    xi = list(range(len(listThr)))\n",
    "    plt.ylabel('Percentage of Detection', labelpad=5)\n",
    "    plt.xlabel('Values of λ',labelpad=5)\n",
    "    plt.xticks(xi,[round(i,5) for i in listThr])\n",
    "    plt.xticks(fontsize=8, rotation=90)\n",
    "    plt.yticks(np.arange(0,105,5))\n",
    "    plt.legend([\"TP-rate\",\"FP-rate\"], loc='lower left')\n",
    "#     plt.title(\"Average five fold with %s metric\"%(metric))\n",
    "    plt.savefig(\"Average five fold with %s metric.eps\"%(metric),format='eps')\n",
    "    plt.savefig(\"Average five fold with %s metric.pdf\"%(metric),format='pdf')\n",
    "    plt.savefig(\"Average five fold with %s metric.png\"%(metric),format='png')\n",
    "    plt.clf()"
   ]
  },
  {
   "cell_type": "markdown",
   "metadata": {},
   "source": [
    "**itDirs** holds the paths to all graphs five-fold.\n",
    "\n",
    "**maps** holds the flowMaps of all graphs five-fold"
   ]
  },
  {
   "cell_type": "code",
   "execution_count": null,
   "metadata": {
    "scrolled": true
   },
   "outputs": [],
   "source": [
    "itDirs = [createDirs(i) for i in range(1,6)]\n",
    "\n",
    "maps = [createMap(itDirs[i]) for i in range(len(itDirs))]"
   ]
  },
  {
   "cell_type": "markdown",
   "metadata": {},
   "source": [
    "**pgrMap** holds the pageRank vectors for all graphs five-fold"
   ]
  },
  {
   "cell_type": "code",
   "execution_count": null,
   "metadata": {},
   "outputs": [],
   "source": [
    "pgrMap = [calcPageRank(maps[i]) for i in range(len(maps))]"
   ]
  },
  {
   "cell_type": "code",
   "execution_count": null,
   "metadata": {},
   "outputs": [],
   "source": [
    "t = time.time()\n",
    "malwareTests = [calculateDifference(maps[i][0],maps[i][2], \n",
    "                                    itDirs[i], False) for i in range(len(maps))]\n",
    "print(\"malware took %f seconds\"%(time.time()-t))\n",
    "\n",
    "benignTests = [calculateDifference(maps[i][1],maps[i][2], \n",
    "                                   itDirs[i], True) for i in range(len(maps))]\n"
   ]
  },
  {
   "cell_type": "code",
   "execution_count": null,
   "metadata": {},
   "outputs": [],
   "source": [
    "sortBenignTests= sortTests(benignTests)\n",
    "\n",
    "sortMalwareTests =  sortTests(malwareTests)"
   ]
  },
  {
   "cell_type": "code",
   "execution_count": null,
   "metadata": {},
   "outputs": [],
   "source": [
    "malwares =  [[sortMalwareTests[j][i][1] for i in range(len(sortMalwareTests[j]))] \n",
    "             for j in range(len(sortMalwareTests))]\n",
    "benigns =  [[sortBenignTests[j][i][1] for i in range(len(sortBenignTests[j]))] \n",
    "             for j in range(len(sortBenignTests))]"
   ]
  },
  {
   "cell_type": "code",
   "execution_count": null,
   "metadata": {},
   "outputs": [],
   "source": [
    "t = time.time()\n",
    "malwareTestsEuc = [calculateDifference(maps[i][0],maps[i][2], \n",
    "                                    itDirs[i], False, metric = \"euc\") for i in range(len(maps))]\n",
    "print(\"malware took %f seconds\"%(time.time()-t))\n",
    "\n",
    "benignTestsEuc = [calculateDifference(maps[i][1],maps[i][2], \n",
    "                                   itDirs[i], True, metric = \"euc\") for i in range(len(maps))]"
   ]
  },
  {
   "cell_type": "code",
   "execution_count": null,
   "metadata": {},
   "outputs": [],
   "source": [
    "sortBenignTestsEuc = sortTests(benignTestsEuc)\n",
    "sortMalwareTestsEuc = sortTests(malwareTestsEuc)"
   ]
  },
  {
   "cell_type": "code",
   "execution_count": null,
   "metadata": {},
   "outputs": [],
   "source": [
    "malwaresEuc =  [[sortMalwareTestsEuc[j][i][1] for i in range(len(sortMalwareTestsEuc[j]))] \n",
    "             for j in range(len(sortMalwareTestsEuc))]\n",
    "\n",
    "benignsEuc =  [[sortBenignTestsEuc[j][i][1] for i in range(len(sortBenignTestsEuc[j]))] \n",
    "             for j in range(len(sortBenignTestsEuc))]\n",
    "\n"
   ]
  },
  {
   "cell_type": "code",
   "execution_count": null,
   "metadata": {},
   "outputs": [],
   "source": [
    "t = time.time()\n",
    "malwareTestsBray = [calculateDifference(maps[i][0],maps[i][2], \n",
    "                                    itDirs[i], False, metric = \"bray\") for i in range(len(maps))]\n",
    "print(\"malware euc took %f seconds\"%(time.time()-t))\n",
    "\n",
    "benignTestsBray = [calculateDifference(maps[i][1],maps[i][2], \n",
    "                                   itDirs[i], True, metric = \"bray\") for i in range(len(maps))]"
   ]
  },
  {
   "cell_type": "code",
   "execution_count": null,
   "metadata": {},
   "outputs": [],
   "source": [
    "sortBenignTestsBray = sortTests(benignTestsBray)\n",
    "sortMalwareTestsBray = sortTests(malwareTestsBray)"
   ]
  },
  {
   "cell_type": "code",
   "execution_count": null,
   "metadata": {},
   "outputs": [],
   "source": [
    "malwaresBray =  [[sortMalwareTestsBray[j][i][1] for i in range(len(sortMalwareTestsBray[j]))] \n",
    "             for j in range(len(sortMalwareTestsBray))]\n",
    "\n",
    "benignsBray =  [[sortBenignTestsBray[j][i][1] for i in range(len(sortBenignTestsBray[j]))] \n",
    "             for j in range(len(sortBenignTestsBray))]\n",
    "\n"
   ]
  },
  {
   "cell_type": "code",
   "execution_count": null,
   "metadata": {},
   "outputs": [],
   "source": [
    "t = time.time()\n",
    "malwareTestsSq = [calculateDifference(maps[i][0],maps[i][2], \n",
    "                                    itDirs[i], False, metric = \"sqeuc\") for i in range(len(maps))]\n",
    "print(\"malware took %f seconds\"%(time.time()-t))\n",
    "\n",
    "benignTestsSq = [calculateDifference(maps[i][1],maps[i][2], \n",
    "                                   itDirs[i], True, metric = \"sqeuc\") for i in range(len(maps))]"
   ]
  },
  {
   "cell_type": "code",
   "execution_count": null,
   "metadata": {},
   "outputs": [],
   "source": [
    "sortBenignTestsSq = sortTests(benignTestsSq)\n",
    "sortMalwareTestsSq = sortTests(malwareTestsSq)"
   ]
  },
  {
   "cell_type": "code",
   "execution_count": null,
   "metadata": {},
   "outputs": [],
   "source": [
    "malwaresSq =  [[sortMalwareTestsSq[j][i][1] for i in range(len(sortMalwareTestsSq[j]))] \n",
    "             for j in range(len(sortMalwareTestsSq))]\n",
    "\n",
    "benignsSq =  [[sortBenignTestsSq[j][i][1] for i in range(len(sortBenignTestsSq[j]))] \n",
    "             for j in range(len(sortBenignTestsSq))]\n",
    "\n"
   ]
  },
  {
   "cell_type": "code",
   "execution_count": null,
   "metadata": {},
   "outputs": [],
   "source": [
    "t = time.time()\n",
    "malwareTestsCor = [calculateDifference(maps[i][0],maps[i][2], \n",
    "                                    itDirs[i], False, metric = \"cor\") for i in range(len(maps))]\n",
    "print(\"malware took %f seconds\"%(time.time()-t))\n",
    "\n",
    "benignTestsCor = [calculateDifference(maps[i][1],maps[i][2], \n",
    "                                   itDirs[i], True, metric = \"cor\") for i in range(len(maps))]"
   ]
  },
  {
   "cell_type": "code",
   "execution_count": null,
   "metadata": {},
   "outputs": [],
   "source": [
    "sortBenignTestsCor = sortTests(benignTestsCor)\n",
    "sortMalwareTestsCor = sortTests(malwareTestsCor)"
   ]
  },
  {
   "cell_type": "code",
   "execution_count": null,
   "metadata": {},
   "outputs": [],
   "source": [
    "malwaresCor =  [[sortMalwareTestsCor[j][i][1] for i in range(len(sortMalwareTestsCor[j]))] \n",
    "             for j in range(len(sortMalwareTestsCor))]\n",
    "\n",
    "benignsCor =  [[sortBenignTestsCor[j][i][1] for i in range(len(sortBenignTestsCor[j]))] \n",
    "             for j in range(len(sortBenignTestsCor))]\n",
    "\n"
   ]
  },
  {
   "cell_type": "code",
   "execution_count": null,
   "metadata": {},
   "outputs": [],
   "source": [
    "t = time.time()\n",
    "malwareTestsProd = [calculateDifference(maps[i][0],maps[i][2], \n",
    "                                    itDirs[i], False, metric = \"prod\") for i in range(len(maps))]\n",
    "print(\"malware took %f seconds\"%(time.time()-t))\n",
    "\n",
    "benignTestsProd = [calculateDifference(maps[i][1],maps[i][2], \n",
    "                                   itDirs[i], True, metric = \"prod\") for i in range(len(maps))]\n",
    "sortBenignTestsProd = sortTests(benignTestsProd)\n",
    "sortMalwareTestsProd = sortTests(malwareTestsProd)"
   ]
  },
  {
   "cell_type": "code",
   "execution_count": null,
   "metadata": {},
   "outputs": [],
   "source": [
    "malwaresProd =  [[sortMalwareTestsProd[j][i][1] for i in range(len(sortMalwareTestsProd[j]))] \n",
    "             for j in range(len(sortMalwareTestsProd))]\n",
    "\n",
    "benignsProd =  [[sortBenignTestsProd[j][i][1] for i in range(len(sortBenignTestsProd[j]))] \n",
    "             for j in range(len(sortBenignTestsProd))]\n",
    "\n"
   ]
  },
  {
   "cell_type": "code",
   "execution_count": null,
   "metadata": {},
   "outputs": [],
   "source": [
    "t = time.time()\n",
    "malwareTestsMin = [calculateDifference(maps[i][0],maps[i][2], \n",
    "                                    itDirs[i], False, metric = \"mink\") for i in range(len(maps))]\n",
    "print(\"malware took %f seconds\"%(time.time()-t))\n",
    "\n",
    "benignTestsMin = [calculateDifference(maps[i][1],maps[i][2], \n",
    "                                   itDirs[i], True, metric = \"mink\") for i in range(len(maps))]\n",
    "sortBenignTestsMin = sortTests(benignTestsMin)\n",
    "sortMalwareTestsMin = sortTests(malwareTestsMin)"
   ]
  },
  {
   "cell_type": "code",
   "execution_count": null,
   "metadata": {},
   "outputs": [],
   "source": [
    "malwaresMin =  [[sortMalwareTestsMin[j][i][1] for i in range(len(sortMalwareTestsMin[j]))] \n",
    "             for j in range(len(sortMalwareTestsMin))]\n",
    "\n",
    "benignsMin =  [[sortBenignTestsMin[j][i][1] for i in range(len(sortBenignTestsMin[j]))] \n",
    "             for j in range(len(sortBenignTestsMin))]\n",
    "\n"
   ]
  },
  {
   "cell_type": "code",
   "execution_count": null,
   "metadata": {},
   "outputs": [],
   "source": [
    "steps = 35\n",
    "detect, csmThresh = detectSteps(benigns,malwares,steps, metric= \"Csm\")\n",
    "detectEuc, eucThresh = detectSteps(benignsEuc,malwaresEuc, steps, metric=\"Euc\")\n",
    "detectBray, brayThresh = detectSteps(benignsBray,malwaresBray, steps, metric=\"Bray\")\n",
    "detectSq, sqThresh = detectSteps(benignsSq,malwaresSq, steps, metric=\"Sqeuc\")\n",
    "detectCor, corThresh = detectSteps(benignsCor, malwaresCor, steps, metric=\"Dist Cor\")\n",
    "detectProd, prodThresh = detectSteps(benignsProd, malwaresProd, steps, metric=\"Prod\")\n",
    "detectMin, minThresh = detectSteps(benignsMin, malwaresMin, steps, metric=\"Minkowski\")"
   ]
  },
  {
   "cell_type": "code",
   "execution_count": null,
   "metadata": {
    "scrolled": false
   },
   "outputs": [],
   "source": [
    "mal_det = np.array([detect[i][0] for i in range(len(detect))])\n",
    "ben_det = np.array([detect[i][1] for i in range(len(detect))])\n",
    "threshMean_csm = np.mean(np.array([i for i in csmThresh]),axis=0)\n",
    "\n",
    "mal_euc = np.array([detectEuc[i][0] for i in range(len(detectEuc))])\n",
    "ben_euc = np.array([detectEuc[i][1] for i in range(len(detectEuc))])\n",
    "threshMean_euc = np.mean(np.array([i for i in eucThresh]),axis=0)\n",
    "\n",
    "mal_bray = np.array([detectBray[i][0] for i in range(len(detectBray))])\n",
    "ben_bray = np.array([detectBray[i][1] for i in range(len(detectBray))])\n",
    "threshMean_bray = np.mean(np.array([i for i in brayThresh]),axis=0)\n",
    "\n",
    "mal_sq = np.array([detectSq[i][0] for i in range(len(detectSq))])\n",
    "ben_sq = np.array([detectSq[i][1] for i in range(len(detectSq))])\n",
    "threshMean_sq = np.mean(np.array([i for i in sqThresh]),axis=0)\n",
    "\n",
    "mal_cor = np.array([detectCor[i][0] for i in range(len(detectCor))])\n",
    "ben_cor = np.array([detectCor[i][1] for i in range(len(detectCor))])\n",
    "threshMean_cor = np.mean(np.array([i for i in corThresh]),axis=0)\n",
    "\n",
    "mal_prod = np.array([detectProd[i][0] for i in range(len(detectProd))])\n",
    "ben_prod = np.array([detectProd[i][1] for i in range(len(detectProd))])\n",
    "threshMean_prod = np.mean(np.array([i for i in prodThresh]),axis=0)\n",
    "\n",
    "mal_min = np.array([detectMin[i][0] for i in range(len(detectMin))])\n",
    "ben_min = np.array([detectMin[i][1] for i in range(len(detectMin))])\n",
    "threshMean_min = np.mean(np.array([i for i in minThresh]),axis=0)\n",
    "\n",
    "avg_det = np.mean(mal_det,axis=0)\n",
    "avg_det_b = np.mean(ben_det,axis=0)\n",
    "avg_euc = np.mean(mal_euc, axis =0)\n",
    "avg_euc_b = np.mean(ben_euc,axis = 0)\n",
    "avg_bray = np.mean(mal_bray, axis =0)\n",
    "avg_bray_b = np.mean(ben_bray,axis = 0)\n",
    "avg_sq = np.mean(mal_sq, axis =0)\n",
    "avg_sqeuc_b = np.mean(ben_sq,axis = 0)\n",
    "avg_cor = np.mean(mal_cor, axis =0)\n",
    "avg_cor_b = np.mean(ben_cor,axis = 0)\n",
    "avg_prod = np.mean(mal_prod, axis =0)\n",
    "avg_prod_b = np.mean(ben_prod,axis = 0)\n",
    "avg_min = np.mean(mal_min, axis =0)\n",
    "avg_min_b = np.mean(ben_min,axis = 0)\n",
    "\n",
    "print(avg_det,'\\n',avg_det_b,'\\n')\n",
    "print(avg_cor,'\\n',avg_cor_b)\n",
    "\n",
    "tot_avg = np.mean(np.array([avg_det,avg_euc,avg_bray,avg_min,avg_cor]),axis=0)\n",
    "tot_avg_b = np.mean(np.array([avg_det_b,avg_euc_b,avg_bray_b,avg_min_b,avg_cor_b]),axis=0)\n",
    "\n",
    "\n",
    "tickLabels = []\n",
    "\n",
    "for i in range(len(avg_det)):\n",
    "    tickLabels.append(r\"$λ_{%d}$\" %(i))\n",
    "    \n",
    "\n",
    "\n",
    "legendList = []\n",
    "figure(num=None, figsize=(10,7), dpi=200, facecolor='w', edgecolor='k')\n",
    "plt.margins(0.01)\n",
    "\n",
    "plt.ylabel('Percentage of Detection',labelpad=5)\n",
    "plt.xlabel('λ Indices',labelpad=5)\n",
    "plt.xticks(np.arange(0,len(avg_det),1),tickLabels,rotation = 45)\n",
    "plt.yticks(np.arange(0,105,5))\n",
    "\n",
    "# plt.title(\"Average Metrics Flow Map\")\n",
    "plt.plot(avg_det)\n",
    "legendList.append('cosine')\n",
    "plt.plot(avg_euc)\n",
    "legendList.append('euclidean')\n",
    "plt.plot(avg_bray)\n",
    "legendList.append('bray-curtis')\n",
    "# plt.plot(avg_sq)\n",
    "# legendList.append('squared-euclidean')\n",
    "# plt.plot(avg_cor)\n",
    "# legendList.append('cor')\n",
    "# plt.plot(avg_prod)\n",
    "# legendList.append('prod')\n",
    "plt.plot(avg_min)\n",
    "legendList.append('manhattan')\n",
    "# plt.legend(['cosine', 'euclidean','bray-curtis', 'squared euclidean','cor', 'product', 'minkowski'], loc = 'lower left')\n",
    "plt.legend(legendList,loc='lower left', fancybox=True, framealpha=0.2)\n",
    "plt.savefig(\"Average Malware of all metrics.pdf\",format='pdf')\n",
    "plt.savefig(\"Average Malware of all metrics.png\",format='png')\n",
    "plt.savefig(\"Average Malware of all metrics.eps\",format='eps')\n",
    "\n",
    "plt.clf()\n",
    "figure(num=None, figsize=(10,7), dpi=200, facecolor='w', edgecolor='k')\n",
    "plt.margins(0.01)\n",
    "\n",
    "tickLabels = []\n",
    "\n",
    "for i in range(len(avg_det)):\n",
    "    tickLabels.append(r\"$λ_{%d}$\" %(i))\n",
    "    \n",
    "\n",
    "plt.xticks(np.arange(0,len(avg_det),1),tickLabels,rotation = 45)\n",
    "plt.yticks(np.arange(0,105,5))\n",
    "plt.ylabel('Percentage of Detection',labelpad=5)\n",
    "plt.xlabel('λ Indices',labelpad=5)\n",
    "\n",
    "plt.plot(avg_det_b)\n",
    "plt.plot(avg_euc_b)\n",
    "plt.plot(avg_bray_b)\n",
    "# plt.plot(avg_sqeuc_b)\n",
    "# plt.plot(avg_cor_b)\n",
    "# plt.plot(avg_prod_b)\n",
    "\n",
    "\n",
    "plt.plot(avg_min_b)\n",
    "\n",
    "plt.legend(legendList,loc='lower left',fancybox=True, framealpha=0.2)\n",
    "\n",
    "\n",
    "\n",
    "plt.savefig(\"Average Benign of all metrics.pdf\",format='pdf')\n",
    "plt.savefig(\"Average Benign of all metrics.png\",format='png')\n",
    "plt.savefig(\"Average Benign of all metrics.eps\",format='eps')\n",
    "plt.clf()\n",
    "\n",
    "\n",
    "\n",
    "plt.legend([\"cosine malware\", \"cosine benign\",\"euclidean malware\", \"euclidean benign\", \"BC malware\", \n",
    "            \"BC benign\", \"Mink malware\", \"Mink benign\",\"Cor malware\", \"Cor benign\"])\n",
    "# plt.savefig(\"averages of all metrics.png\")"
   ]
  },
  {
   "cell_type": "code",
   "execution_count": null,
   "metadata": {},
   "outputs": [],
   "source": [
    "print(r'\\lambda_{i}'.format(i=str(10)))"
   ]
  },
  {
   "cell_type": "code",
   "execution_count": null,
   "metadata": {
    "scrolled": true
   },
   "outputs": [],
   "source": [
    "plot_metrics(avg_det,avg_det_b,threshMean_csm,\"cosine\")\n",
    "plot_metrics(avg_euc,avg_euc_b,threshMean_euc,\"euclidean\")\n",
    "plot_metrics(avg_bray,avg_bray_b,threshMean_bray,\"bray-curtis\")\n",
    "plot_metrics(avg_min,avg_min_b,threshMean_min,\"manhattan\")\n",
    "# plot_metrics(avg_cor, avg_cor_b,threshMean_cor, \"correlation\")\n",
    "# plot_metrics(avg_sq, avg_sqeuc_b,threshMean_sq, \"square euclidean\")\n",
    "# plot_metrics(avg_prod, avg_prod_b,threshMean_prod, \"product\")\n"
   ]
  },
  {
   "cell_type": "code",
   "execution_count": null,
   "metadata": {},
   "outputs": [],
   "source": [
    "simAverages(sortMalwareTests,sortBenignTests,\"Csm\")\n"
   ]
  },
  {
   "cell_type": "code",
   "execution_count": null,
   "metadata": {
    "scrolled": true
   },
   "outputs": [],
   "source": [
    "simAverages(sortMalwareTests,sortBenignTests,\"Csm\")\n",
    "print(\"===========================================\")\n",
    "print()\n",
    "simAverages(sortMalwareTestsEuc,sortBenignTestsEuc,\"Euc\")\n",
    "print(\"===========================================\")\n",
    "print()\n",
    "simAverages(sortMalwareTestsBray,sortBenignTestsBray,\"Bray\")\n",
    "print(\"===========================================\")\n",
    "print()\n",
    "simAverages(sortMalwareTestsSq,sortBenignTestsSq,\"Sq\")\n",
    "print(\"===========================================\")\n",
    "print()\n",
    "# simAverages(sortMalwareTestsCor,sortBenignTestsCor,\"Cor\")\n",
    "print(\"===========================================\")\n",
    "print()\n",
    "simAverages(sortMalwareTestsProd,sortBenignTestsProd,\"Prod\")\n",
    "print(\"===========================================\")\n",
    "simAverages(sortMalwareTestsMin,sortBenignTestsMin,\"Minkowski\")\n"
   ]
  },
  {
   "cell_type": "code",
   "execution_count": null,
   "metadata": {},
   "outputs": [],
   "source": []
  },
  {
   "cell_type": "code",
   "execution_count": null,
   "metadata": {},
   "outputs": [],
   "source": []
  },
  {
   "cell_type": "code",
   "execution_count": null,
   "metadata": {},
   "outputs": [],
   "source": []
  },
  {
   "cell_type": "code",
   "execution_count": null,
   "metadata": {},
   "outputs": [],
   "source": []
  },
  {
   "cell_type": "code",
   "execution_count": null,
   "metadata": {},
   "outputs": [],
   "source": []
  },
  {
   "cell_type": "code",
   "execution_count": null,
   "metadata": {},
   "outputs": [],
   "source": []
  },
  {
   "cell_type": "code",
   "execution_count": null,
   "metadata": {},
   "outputs": [],
   "source": []
  },
  {
   "cell_type": "code",
   "execution_count": null,
   "metadata": {},
   "outputs": [],
   "source": [
    "t = time.time()\n",
    "malwareTestsPrank = [calculateDifference(pgrMap[i][0],pgrMap[i][2], \n",
    "                                    itDirs[i], False) for i in range(len(pgrMap))]\n",
    "print(\"malware took %f seconds\"%(time.time()-t))\n",
    "\n",
    "benignTestsPrank = [calculateDifference(pgrMap[i][1],pgrMap[i][2], \n",
    "                                   itDirs[i], True) for i in range(len(pgrMap))]\n",
    "sortBenignTestsPrank = sortTests(benignTestsPrank)\n",
    "sortMalwareTestsPrank = sortTests(malwareTestsPrank)\n",
    "malwaresPrank =  [[sortMalwareTestsPrank[j][i][1] for i in range(len(sortMalwareTestsPrank[j]))] \n",
    "             for j in range(len(sortMalwareTestsPrank))]\n",
    "\n",
    "benignsPrank =  [[sortBenignTestsPrank[j][i][1] for i in range(len(sortBenignTestsPrank[j]))] \n",
    "             for j in range(len(sortBenignTestsPrank))]\n",
    "\n"
   ]
  },
  {
   "cell_type": "code",
   "execution_count": null,
   "metadata": {},
   "outputs": [],
   "source": [
    "t = time.time()\n",
    "malwareTestsPrankEuc = [calculateDifference(pgrMap[i][0],pgrMap[i][2], \n",
    "                                    itDirs[i], False, metric = 'euc') for i in range(len(pgrMap))]\n",
    "print(\"malware took %f seconds\"%(time.time()-t))\n",
    "\n",
    "benignTestsPrankEuc = [calculateDifference(pgrMap[i][1],pgrMap[i][2], \n",
    "                                   itDirs[i], True, metric = 'euc') for i in range(len(pgrMap))]\n",
    "sortBenignTestsPrankEuc = sortTests(benignTestsPrankEuc)\n",
    "sortMalwareTestsPrankEuc = sortTests(malwareTestsPrankEuc)\n",
    "malwaresPrankEuc =  [[sortMalwareTestsPrankEuc[j][i][1] for i in range(len(sortMalwareTestsPrankEuc[j]))] \n",
    "             for j in range(len(sortMalwareTestsPrankEuc))]\n",
    "\n",
    "benignsPrankEuc =  [[sortBenignTestsPrankEuc[j][i][1] for i in range(len(sortBenignTestsPrankEuc[j]))] \n",
    "             for j in range(len(sortBenignTestsPrankEuc))]\n",
    "\n"
   ]
  },
  {
   "cell_type": "code",
   "execution_count": null,
   "metadata": {},
   "outputs": [],
   "source": [
    "t = time.time()\n",
    "malwareTestsPrankBray = [calculateDifference(pgrMap[i][0],pgrMap[i][2], \n",
    "                                    itDirs[i], False, metric = 'bray') for i in range(len(pgrMap))]\n",
    "print(\"malware took %f seconds\"%(time.time()-t))\n",
    "\n",
    "benignTestsPrankBray = [calculateDifference(pgrMap[i][1],pgrMap[i][2], \n",
    "                                   itDirs[i], True, metric = 'bray') for i in range(len(pgrMap))]\n",
    "sortBenignTestsPrankBray = sortTests(benignTestsPrankBray)\n",
    "sortMalwareTestsPrankBray = sortTests(malwareTestsPrankBray)\n",
    "malwaresPrankBray =  [[sortMalwareTestsPrankBray[j][i][1] for i in range(len(sortMalwareTestsPrankBray[j]))] \n",
    "             for j in range(len(sortMalwareTestsPrankBray))]\n",
    "\n",
    "benignsPrankBray =  [[sortBenignTestsPrankBray[j][i][1] for i in range(len(sortBenignTestsPrankBray[j]))] \n",
    "             for j in range(len(sortBenignTestsPrankBray))]\n",
    "\n"
   ]
  },
  {
   "cell_type": "code",
   "execution_count": null,
   "metadata": {},
   "outputs": [],
   "source": [
    "t = time.time()\n",
    "malwareTestsPrankSqeuc = [calculateDifference(pgrMap[i][0],pgrMap[i][2], \n",
    "                                    itDirs[i], False,metric= 'sqeuc') for i in range(len(pgrMap))]\n",
    "print(\"malware took %f seconds\"%(time.time()-t))\n",
    "\n",
    "benignTestsPrankSqeuc = [calculateDifference(pgrMap[i][1],pgrMap[i][2], \n",
    "                                   itDirs[i], True, metric = 'sqeuc') for i in range(len(pgrMap))]\n",
    "sortBenignTestsPrankSqeuc = sortTests(benignTestsPrankSqeuc)\n",
    "sortMalwareTestsPrankSqeuc = sortTests(malwareTestsPrankSqeuc)\n",
    "malwaresPrankSqeuc =  [[sortMalwareTestsPrankSqeuc[j][i][1] for i in range(len(sortMalwareTestsPrankSqeuc[j]))] \n",
    "             for j in range(len(sortMalwareTestsPrankSqeuc))]\n",
    "\n",
    "benignsPrankSqeuc =  [[sortBenignTestsPrankSqeuc[j][i][1] for i in range(len(sortBenignTestsPrankSqeuc[j]))] \n",
    "             for j in range(len(sortBenignTestsPrankSqeuc))]\n"
   ]
  },
  {
   "cell_type": "code",
   "execution_count": null,
   "metadata": {},
   "outputs": [],
   "source": [
    "t = time.time()\n",
    "malwareTestsPrankMink = [calculateDifference(pgrMap[i][0],pgrMap[i][2], \n",
    "                                    itDirs[i], False, metric = 'mink') for i in range(len(pgrMap))]\n",
    "print(\"malware took %f seconds\"%(time.time()-t))\n",
    "\n",
    "benignTestsPrankMink = [calculateDifference(pgrMap[i][1],pgrMap[i][2], \n",
    "                                   itDirs[i], True, metric= 'mink') for i in range(len(pgrMap))]\n",
    "sortBenignTestsPrankMink = sortTests(benignTestsPrankMink)\n",
    "sortMalwareTestsPrankMink = sortTests(malwareTestsPrankMink)\n",
    "malwaresPrankMink =  [[sortMalwareTestsPrankMink[j][i][1] for i in range(len(sortMalwareTestsPrankMink[j]))] \n",
    "             for j in range(len(sortMalwareTestsPrankMink))]\n",
    "\n",
    "benignsPrankMink =  [[sortBenignTestsPrankMink[j][i][1] for i in range(len(sortBenignTestsPrankMink[j]))] \n",
    "             for j in range(len(sortBenignTestsPrankMink))]\n"
   ]
  },
  {
   "cell_type": "code",
   "execution_count": null,
   "metadata": {},
   "outputs": [],
   "source": [
    "steps = 20\n",
    "detectRank, csmThreshRank = detectSteps(benignsPrank,malwaresPrank,steps, metric= \"PageRankCsm\")\n",
    "detectEucRank, eucThreshRank = detectSteps(benignsPrankEuc,malwaresPrankEuc, steps, metric=\"PageRankEuc\")\n",
    "detectBrayRank, brayThreshRank = detectSteps(benignsPrankBray,malwaresPrankBray, steps, metric=\"PageRankBray\")\n",
    "detectSqRank, sqThreshRank = detectSteps(benignsPrankSqeuc,malwaresPrankSqeuc, steps, metric=\"PageRankSqeuc\")\n",
    "detectMinRank, minThreshRank = detectSteps(benignsPrankMink, malwaresPrankMink, steps, metric=\"PageRankMinkowski\")"
   ]
  },
  {
   "cell_type": "code",
   "execution_count": null,
   "metadata": {},
   "outputs": [],
   "source": [
    "mal_detR = np.array([detectRank[i][0] for i in range(len(detectRank))])\n",
    "ben_detR= np.array([detectRank[i][1] for i in range(len(detectRank))])\n",
    "threshMean_csmR = np.mean(np.array([i for i in csmThreshRank]),axis=0)\n",
    "\n",
    "mal_eucR = np.array([detectEucRank[i][0] for i in range(len(detectEucRank))])\n",
    "ben_eucR = np.array([detectEucRank[i][1] for i in range(len(detectEucRank))])\n",
    "threshMean_eucR = np.mean(np.array([i for i in eucThreshRank]),axis=0)\n",
    "\n",
    "mal_brayR = np.array([detectBrayRank[i][0] for i in range(len(detectBrayRank))])\n",
    "ben_brayR = np.array([detectBrayRank[i][1] for i in range(len(detectBrayRank))])\n",
    "threshMean_brayR = np.mean(np.array([i for i in brayThreshRank]),axis=0)\n",
    "\n",
    "mal_sqR = np.array([detectSqRank[i][0] for i in range(len(detectSqRank))])\n",
    "ben_sqR = np.array([detectSqRank[i][1] for i in range(len(detectSqRank))])\n",
    "threshMean_sqR = np.mean(np.array([i for i in sqThreshRank]),axis=0)\n",
    "\n",
    "mal_minR = np.array([detectMinRank[i][0] for i in range(len(detectMinRank))])\n",
    "ben_minR = np.array([detectMinRank[i][1] for i in range(len(detectMinRank))])\n",
    "threshMean_minR = np.mean(np.array([i for i in minThreshRank]),axis=0)\n",
    "\n",
    "avg_detR = np.mean(mal_detR,axis=0)\n",
    "avg_det_bR = np.mean(ben_detR,axis=0)\n",
    "avg_eucR = np.mean(mal_eucR, axis =0)\n",
    "avg_euc_bR = np.mean(ben_eucR,axis = 0)\n",
    "avg_brayR = np.mean(mal_brayR, axis =0)\n",
    "avg_bray_bR = np.mean(ben_brayR,axis = 0)\n",
    "avg_sqR = np.mean(mal_sqR, axis =0)\n",
    "avg_sqeuc_bR = np.mean(ben_sqR,axis = 0)\n",
    "avg_minR = np.mean(mal_minR, axis =0)\n",
    "avg_min_bR = np.mean(ben_minR,axis = 0)"
   ]
  },
  {
   "cell_type": "code",
   "execution_count": null,
   "metadata": {
    "scrolled": true
   },
   "outputs": [],
   "source": [
    "plot_metrics(avg_detR,avg_det_bR,threshMean_csmR,\"PageRank-cosine\")\n",
    "plot_metrics(avg_eucR,avg_euc_bR,threshMean_eucR,\"PageRank-euclidean\")\n",
    "plot_metrics(avg_brayR,avg_bray_bR,threshMean_brayR,\"PageRank-bray-curtis\")\n",
    "plot_metrics(avg_minR,avg_min_bR,threshMean_minR,\"PageRank-minkowski\")\n",
    "plot_metrics(avg_sqR, avg_sqeuc_bR,threshMean_sqR, \"PageRank-square euc\")"
   ]
  },
  {
   "cell_type": "code",
   "execution_count": null,
   "metadata": {},
   "outputs": [],
   "source": []
  },
  {
   "cell_type": "code",
   "execution_count": null,
   "metadata": {},
   "outputs": [],
   "source": []
  }
 ],
 "metadata": {
  "kernelspec": {
   "display_name": "Python 3",
   "language": "python",
   "name": "python3"
  },
  "language_info": {
   "codemirror_mode": {
    "name": "ipython",
    "version": 3
   },
   "file_extension": ".py",
   "mimetype": "text/x-python",
   "name": "python",
   "nbconvert_exporter": "python",
   "pygments_lexer": "ipython3",
   "version": "3.7.6"
  }
 },
 "nbformat": 4,
 "nbformat_minor": 2
}
