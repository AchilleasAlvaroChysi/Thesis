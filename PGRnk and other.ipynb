{
 "cells": [
  {
   "cell_type": "code",
   "execution_count": 1,
   "metadata": {},
   "outputs": [],
   "source": [
    "from collections import defaultdict \n",
    "import statistics\n",
    "import os\n",
    "import sys\n",
    "import csv\n",
    "import math\n",
    "import random\n",
    "import time\n",
    "import networkx as nx\n",
    "from matplotlib.pyplot import figure\n",
    "from networkx.algorithms.flow import edmonds_karp\n",
    "from pathlib import Path, PureWindowsPath\n",
    "from networkx.algorithms.link_analysis import pagerank_numpy\n",
    "from collections import Counter\n",
    "from IPython.display import Image, display\n",
    "from matplotlib import pyplot as plt\n",
    "import numpy as np\n",
    "from numpy import array\n",
    "from scipy.spatial import distance\n",
    "from sklearn.metrics.pairwise import cosine_similarity\n",
    "from networkx import similarity as sm\n"
   ]
  },
  {
   "cell_type": "code",
   "execution_count": 2,
   "metadata": {},
   "outputs": [],
   "source": [
    "def simAverages(malTest, benTest, metric):\n",
    "    similarities = [similarityMetric(malTest[i]) for i in range(len(malTest))]\n",
    "    ties = []\n",
    "    print(malTest[0])\n",
    "    for i in similarities :\n",
    "        print(i)\n",
    "    counts = [[i[j] for i in similarities] for j in range(len(i))]\n",
    "    avg = [statistics.mean(i) for i in counts]\n",
    "    print(\"---------------\")\n",
    "    print(metric)\n",
    "    print(\"---------------\")\n",
    "    print(avg)"
   ]
  },
  {
   "cell_type": "code",
   "execution_count": 3,
   "metadata": {},
   "outputs": [],
   "source": [
    "def similarityMetric(sr):\n",
    "    counterA = 0\n",
    "    counterB = 0\n",
    "    counterC = 0\n",
    "    for i in sr :\n",
    "        A,B = i[0].split(',')[0], i[0].split(',')[1]\n",
    "        C,D = i[2].split(',')[0], i[2].split(',')[1]\n",
    "        if A==C and B==D:\n",
    "            counterA +=1\n",
    "        if A==C or B==D:\n",
    "            counterB +=1\n",
    "        if A==C or A==D or B == C or B == D:\n",
    "            counterC += 1\n",
    "#     print(\"cA = %d (%f) cB= %d (%f) cC =%d (%f)\"%(counterA, counterA/len(sr), counterB, counterB/len(sr), counterC, counterC/len(sr)))\n",
    "    return [counterA/len(sr),counterB/len(sr),counterC/len(sr)]"
   ]
  },
  {
   "cell_type": "code",
   "execution_count": 4,
   "metadata": {},
   "outputs": [],
   "source": [
    "def printProgressBar (iteration, total, prefix = '', suffix = '', decimals = 1, length = 100, fill = '█', printEnd = \"\\r\"):\n",
    "    \"\"\"\n",
    "    Call in a loop to create terminal progress bar\n",
    "    @params:\n",
    "        iteration   - Required  : current iteration (Int)\n",
    "        total       - Required  : total iterations (Int)\n",
    "        prefix      - Optional  : prefix string (Str)\n",
    "        suffix      - Optional  : suffix string (Str)\n",
    "        decimals    - Optional  : positive number of decimals in percent complete (Int)\n",
    "        length      - Optional  : character length of bar (Int)\n",
    "        fill        - Optional  : bar fill character (Str)\n",
    "        printEnd    - Optional  : end character (e.g. \"\\r\", \"\\r\\n\") (Str)\n",
    "    \"\"\"\n",
    "    percent = (\"{0:.\" + str(decimals) + \"f}\").format(100 * (iteration / float(total)))\n",
    "    filledLength = int(length * iteration // total)\n",
    "    bar = fill * filledLength + '-' * (length - filledLength)\n",
    "    print('\\r%s |%s| %s%% %s' % (prefix, bar, percent, suffix), end = printEnd)\n",
    "    # Print New Line on Complete\n",
    "    if iteration == total: \n",
    "        print()"
   ]
  },
  {
   "cell_type": "code",
   "execution_count": 5,
   "metadata": {},
   "outputs": [],
   "source": [
    "def createDirs(fold):\n",
    "    path = \"DATASET F1/fold_\" +str(fold)\n",
    "    mal_path = path+ \"/20%_test\"\n",
    "    train_path = path+ \"/80%_train\"\n",
    "    benign_path = \"DATASET F1/specimen_benign/20%_test\"\n",
    "    \n",
    "    w_mal_path = PureWindowsPath(mal_path)\n",
    "    w_train_path= PureWindowsPath(train_path)\n",
    "    w_benign_path = PureWindowsPath(benign_path)\n",
    "#     print( mal_path+\"\\n\"+ train_path+\"\\n\"+ benign_path)\n",
    "#     print( w_mal_path, w_train_path, w_benign_path)\n",
    "\n",
    "    filename = \"default_G_tone_map\"\n",
    "    mapFilename = \"default_unique_mapping\"\n",
    "    \n",
    "    rootDir = [os.path.join(root, name)\n",
    "             for root, dirs, files in os.walk(w_mal_path)\n",
    "             for name in files\n",
    "             if name.endswith(filename+\".csv\")]\n",
    "    rootDir.sort()\n",
    "    # for i in range(len(paths)):\n",
    "    #     p = [os.path.join(root, name)\n",
    "    #              for root, dirs, files in os.walk(paths[i]+\"/\"+path)\n",
    "    #              for name in files\n",
    "    #              if name.endswith(filename+\".csv\")]\n",
    "    #     p.sort()\n",
    "    #     rootDirs[i] = p\n",
    "    # print(rootDirs[10])\n",
    "    benignDir = [os.path.join(root, name)\n",
    "                 for root, dirs, files in os.walk(w_benign_path)\n",
    "                 for name in files\n",
    "                 if name.endswith(filename+\".csv\")]\n",
    "    benignDir.sort()\n",
    "\n",
    "    # for i in range(len(paths)):\n",
    "    trainDir = [os.path.join(root, name)\n",
    "                 for root, dirs, files in os.walk(w_train_path)\n",
    "                 for name in files\n",
    "                 if name.endswith(filename+\".csv\")]\n",
    "    trainDir.sort()\n",
    "    #     trainDirs[i] = trainDir\n",
    "    return [rootDir,benignDir,trainDir]"
   ]
  },
  {
   "cell_type": "code",
   "execution_count": 6,
   "metadata": {},
   "outputs": [],
   "source": [
    "def createGraphs(dirs,npmode):\n",
    "    time_to = time.time()\n",
    "    rootDir = dirs[0]\n",
    "    benignDir = dirs[1]\n",
    "    trainDir = dirs[2]\n",
    "    mal_gs = []\n",
    "    mal_np_gs = []\n",
    "    ben_gs = []\n",
    "    train_gs = []\n",
    "    train_np_gs = []\n",
    "    ben_np_gs = []\n",
    "    csm_vals = {}\n",
    "    for i in range(len(rootDir)):\n",
    "        A = np.array(getArray(rootDir[i]))\n",
    "        G = nx.from_numpy_matrix(A)\n",
    "        mal_gs.append(G)\n",
    "        mal_np_gs.append(A)\n",
    "#         printProgressBar(i, len(rootDir)-1,prefix = 'malware gs')\n",
    "\n",
    "    for i in range(len(trainDir)):\n",
    "        A = np.array(getArray(trainDir[i]))\n",
    "        G = nx.from_numpy_matrix(A)\n",
    "        train_gs.append(G)\n",
    "        train_np_gs.append(A)\n",
    "#         printProgressBar(i, len(trainDir)-1, prefix = 'train gs')\n",
    "        \n",
    "    for i in range(len(benignDir)):\n",
    "        A = np.array(getArray(benignDir[i]))\n",
    "        G = nx.from_numpy_matrix(A)\n",
    "        ben_gs.append(G)\n",
    "        ben_np_gs.append(A)\n",
    "#         printProgressBar(i, len(benignDir)-1, prefix = 'benign gs')\n",
    "    if npmode:\n",
    "        return [mal_np_gs, ben_np_gs, train_np_gs]\n",
    "    else: \n",
    "        return [mal_gs, ben_gs, train_gs]\n",
    "    "
   ]
  },
  {
   "cell_type": "code",
   "execution_count": 7,
   "metadata": {},
   "outputs": [],
   "source": [
    "def calculateDifference(listA, listB, dirs,isBenign, metric = \"csm\"):\n",
    "    ret_val = []\n",
    "    rootDir = dirs[0]\n",
    "    benDir = dirs[1]\n",
    "    trainDir = dirs[2]\n",
    "    methods = {'csm': lambda a,b : 1-distance.cosine(a,b), \n",
    "               'euc': lambda a,b: 1000.0/(1000.0+distance.euclidean(a,b)), \n",
    "               'bray': lambda a,b: 1-distance.braycurtis(a,b), \n",
    "               'mink': lambda a,b: 1000.0/(1000.0+distance.minkowski(a,b,1)),\n",
    "               'prod': lambda a,b: (1-distance.cosine(a,b))*(1-distance.braycurtis(a,b)),\n",
    "               'sqeuc' : lambda a,b: 1000.0/(1000.0+distance.sqeuclidean(a,b)),\n",
    "               'cor' : lambda a,b: 1-distance.correlation(a,b)}\n",
    "    for i in range(len(listA)):\n",
    "#         printProgressBar(i,len(listA)-1, length = 50, prefix = 'diff calculation', suffix = \"with \" + metric)\n",
    "        val = []\n",
    "        e_val = []\n",
    "        stats = []\n",
    "        for j in range(len(listB)):\n",
    "            val.append(methods[metric](listA[i], listB[j]))\n",
    "        if isBenign:\n",
    "            ret_val.append([benDir[i].split('\\\\')[-3],max(val),trainDir[val.index(max(val))].split('\\\\')[-3]])\n",
    "        else :\n",
    "            ret_val.append([rootDir[i].split('\\\\')[-3],max(val),trainDir[val.index(max(val))].split('\\\\')[-3]])\n",
    "    return ret_val\n"
   ]
  },
  {
   "cell_type": "code",
   "execution_count": 8,
   "metadata": {},
   "outputs": [],
   "source": [
    "def detection(ben, mal, itr, step, metric = 'Csm' ):\n",
    "    thresh =np.append(list(np.arange(ben[-1], ben[0], abs(ben[0]-ben[-1])/step)),ben[0])\n",
    "    \n",
    "    m = np.array((sum(i > thresh for i in mal)/len(mal))*100)\n",
    "    p = np.array((sum(i > thresh for i in ben)/len(ben))*100)\n",
    "    \n",
    "#     for i in [m,p]:\n",
    "#         plt.plot(i)\n",
    "        \n",
    "#     plt.yticks(np.arange(0,100,5))\n",
    "#     plt.xticks(np.arange(0,len(thresh),1))\n",
    "#     plt.draw()\n",
    "#     plt.title('detection at '+str(itr)+ ' iteration')\n",
    "#     plt.savefig(metric+ \"--\"+ str(itr)+'.png')\n",
    "#     plt.clf() \n",
    "    return [m, p], thresh"
   ]
  },
  {
   "cell_type": "code",
   "execution_count": 9,
   "metadata": {},
   "outputs": [],
   "source": [
    "def detectSteps(testA, testB,step, metric = \"Csm\"):\n",
    "    detect = []\n",
    "    thresh = []\n",
    "    for i in range(len(testA)):\n",
    "        det, thr = detection(testA[i], testB[i], i, step, metric=metric)\n",
    "        detect.append(det)\n",
    "        thresh.append(thr)\n",
    "    return detect, thresh"
   ]
  },
  {
   "cell_type": "code",
   "execution_count": 10,
   "metadata": {},
   "outputs": [],
   "source": [
    "def sortTests(test):\n",
    "    sortedTests =[]\n",
    "    for i in range(len(test)):\n",
    "        srTest = sorted(test[i], key = lambda kv:kv[1],reverse = True)\n",
    "        sortedTests.append(srTest)\n",
    "    return sortedTests"
   ]
  },
  {
   "cell_type": "code",
   "execution_count": 11,
   "metadata": {},
   "outputs": [],
   "source": [
    "def plot_metrics(listA, listB, listThr, metric):\n",
    "    \n",
    "    diffs = []\n",
    "    v = 0\n",
    "    print(listThr)\n",
    "    for i in range(len(listA)):\n",
    "        v = max(v,abs(listA[i]-listB[i]))\n",
    "        diffs.append(abs(listA[i]-listB[i]))\n",
    "    pd = diffs.index(v)\n",
    "    print(listA[pd], listB[pd])\n",
    "    figure(num=None, figsize=(10,7), dpi=200, facecolor='w', edgecolor=None)\n",
    "    plt.margins(0.01)\n",
    "    plt.plot(listA,'r')\n",
    "    plt.plot(listB,'g')\n",
    "#     plt.plot(pd,listA[pd],'yo-')\n",
    "#     plt.plot(pd,listB[pd],'yo-')\n",
    "#     plt.plot((pd,pd),(listA[pd],listB[pd]),'k--')\n",
    "    xi = list(range(len(listThr)))\n",
    "    plt.xticks(xi,[round(i,5) for i in listThr])\n",
    "    plt.xticks(fontsize=8, rotation=90)\n",
    "    plt.yticks(np.arange(0,105,5))\n",
    "    plt.legend([\"TP-rate\",\"FP-rate\"], loc='lower left')\n",
    "#     plt.title(\"Average five fold with %s metric\"%(metric))\n",
    "    plt.savefig(\"Average five fold with %s metric pagerank\"%(metric))\n",
    "    plt.clf()"
   ]
  },
  {
   "cell_type": "code",
   "execution_count": 12,
   "metadata": {},
   "outputs": [],
   "source": [
    "def getArray (path):\n",
    "    results = []\n",
    "    with open(path) as csvfile:\n",
    "        reader = csv.reader(csvfile,csv.QUOTE_NONNUMERIC) # change contents to floats\n",
    "        for row in reader: # each row is a list\n",
    "            nums = []\n",
    "            for i in row: \n",
    "                if i :\n",
    "                    nums.append(int(i))\n",
    "            results.append(nums)\n",
    "    return results"
   ]
  },
  {
   "cell_type": "code",
   "execution_count": 13,
   "metadata": {},
   "outputs": [],
   "source": [
    "def createGraphs(dirs, npmode):\n",
    "    rootDir = dirs[0]\n",
    "    benignDir = dirs[1]\n",
    "    trainDir = dirs[2]\n",
    "    mal_gs = []\n",
    "    mal_np_gs = []\n",
    "    ben_gs = []\n",
    "    train_gs = []\n",
    "    train_np_gs = []\n",
    "    ben_np_gs = []\n",
    "    csm_vals = {}\n",
    "    for i in range(len(rootDir)):\n",
    "        A = np.array(getArray(rootDir[i]))\n",
    "        G = nx.from_numpy_matrix(A)\n",
    "        mal_gs.append(G)\n",
    "        mal_np_gs.append(A)\n",
    "#         printProgressBar(i, len(rootDir)-1, suffix = 'malware gs')\n",
    "    for i in range(len(trainDir)):\n",
    "        A = np.array(getArray(trainDir[i]))\n",
    "        G = nx.from_numpy_matrix(A)\n",
    "        train_gs.append(G)\n",
    "        train_np_gs.append(A)\n",
    "#         printProgressBar(i, len(trainDir)-1, suffix = 'train gs')\n",
    "    for i in range(len(benignDir)):\n",
    "        A = np.array(getArray(benignDir[i]))\n",
    "        G = nx.from_numpy_matrix(A)\n",
    "        ben_gs.append(G)\n",
    "        ben_np_gs.append(A)\n",
    "#         printProgressBar(i, len(benignDir)-1, suffix = 'benign gs')\n",
    "    if npmode: \n",
    "        return [mal_np_gs, ben_np_gs, train_np_gs]\n",
    "    else: \n",
    "        return [mal_gs, ben_gs, train_gs]"
   ]
  },
  {
   "cell_type": "code",
   "execution_count": 14,
   "metadata": {},
   "outputs": [],
   "source": [
    "def pgrank (graphs,fold) :\n",
    "    mal_g = graphs[0]\n",
    "    ben_g = graphs[1]\n",
    "    train_g =  graphs[2]\n",
    "    \n",
    "    pgr = [nx.pagerank_numpy(mal_g[i])for i in range(len(mal_g))]\n",
    "    pgr_ben = [nx.pagerank_numpy(ben_g[i]) for i in range(len(ben_g))]\n",
    "    pgr_train = [nx.pagerank_numpy(train_g[i]) for i in range(len(train_g))]\n",
    "    \n",
    "    pgrgs = [list(pgr[i].values()) for i in range(len(pgr))]\n",
    "    pgrgs_ben = [list(pgr_ben[i].values())for i in range(len(pgr_ben))]\n",
    "    pgrgs_train = [list(pgr_train[i].values())for i in range(len(pgr_train))]\n",
    "    \n",
    "    sr = calculateDifference(pgrgs_ben,pgrgs_train, itDirs[fold],True)\n",
    "    wr= calculateDifference(pgrgs,pgrgs_train, itDirs[fold],False)\n",
    "    \n",
    "    srr = sorted(sr, key= lambda kv:kv[1],reverse= True)\n",
    "    malrr = sorted(wr, key= lambda kv:kv[1],reverse = True)\n",
    "    print(\"-------------==========================--------------------\")\n",
    "    malr = [malrr[i][1] for i in range(len(malrr))]\n",
    "    benr = [srr [i][1] for i in range(len(srr))]\n",
    "    \n",
    "    return [malr,benr,sr,wr]"
   ]
  },
  {
   "cell_type": "code",
   "execution_count": 15,
   "metadata": {},
   "outputs": [],
   "source": [
    "itDirs = [createDirs(i) for i in range(1,6)]\n",
    "graphs = [createGraphs(i,False) for i in itDirs]\n"
   ]
  },
  {
   "cell_type": "code",
   "execution_count": 16,
   "metadata": {},
   "outputs": [
    {
     "name": "stdout",
     "output_type": "stream",
     "text": [
      "-------------==========================--------------------\n",
      "-------------==========================--------------------\n",
      "-------------==========================--------------------\n",
      "-------------==========================--------------------\n",
      "-------------==========================--------------------\n"
     ]
    }
   ],
   "source": [
    "maps = [pgrank(graphs[i],i) for i in range(len(graphs))]"
   ]
  },
  {
   "cell_type": "code",
   "execution_count": 17,
   "metadata": {},
   "outputs": [
    {
     "name": "stdout",
     "output_type": "stream",
     "text": [
      "[['ABU,Banload,', 1.0, 'Banbra,Banker,'], ['ABU,Banload,', 1.0, 'Banbra,Banker,'], ['Agent,Agent,', 1.0, 'Agent,Agent,'], ['Agent,Agent,', 1.0, 'Agent,Agent,'], ['Agent,Agent,', 1.0, 'Agent,Agent,'], ['Agent,Agent,', 1.0, 'Agent,Agent,'], ['Agent,Agent,', 1.0, 'Agent,Agent,'], ['Agent,Agent,', 1.0, 'Agent,Agent,'], ['Agent,Agent,', 1.0, 'Agent,Agent,'], ['Agent,Small,', 1.0, 'Agent,Agent,'], ['Allaple,RAHack,', 1.0, 'Allaple,RAHack,'], ['Allaple,RAHack,', 1.0, 'Allaple,RAHack,'], ['Allaple,RAHack,', 1.0, 'Allaple,RAHack,'], ['Allaple,RAHack,', 1.0, 'Allaple,RAHack,'], ['Allaple,RAHack,', 1.0, 'Allaple,RAHack,'], ['Allaple,RAHack,', 1.0, 'Allaple,RAHack,'], ['Allaple,RAHack,', 1.0, 'Allaple,RAHack,'], ['Allaple,RAHack,', 1.0, 'Allaple,RAHack,'], ['Allaple,RAHack,', 1.0, 'Allaple,RAHack,'], ['Allaple,RAHack,', 1.0, 'Allaple,RAHack,'], ['Ardamax,Ardamax,', 1.0, 'Ardamax,Ardamax,'], ['Ardamax,Ardamax,', 1.0, 'Ardamax,Ardamax,'], ['Ardamax,Ardamax,', 1.0, 'Ardamax,Ardamax,'], ['Bactera,VB,', 1.0, 'Bactera,VB,'], ['Bactera,VB,', 1.0, 'Bactera,VB,'], ['Bactera,VB,', 1.0, 'Bactera,VB,'], ['Bactera,VB,', 1.0, 'Bactera,VB,'], ['Bactera,VB,', 1.0, 'Bactera,VB,'], ['Banbra,Banker,', 1.0, 'Banbra,Banker,'], ['Banbra,Banker,', 1.0, 'Banbra,Banker,'], ['Banbra,Banker,', 1.0, 'Banbra,Banker,'], ['Banbra,Banker,', 1.0, 'Banbra,Banker,'], ['Bancos,Banker,', 1.0, 'Bancos,Banker,'], ['Bancos,Banker,', 1.0, 'Bancos,Banker,'], ['Bancos,Banker,', 1.0, 'Bancos,Banker,'], ['Bancos,Banker,', 1.0, 'Bancos,Banker,'], ['Banker,Banker,', 1.0, 'Banbra,Banker,'], ['Banker,Banker,', 1.0, 'Banbra,Banker,'], ['Banker,Banker,', 1.0, 'Banbra,Banker,'], ['Banker,Banker,', 1.0, 'Banbra,Banker,'], ['Banker,Banker,', 1.0, 'Banker,Banker,'], ['Banker,Banker,', 1.0, 'Banker,Banker,'], ['Banker,Banker,', 1.0, 'Banbra,Banker,'], ['Banker,Banker,', 1.0, 'Banbra,Banker,'], ['Banker,Banker,', 1.0, 'Banbra,Banker,'], ['Banker,Banker,', 1.0, 'Banbra,Banker,'], ['Banker,Banker,', 1.0, 'Banker,Banker,'], ['Banker,Banker,', 1.0, 'Banbra,Banker,'], ['Banker,Banker,', 1.0, 'Banbra,Banker,'], ['Banker,Banker,', 1.0, 'Banbra,Banker,'], ['Banker,Banker,', 1.0, 'Banbra,Banker,'], ['Banker,Banker,', 1.0, 'Banker,Banker,'], ['Banker,Banker,', 1.0, 'Banbra,Banker,'], ['Banker,Banker,', 1.0, 'Banker,Banker,'], ['Banker,Banker,', 1.0, 'Banbra,Banker,'], ['Banker,Banker,', 1.0, 'Banbra,Banker,'], ['Banker,Banker,', 1.0, 'Banbra,Banker,'], ['Banker,Banker,', 1.0, 'Banker,Banker,'], ['Banker,Banker,', 1.0, 'Banbra,Banker,'], ['Banker,Banker,', 1.0, 'Banbra,Banker,'], ['Banker,Banker,', 1.0, 'Banbra,Banker,'], ['Banker,Banker,', 1.0, 'Banbra,Banker,'], ['Banker,Banker,', 1.0, 'Banbra,Banker,'], ['Banker,Banker,', 1.0, 'Banbra,Banker,'], ['Banker,Banker,', 1.0, 'Banbra,Banker,'], ['Banker,Banker,', 1.0, 'Banker,Banker,'], ['Banker,Banker,', 1.0, 'Banker,Banker,'], ['Banker,Banker,', 1.0, 'Banker,Banker,'], ['Banker,Banker,', 1.0, 'Banker,Banker,'], ['Banker,Banker,', 1.0, 'Banker,Banker,'], ['Banker,Banker,', 1.0, 'Banker,Banker,'], ['Banker,Banker,', 1.0, 'Banker,Banker,'], ['Banker,Banker,', 1.0, 'Banbra,Banker,'], ['Banker,Banker,', 1.0, 'Banbra,Banker,'], ['Banker,Banker,', 1.0, 'Banker,Banker,'], ['Banker,Banker,', 1.0, 'Banbra,Banker,'], ['Banker,Banker,', 1.0, 'Banbra,Banker,'], ['Banker,Banker,', 1.0, 'Banbra,Banker,'], ['Banker,Delf,', 1.0, 'Banbra,Banker,'], ['Banker,Delf,', 1.0, 'Banbra,Banker,'], ['Banload,Banker,', 1.0, 'Banbra,Banker,'], ['Banload,Banker,', 1.0, 'Banbra,Banker,'], ['Banload,Banker,', 1.0, 'Banbra,Banker,'], ['Banload,Banker,', 1.0, 'Downloader,Delf,'], ['Banload,Banker,', 1.0, 'Banbra,Banker,'], ['Banload,Banker,', 1.0, 'Banbra,Banker,'], ['Banload,Banker,', 1.0, 'Banload,Banker,'], ['Banload,Banker,', 1.0, 'Banbra,Banker,'], ['Banload,Banker,', 1.0, 'Banbra,Banker,'], ['Bifrose,CEP,', 1.0, 'Bifrose,CEP,'], ['Bifrose,CEP,', 1.0, 'Bifrose,CEP,'], ['Bifrose,CEP,', 1.0, 'Bifrose,CEP,'], ['Bifrose,CEP,', 1.0, 'Bifrose,CEP,'], ['DKI,PoisonIvy,', 1.0, 'DKI,PoisonIvy,'], ['DKI,PoisonIvy,', 1.0, 'DKI,PoisonIvy,'], ['DKI,PoisonIvy,', 1.0, 'DKI,PoisonIvy,'], ['Gaobot,Agobot,', 1.0, 'Gaobot,Agobot,'], ['Gaobot,Agobot,', 1.0, 'SdBot,Sdbot,'], ['Gobot,Gbot,', 1.0, 'Gobot,Gbot,'], ['Gobot,Gbot,', 1.0, 'Gobot,Gbot,'], ['Gobot,Gbot,', 1.0, 'Gobot,Gbot,'], ['Gobot,Gbot,', 1.0, 'Gobot,Gbot,'], ['Gobot,Gbot,', 1.0, 'Gobot,Gbot,'], ['Gobot,Gbot,', 1.0, 'Gobot,Gbot,'], ['Gobot,Gbot,', 1.0, 'Gobot,Gbot,'], ['Gobot,Gbot,', 1.0, 'Gobot,Gbot,'], ['Gobot,Gbot,', 1.0, 'Gobot,Gbot,'], ['Gobot,Gbot,', 1.0, 'Gobot,Gbot,'], ['Horst,CMQ,', 1.0, 'Horst,CMQ,'], ['Horst,CMQ,', 1.0, 'Horst,CMQ,'], ['Horst,CMQ,', 1.0, 'Horst,CMQ,'], ['Horst,CMQ,', 1.0, 'Horst,CMQ,'], ['Horst,CMQ,', 1.0, 'Horst,CMQ,'], ['Horst,CMQ,', 1.0, 'Horst,CMQ,'], ['Hupigon,ARR,', 1.0, 'Banker,Banker,'], ['Hupigon,ARR,', 1.0, 'Hupigon,AWQ,'], ['Hupigon,ARR,', 1.0, 'Hupigon,AWQ,'], ['Hupigon,ARR,', 1.0, 'Hupigon,AWQ,'], ['Hupigon,AWQ,', 1.0, 'Hupigon,AWQ,'], ['Hupigon,AWQ,', 1.0, 'Hupigon,AWQ,'], ['Hupigon,AWQ,', 1.0, 'Hupigon,AWQ,'], ['Hupigon,AWQ,', 1.0, 'Hupigon,AWQ,'], ['Hupigon,AWQ,', 1.0, 'Downloader,Delf,'], ['Hupigon,AWQ,', 1.0, 'Hupigon,AWQ,'], ['Hupigon,AWQ,', 1.0, 'Hupigon,AWQ,'], ['Hupigon,AWQ,', 1.0, 'Hupigon,AWQ,'], ['Hupigon,AWQ,', 1.0, 'Banbra,Banker,'], ['Hupigon,AWQ,', 1.0, 'Banker,Banker,'], ['Hupigon,AWQ,', 1.0, 'Hupigon,AWQ,'], ['Hupigon,AWQ,', 1.0, 'Hupigon,AWQ,'], ['Hupigon,AWQ,', 1.0, 'Hupigon,AWQ,'], ['Hupigon,AWQ,', 1.0, 'Banbra,Banker,'], ['IRCBot,Sdbot,', 1.0, 'Rbot,Sdbot,'], ['IRCBot,Sdbot,', 1.0, 'Rbot,Sdbot,'], ['IRCBot,Sdbot,', 1.0, 'Rbot,Sdbot,'], ['Lmir,LegMir,', 1.0, 'Lmir,LegMir,'], ['Mydoom,Mydoom,', 1.0, 'Mydoom,Mydoom,'], ['OnLineGames,LegMir,', 1.0, 'Nilage,Lineage,'], ['OnLineGames,Mmorpg,', 1.0, 'Nilage,Lineage,'], ['OnLineGames,Mmorpg,', 1.0, 'Bancos,Banker,'], ['Parite,Pate,', 1.0, 'Parite,Pate,'], ['Parite,Pate,', 1.0, 'Parite,Pate,'], ['Parite,Pate,', 1.0, 'Parite,Pate,'], ['Parite,Pate,', 1.0, 'Parite,Pate,'], ['Parite,Pate,', 1.0, 'Parite,Pate,'], ['Parite,Pate,', 1.0, 'Parite,Pate,'], ['Parite,Pate,', 1.0, 'Parite,Pate,'], ['Plemood,Pupil,', 1.0, 'Plemood,Pupil,'], ['Plemood,Pupil,', 1.0, 'Plemood,Pupil,'], ['Plemood,Pupil,', 1.0, 'Plemood,Pupil,'], ['Plemood,Pupil,', 1.0, 'Plemood,Pupil,'], ['PolyCrypt,Swizzor,', 1.0, 'PolyCrypt,Swizzor,'], ['PolyCrypt,Swizzor,', 1.0, 'PolyCrypt,Swizzor,'], ['PolyCrypt,Swizzor,', 1.0, 'PolyCrypt,Swizzor,'], ['PolyCrypt,Swizzor,', 1.0, 'PolyCrypt,Swizzor,'], ['PolyCrypt,Swizzor,', 1.0, 'PolyCrypt,Swizzor,'], ['PolyCrypt,Swizzor,', 1.0, 'PolyCrypt,Swizzor,'], ['Prorat,AVW,', 1.0, 'Prorat,AVW,'], ['Prorat,AVW,', 1.0, 'Prorat,AVW,'], ['Prorat,AVW,', 1.0, 'Prorat,AVW,'], ['Prorat,AVW,', 1.0, 'Prorat,AVW,'], ['Prorat,AVW,', 1.0, 'Prorat,AVW,'], ['Rbot,Sdbot,', 1.0, 'Rbot,Sdbot,'], ['Rbot,Sdbot,', 1.0, 'Bifrose,CEP,'], ['Rbot,Sdbot,', 1.0, 'Rbot,Sdbot,'], ['Rbot,Sdbot,', 1.0, 'Rbot,Sdbot,'], ['Rbot,Sdbot,', 1.0, 'Bancos,Banker,'], ['Rbot,Sdbot,', 1.0, 'Rbot,Sdbot,'], ['Rbot,Sdbot,', 1.0, 'SdBot,Sdbot,'], ['Rbot,Sdbot,', 1.0, 'Rbot,Sdbot,'], ['Rbot,Sdbot,', 1.0, 'IRCBot,Sdbot,'], ['Rbot,Sdbot,', 1.0, 'Rbot,Sdbot,'], ['Rbot,Sdbot,', 1.0, 'SdBot,Sdbot,'], ['Rbot,Sdbot,', 1.0, 'Rbot,Sdbot,'], ['Rbot,Sdbot,', 1.0, 'Bancos,Banker,'], ['Rbot,Sdbot,', 1.0, 'Rbot,Sdbot,'], ['Rbot,Sdbot,', 1.0, 'Rbot,Sdbot,'], ['Rbot,Sdbot,', 1.0, 'Rbot,Sdbot,'], ['Rbot,Sdbot,', 1.0, 'Banker,Banker,'], ['Rbot,Sdbot,', 1.0, 'Rbot,Sdbot,'], ['Rbot,Sdbot,', 1.0, 'Rbot,Sdbot,'], ['Rbot,Sdbot,', 1.0, 'Bancos,Banker,'], ['Rbot,Sdbot,', 1.0, 'Rbot,Sdbot,'], ['Rbot,Sdbot,', 1.0, 'Rbot,Sdbot,'], ['Rbot,Sdbot,', 1.0, 'Rbot,Sdbot,'], ['Rbot,Sdbot,', 1.0, 'Bancos,Banker,'], ['Rbot,Sdbot,', 1.0, 'Rbot,Sdbot,'], ['Rbot,Sdbot,', 1.0, 'Rbot,Sdbot,'], ['Rbot,Sdbot,', 1.0, 'Rbot,Sdbot,'], ['Rbot,Sdbot,', 1.0, 'Rbot,Sdbot,'], ['SdBot,Sdbot,', 1.0, 'SdBot,Sdbot,'], ['SdBot,Sdbot,', 1.0, 'SdBot,Sdbot,'], ['SdBot,Sdbot,', 1.0, 'Banker,Banker,'], ['VS,INService,', 1.0, 'VS,INService,'], ['VS,INService,', 1.0, 'VS,INService,'], ['VS,INService,', 1.0, 'VS,INService,'], ['Viking,HLLP,', 1.0, 'Viking,HLLP,'], ['Viking,HLLP,', 1.0, 'Nilage,Lineage,'], ['Viking,HLLP,', 1.0, 'Nilage,Lineage,'], ['Virut,Virut,', 1.0, 'Virut,Virut,'], ['Virut,Virut,', 1.0, 'Virut,Virut,'], ['Virut,Virut,', 1.0, 'Virut,Virut,'], ['Virut,Virut,', 1.0, 'Virut,Virut,'], ['Virut,Virut,', 1.0, 'Virut,Virut,'], ['Virut,Virut,', 1.0, 'Virut,Virut,'], ['Virut,Virut,', 1.0, 'Virut,Virut,'], ['Virut,Virut,', 1.0, 'Virut,Virut,'], ['Virut,Virut,', 1.0, 'Virut,Virut,'], ['Virut,Virut,', 1.0, 'Virut,Virut,'], ['Virut,Virut,', 1.0, 'Virut,Virut,'], ['Zhelatin,ASH,', 1.0, 'Zhelatin,ASH,'], ['Zhelatin,ASH,', 1.0, 'Zhelatin,ASH,'], ['Zhelatin,ASH,', 1.0, 'Zhelatin,ASH,'], ['Zlob,Puper,', 1.0, 'Zlob,Puper,'], ['Virut,Virut,', 0.9999999232669536, 'Virut,Virut,'], ['Lmir,LegMir,', 0.9999996014286634, 'Lmir,LegMir,'], ['Prorat,AVW,', 0.9999993886646208, 'Prorat,AVW,'], ['Plemood,Pupil,', 0.9999993645516536, 'Plemood,Pupil,'], ['Allaple,RAHack,', 0.9999992246987663, 'Allaple,RAHack,'], ['Zhelatin,ASH,', 0.9999992020625769, 'Zhelatin,ASH,'], ['BGM,Delf,', 0.9999991337830474, 'BGM,Delf,'], ['BGM,Delf,', 0.9999991337830474, 'BGM,Delf,'], ['Virut,Virut,', 0.999998711860735, 'Virut,Virut,'], ['Downloader,VB,', 0.999998688222471, 'Downloader,VB,'], ['Hupigon,ARR,', 0.9999985708629567, 'Hupigon,ARR,'], ['Virut,Virut,', 0.9999984890287256, 'Virut,Virut,'], ['Hupigon,AWQ,', 0.999998424707854, 'Hupigon,ARR,'], ['OnLineGames,OnlineGames,', 0.9999982368505778, 'OnLineGames,OnlineGames,'], ['Rbot,Sdbot,', 0.999998165278734, 'IRCBot,Sdbot,'], ['DNSChanger,DNSChanger,', 0.9999980466550699, 'DNSChanger,DNSChanger,'], ['OnLineGames,OnlineGames,', 0.999997982885332, 'OnLineGames,OnlineGames,'], ['Banload,Banker,', 0.9999979777853452, 'Banload,Banker,'], ['OnLineGames,OnlineGames,', 0.9999978386850258, 'OnLineGames,OnlineGames,'], ['IRCBot,Sdbot,', 0.9999977630487883, 'SdBot,Sdbot,'], ['IRCBot,Sdbot,', 0.9999977630487883, 'SdBot,Sdbot,'], ['OnlineGames,Delf,', 0.9999973964122326, 'OnlineGames,Delf,'], ['Banload,Banker,', 0.999996765002585, 'Banload,Banker,'], ['Banload,Banker,', 0.9999961957071725, 'Bactera,VB,'], ['Parite,Pate,', 0.9999958541362215, 'Parite,Pate,'], ['Virut,Virut,', 0.9999949648487386, 'Virut,Virut,'], ['Allaple,RAHack,', 0.9999949370080677, 'Allaple,RAHack,'], ['Zhelatin,ASH,', 0.9999948410798667, 'Zhelatin,ASH,'], ['Rbot,Sdbot,', 0.9999944612512449, 'Rbot,Sdbot,'], ['Stration,Warezov,', 0.9999943892680467, 'Stration,Warezov,'], ['Allaple,RAHack,', 0.9999942175085322, 'Allaple,RAHack,'], ['Allaple,RAHack,', 0.9999922091827148, 'Allaple,RAHack,'], ['Hupigon,AWQ,', 0.9999922007164952, 'Hupigon,AWQ,'], ['Virut,Virut,', 0.9999921751747209, 'Virut,Virut,'], ['Zhelatin,ASH,', 0.9999917999509416, 'Zhelatin,ASH,'], ['Parite,Pate,', 0.9999905702938268, 'Parite,Pate,'], ['Plemood,Pupil,', 0.9999905626191392, 'Plemood,Pupil,'], ['Rbot,Sdbot,', 0.9999903101255908, 'Bifrose,CEP,'], ['OnLineGames,OnlineGames,', 0.999990078757014, 'OnLineGames,OnlineGames,'], ['Downloader,VB,', 0.9999897241775211, 'Bancos,Banker,'], ['Prorat,AVW,', 0.9999896739064589, 'Prorat,AVW,'], ['Hupigon,AWQ,', 0.999989390136859, 'Hupigon,AWQ,'], ['Zlob,Puper,', 0.9999882653072579, 'Zlob,Puper,'], ['Allaple,RAHack,', 0.9999878952561587, 'Allaple,RAHack,'], ['Hupigon,AWQ,', 0.9999878067457745, 'Hupigon,AWQ,'], ['Rbot,Sdbot,', 0.9999875793031907, 'Rbot,Sdbot,'], ['Hupigon,AWQ,', 0.9999869093055643, 'Hupigon,AWQ,'], ['Zlob,Puper,', 0.999986891883875, 'DNSChanger,DNSChanger,'], ['Banload,Banker,', 0.9999865773647134, 'Banload,Banker,'], ['Allaple,RAHack,', 0.9999862868302339, 'Allaple,RAHack,'], ['Rbot,Sdbot,', 0.9999860996073912, 'Rbot,Sdbot,'], ['Rbot,Sdbot,', 0.9999860996073912, 'Rbot,Sdbot,'], ['Allaple,RAHack,', 0.9999857446699528, 'Allaple,RAHack,'], ['Horst,CMQ,', 0.9999851265301547, 'Horst,CMQ,'], ['Bancos,Banker,', 0.9999822568989223, 'Bancos,Banker,'], ['Downloader,VB,', 0.9999822568989223, 'Bancos,Banker,'], ['Allaple,RAHack,', 0.9999819765404356, 'Allaple,RAHack,'], ['Allaple,RAHack,', 0.9999819765404356, 'Allaple,RAHack,'], ['Allaple,RAHack,', 0.9999819765404356, 'Allaple,RAHack,'], ['Zlob,Puper,', 0.9999811628755929, 'Zlob,Puper,'], ['Rbot,Sdbot,', 0.999981039746541, 'Rbot,Sdbot,'], ['Rbot,Sdbot,', 0.999981039746541, 'Rbot,Sdbot,'], ['Allaple,RAHack,', 0.9999809154017728, 'Allaple,RAHack,'], ['Allaple,RAHack,', 0.9999809154017728, 'Allaple,RAHack,'], ['Allaple,RAHack,', 0.9999808362613221, 'Allaple,RAHack,'], ['Allaple,RAHack,', 0.9999808362613221, 'Allaple,RAHack,'], ['Bactera,VB,', 0.9999798286055853, 'Bactera,VB,'], ['Rbot,Sdbot,', 0.9999798008102898, 'Rbot,Sdbot,'], ['Zlob,Puper,', 0.9999782755425393, 'Zlob,Puper,'], ['Banload,Banker,', 0.9999781586301036, 'Downloader,Delf,'], ['Banker,Banker,', 0.9999780182099952, 'Banker,Delf,'], ['Banbra,Banker,', 0.9999771679349719, 'Banbra,Banker,'], ['SdBot,Sdbot,', 0.999975185131819, 'SdBot,Sdbot,'], ['Rbot,Sdbot,', 0.9999747840767309, 'Rbot,Sdbot,'], ['Hupigon,AWQ,', 0.9999744750449872, 'Hupigon,AWQ,'], ['PolyCrypt,Swizzor,', 0.9999731580177268, 'PolyCrypt,Swizzor,'], ['Rbot,Sdbot,', 0.99997183356625, 'Bifrose,CEP,'], ['Allaple,RAHack,', 0.9999706707411338, 'Allaple,RAHack,'], ['Small,Downloader,', 0.9999679201581392, 'Small,Downloader,'], ['Virut,Virut,', 0.9999678105438553, 'Virut,Virut,'], ['Banker,Banker,', 0.9999646978891902, 'Banker,Banker,'], ['OnLineGames,OnlineGames,', 0.9999585709687926, 'OnLineGames,OnlineGames,'], ['Ardamax,Ardamax,', 0.9999585689295841, 'Ardamax,Ardamax,'], ['Allaple,RAHack,', 0.9999579545781231, 'Allaple,RAHack,'], ['Zlob,Puper,', 0.9999546357921708, 'Zlob,Puper,'], ['Gaobot,Agobot,', 0.9999538156832919, 'Gaobot,Agobot,'], ['Horst,CMQ,', 0.9999536072052422, 'Horst,CMQ,'], ['Banker,Banker,', 0.9999518514434393, 'Banker,Banker,'], ['Horst,CMQ,', 0.9999512486881789, 'Horst,CMQ,'], ['OnlineGames,Delf,', 0.9999472593189869, 'OnlineGames,Delf,'], ['Zlob,Puper,', 0.9999461336768165, 'Zlob,Puper,'], ['Small,Downloader,', 0.9999448286721418, 'Small,Downloader,'], ['Rbot,Sdbot,', 0.9999435519045876, 'Rbot,Sdbot,'], ['Downloader,Delf,', 0.9999431230644694, 'Downloader,Delf,'], ['SdBot,Sdbot,', 0.9999408588225654, 'IRCBot,Sdbot,'], ['Rbot,Sdbot,', 0.9999393095635624, 'Rbot,Sdbot,'], ['Zlob,Puper,', 0.9999392229513813, 'Zhelatin,ASH,'], ['Rbot,Sdbot,', 0.9999391221322482, 'Rbot,Sdbot,'], ['Zlob,Puper,', 0.9999385972270409, 'Zlob,Puper,'], ['Rbot,Sdbot,', 0.9999359382844806, 'Rbot,Sdbot,'], ['Allaple,RAHack,', 0.9999348277910982, 'Allaple,RAHack,'], ['Bobax,Bobic,', 0.9999288102194785, 'Bobax,Bobic,'], ['SdBot,Sdbot,', 0.9999269948273847, 'Banker,Banker,'], ['Banker,Banker,', 0.9999259328339108, 'Banker,Banker,'], ['SdBot,Sdbot,', 0.999924168156463, 'Rbot,Sdbot,'], ['Bancos,Banker,', 0.9999227915591595, 'Bancos,Banker,'], ['Lmir,LegMir,', 0.9999209446605242, 'Lmir,LegMir,'], ['Banker,Banker,', 0.999919463809217, 'Banbra,Banker,'], ['Zlob,Puper,', 0.9999179386378374, 'Zlob,Puper,'], ['Allaple,RAHack,', 0.9999154675103235, 'Allaple,RAHack,'], ['PolyCrypt,Swizzor,', 0.9999143830590015, 'PolyCrypt,Swizzor,'], ['Swizzor,Obfuscated,', 0.9999119967628453, 'Swizzor,Obfuscated,'], ['Banker,Banker,', 0.9999111703014203, 'Banbra,Banker,'], ['Hupigon,AWQ,', 0.9999056185489432, 'Hupigon,AWQ,'], ['Rbot,Sdbot,', 0.9999042770466071, 'Rbot,Sdbot,'], ['Allaple,RAHack,', 0.9998934832246367, 'Allaple,RAHack,'], ['Allaple,RAHack,', 0.999893125517482, 'Allaple,RAHack,'], ['Rbot,Sdbot,', 0.9998919436348842, 'Rbot,Sdbot,'], ['Gobot,Gbot,', 0.999891401458552, 'Gobot,Gbot,'], ['Gobot,Gbot,', 0.999891401458552, 'Gobot,Gbot,'], ['SdBot,Sdbot,', 0.9998846191050778, 'Rbot,Sdbot,'], ['Allaple,RAHack,', 0.9998832588740469, 'Allaple,RAHack,'], ['Lmir,LegMir,', 0.9998778932395145, 'IRCBot,Sdbot,'], ['Banker,Banker,', 0.9998769345061355, 'Banker,Banker,'], ['Zhelatin,ASH,', 0.9998700041727145, 'Rbot,Sdbot,'], ['Rbot,Sdbot,', 0.9998636499092903, 'Rbot,Sdbot,'], ['Lmir,LegMir,', 0.9998630253151626, 'Agent,Agent,'], ['Zlob,Puper,', 0.9998627641451403, 'Zlob,Puper,'], ['Hupigon,AWQ,', 0.99985782534664, 'Rbot,Sdbot,'], ['Hupigon,AWQ,', 0.99985782534664, 'Rbot,Sdbot,'], ['Banker,Delf,', 0.999857723969101, 'Banker,Delf,'], ['Parite,Pate,', 0.9998550468268883, 'Parite,Pate,'], ['Allaple,RAHack,', 0.9998541835361978, 'Allaple,RAHack,'], ['Virut,Virut,', 0.9998515586191586, 'Virut,Virut,'], ['Allaple,RAHack,', 0.9998515130919465, 'Allaple,RAHack,'], ['Small,Downloader,', 0.9998513813441979, 'Swizzor,Obfuscated,'], ['Hupigon,AWQ,', 0.9998512755252796, 'Hupigon,ARR,'], ['SdBot,Sdbot,', 0.999850803611964, 'Bifrose,CEP,'], ['Banload,Banker,', 0.999848664014679, 'ABU,Banload,'], ['Ardamax,Ardamax,', 0.9998471467009231, 'Ardamax,Ardamax,'], ['Banker,Banker,', 0.9998447845912993, 'Banker,Banker,'], ['OnLineGames,Mmorpg,', 0.9998407449136956, 'Banbra,Banker,'], ['Hupigon,AWQ,', 0.9998391981864124, 'Hupigon,AWQ,'], ['Mydoom,Mydoom,', 0.9998386378321534, 'Mydoom,Mydoom,'], ['Bancos,Banker,', 0.9998365755637674, 'Zlob,Puper,'], ['DNSChanger,DNSChanger,', 0.9998365652146552, 'DNSChanger,DNSChanger,'], ['BDH,Small,', 0.9998357584775058, 'BDH,Small,'], ['Viking,HLLP,', 0.9998345155747812, 'Rbot,Sdbot,'], ['OnLineGames,LegMir,', 0.999832860987039, 'OnLineGames,LegMir,'], ['Allaple,RAHack,', 0.9998316294366119, 'Allaple,RAHack,'], ['Banker,Banker,', 0.9998314457133238, 'Swizzor,Obfuscated,'], ['Small,Downloader,', 0.999827199907534, 'Nilage,Lineage,'], ['SdBot,Sdbot,', 0.9998246843696752, 'IRCBot,Sdbot,'], ['Hupigon,AWQ,', 0.9998246274452033, 'Hupigon,AWQ,'], ['IRCBot,Sdbot,', 0.9998238998657367, 'IRCBot,Sdbot,'], ['Bancos,Banker,', 0.9998225480975851, 'Bancos,Banker,'], ['Virut,Virut,', 0.9998190082506972, 'Agent,Small,'], ['Banker,Banker,', 0.9998122717240541, 'Swizzor,Obfuscated,'], ['Bancos,Banker,', 0.9998114803248085, 'Banker,Banker,'], ['Small,Downloader,', 0.9997995292397115, 'BDH,Small,'], ['ABU,Banload,', 0.9997801620649458, 'Banload,Banker,'], ['Allaple,RAHack,', 0.9997794963692764, 'Allaple,RAHack,'], ['Hupigon,AWQ,', 0.9997781155874145, 'Hupigon,AWQ,'], ['Hupigon,AWQ,', 0.9997781155874145, 'Hupigon,AWQ,'], ['Allaple,RAHack,', 0.9997771901320163, 'Allaple,RAHack,'], ['Allaple,RAHack,', 0.9997724803385587, 'Allaple,RAHack,'], ['Banload,Banker,', 0.9997714612569517, 'Small,Downloader,'], ['Viking,HLLP,', 0.9997687879365152, 'Viking,HLLP,'], ['Banker,Banker,', 0.9997653390020934, 'Hupigon,AWQ,'], ['Virut,Virut,', 0.9997649929577982, 'Virut,Virut,'], ['PolyCrypt,Swizzor,', 0.9997642281422318, 'PolyCrypt,Swizzor,'], ['Banker,Banker,', 0.9997622913688281, 'Banker,Banker,'], ['Banload,Banker,', 0.999748233455328, 'Banload,Banker,'], ['Banload,Banker,', 0.999748233455328, 'Banload,Banker,'], ['Banker,Banker,', 0.999747424345245, 'Banload,Banker,'], ['Banload,Banker,', 0.9997418657350846, 'Banload,Banker,'], ['Banbra,Banker,', 0.9997398681495154, 'Banbra,Banker,'], ['Rbot,Sdbot,', 0.9997360000218333, 'IRCBot,Sdbot,'], ['Banload,Banker,', 0.9997357109991771, 'Banload,Banker,'], ['Allaple,RAHack,', 0.9997259689003926, 'Allaple,RAHack,'], ['IRCBot,Sdbot,', 0.9997211746740676, 'Hupigon,AWQ,'], ['Downloader,Agent,', 0.9997187182305264, 'Banbra,Banker,'], ['Banload,Banker,', 0.9997149038280896, 'Banload,Banker,'], ['OnLineGames,LegMir,', 0.999712332460413, 'OnLineGames,LegMir,'], ['Allaple,RAHack,', 0.9997003293114878, 'Allaple,RAHack,'], ['Banker,Banker,', 0.9996950044042932, 'Banker,Delf,'], ['Banload,Banker,', 0.9996929286036663, 'Banload,Banker,'], ['Agent,Agent,', 0.9996876179806146, 'Zlob,Puper,'], ['Bifrose,CEP,', 0.9996825121425695, 'Bifrose,CEP,'], ['Rbot,Sdbot,', 0.9996796973579816, 'Rbot,Sdbot,'], ['Parite,Pate,', 0.9996779598677012, 'Parite,Pate,'], ['SdBot,Sdbot,', 0.999669325269245, 'SdBot,Sdbot,'], ['Bobax,Bobic,', 0.9996690775826771, 'Bobax,Bobic,'], ['Hupigon,AWQ,', 0.9996442295333844, 'Swizzor,Obfuscated,'], ['Bifrose,CEP,', 0.9996368804929895, 'DKI,PoisonIvy,'], ['OnLineGames,LegMir,', 0.9996351298880614, 'OnLineGames,LegMir,'], ['IRCBot,Sdbot,', 0.9996334100660477, 'IRCBot,Sdbot,'], ['Hupigon,AWQ,', 0.9996088616765161, 'Hupigon,AWQ,'], ['Hupigon,AWQ,', 0.9996046370730359, 'Banload,Banker,'], ['Hupigon,ARR,', 0.999601641960796, 'Hupigon,AWQ,'], ['SdBot,Sdbot,', 0.9995958302133905, 'SdBot,Sdbot,'], ['OnLineGames,LegMir,', 0.9995791017094495, 'OnLineGames,LegMir,'], ['Banker,Banker,', 0.9995706521150132, 'Banbra,Banker,'], ['Downloader,Delf,', 0.9995572407515959, 'Downloader,Delf,'], ['OnLineGames,LegMir,', 0.9995556478992492, 'OnLineGames,LegMir,'], ['Small,Downloader,', 0.9995461467072944, 'Zhelatin,ASH,'], ['Banker,Banker,', 0.9995423374409907, 'Banker,Banker,'], ['Rbot,Sdbot,', 0.9995398183474585, 'Rbot,Sdbot,'], ['Rbot,Sdbot,', 0.9995297156263431, 'Rbot,Sdbot,'], ['Swizzor,Obfuscated,', 0.9995288966837449, 'Hupigon,AWQ,'], ['OnLineGames,LegMir,', 0.9995237360674512, 'OnLineGames,LegMir,'], ['Banker,Banker,', 0.9995191964913591, 'Banker,Banker,'], ['OnLineGames,LegMir,', 0.9995111279839531, 'OnLineGames,LegMir,'], ['Banker,Banker,', 0.9995096600727773, 'Banker,Banker,'], ['DNSChanger,DNSChanger,', 0.9994948727827591, 'DNSChanger,DNSChanger,'], ['Banload,Banker,', 0.9994936467711028, 'Banload,Banker,'], ['OnLineGames,LegMir,', 0.9994836497930335, 'OnLineGames,LegMir,'], ['IRCBot,Sdbot,', 0.9994739118977233, 'Banker,Banker,'], ['IRCBot,Sdbot,', 0.9994739118977233, 'Banker,Banker,'], ['Banker,Banker,', 0.9994665421427469, 'Banker,Banker,'], ['OnLineGames,LegMir,', 0.9994384382459676, 'OnLineGames,LegMir,'], ['Prorat,AVW,', 0.9993964682743317, 'Banbra,Banker,'], ['Hupigon,AWQ,', 0.999390401713705, 'Banker,Banker,'], ['Hupigon,AWQ,', 0.999382463028756, 'Prorat,AVW,'], ['Rbot,Sdbot,', 0.9993737941736967, 'Hupigon,AWQ,'], ['Banker,Banker,', 0.999372437107741, 'Banker,Delf,'], ['Hupigon,AWQ,', 0.9993389508314099, 'Hupigon,AWQ,'], ['Banload,Banker,', 0.9993197112598554, 'Banload,Banker,'], ['Downloader,Agent,', 0.9992544429135075, 'Banker,Banker,'], ['Banker,Banker,', 0.9992351992690586, 'Banbra,Banker,'], ['OnLineGames,LegMir,', 0.9992280123211501, 'OnLineGames,LegMir,'], ['Banload,Banker,', 0.999223926744878, 'Banload,Banker,'], ['Banload,Banker,', 0.9992110175078078, 'Banload,Banker,'], ['Banker,Delf,', 0.9992107448918478, 'Banker,Banker,'], ['Banbra,Banker,', 0.9992099058932834, 'Hupigon,AWQ,'], ['Rbot,Sdbot,', 0.9992097897350299, 'Rbot,Sdbot,'], ['Banload,Banker,', 0.9992083503332007, 'Banker,Banker,'], ['Hupigon,AWQ,', 0.9992008251500952, 'Banbra,Banker,'], ['Downloader,Delf,', 0.9991743366152885, 'Banload,Banker,'], ['Banbra,Banker,', 0.9991596021800457, 'Horst,CMQ,'], ['OnLineGames,LegMir,', 0.9991265331804732, 'OnLineGames,LegMir,'], ['Rbot,Sdbot,', 0.9991044216495346, 'Rbot,Sdbot,'], ['Parite,Pate,', 0.999088705005103, 'Parite,Pate,'], ['SdBot,Sdbot,', 0.9990360212108537, 'Agent,Agent,'], ['Banbra,Banker,', 0.9990039562155173, 'Small,Downloader,'], ['Agent,Small,', 0.998986177797496, 'Agent,Agent,'], ['IRCBot,Sdbot,', 0.9989639291650958, 'Horst,CMQ,'], ['Zhelatin,ASH,', 0.9989288080152023, 'Zhelatin,ASH,'], ['Rbot,Sdbot,', 0.9989110846563684, 'IRCBot,Sdbot,'], ['OnLineGames,LegMir,', 0.998847340911376, 'OnLineGames,LegMir,'], ['Hupigon,AWQ,', 0.9987817059423192, 'Hupigon,ARR,'], ['OnLineGames,LegMir,', 0.9987091354902001, 'OnLineGames,LegMir,'], ['DNSChanger,DNSChanger,', 0.9985626206043633, 'Gaobot,Agobot,'], ['Zhelatin,ASH,', 0.998526159105706, 'Zhelatin,ASH,'], ['Bifrose,CEP,', 0.998483310514105, 'Bifrose,CEP,'], ['IRCBot,Sdbot,', 0.9983737103150884, 'Rbot,Sdbot,'], ['Bobax,Bobic,', 0.9983548806201799, 'Bobax,Bobic,'], ['Hupigon,AWQ,', 0.9983455281834136, 'SdBot,Sdbot,'], ['Nilage,Lineage,', 0.9983431184177513, 'Viking,HLLP,'], ['Horst,CMQ,', 0.99832818147141, 'Horst,CMQ,'], ['Hupigon,AWQ,', 0.9980935638329695, 'Hupigon,AWQ,'], ['SdBot,Sdbot,', 0.9980779429657027, 'Rbot,Sdbot,'], ['Hupigon,AWQ,', 0.9979361233073754, 'Rbot,Sdbot,'], ['Swizzor,Obfuscated,', 0.9979303092490163, 'Swizzor,Obfuscated,'], ['Parite,Pate,', 0.9979248390466073, 'Parite,Pate,'], ['Rbot,Sdbot,', 0.997891613532607, 'SdBot,Sdbot,'], ['Nilage,Lineage,', 0.9978259893344967, 'Small,Downloader,'], ['Nilage,Lineage,', 0.9978107171634532, 'Lmir,LegMir,'], ['Agent,Small,', 0.9977816097683023, 'Hupigon,AWQ,'], ['Zlob,Puper,', 0.9977609228529466, 'Zlob,Puper,'], ['Virut,Virut,', 0.9977550853400816, 'Virut,Virut,'], ['Hupigon,AWQ,', 0.9977278830953087, 'Swizzor,Obfuscated,'], ['Gaobot,Agobot,', 0.9976164802200987, 'Gaobot,Agobot,'], ['Nilage,Lineage,', 0.9974883009664277, 'Bifrose,CEP,'], ['Hupigon,AWQ,', 0.9973862101352734, 'Hupigon,AWQ,'], ['IRCBot,Sdbot,', 0.9973147003418804, 'Downloader,Agent,'], ['Swizzor,Obfuscated,', 0.9973107464715703, 'Swizzor,Obfuscated,'], ['Downloader,Agent,', 0.9972823696345483, 'Swizzor,Obfuscated,'], ['BGM,Delf,', 0.9969997739620465, 'Zlob,Puper,'], ['Mydoom,Mydoom,', 0.9967666279001203, 'VS,INService,'], ['Rbot,Sdbot,', 0.9967390202780416, 'Downloader,VB,'], ['LdPinch,LDPinch,', 0.9966958841022646, 'Zlob,Puper,'], ['LdPinch,LDPinch,', 0.9964445661413842, 'Swizzor,Obfuscated,'], ['Parite,Pate,', 0.9963430231062157, 'Horst,CMQ,'], ['Viking,HLLP,', 0.9956477422641165, 'Stration,Warezov,'], ['Swizzor,Obfuscated,', 0.9951009142630828, 'Swizzor,Obfuscated,'], ['Banbra,Banker,', 0.9950867975214094, 'Banker,Delf,'], ['Rbot,Sdbot,', 0.9950063563886671, 'DKI,PoisonIvy,'], ['Zlob,Puper,', 0.9948364554728653, 'IRCBot,Sdbot,'], ['Nilage,Lineage,', 0.9947717323639659, 'Viking,HLLP,'], ['Hupigon,AWQ,', 0.9946755407061355, 'Viking,HLLP,'], ['Hupigon,AWQ,', 0.994660383847233, 'Viking,HLLP,'], ['Downloader,Delf,', 0.994521931644052, 'Parite,Pate,'], ['Hupigon,AWQ,', 0.9940133587890619, 'Parite,Pate,'], ['Virut,Virut,', 0.991903207798716, 'Stration,Warezov,'], ['LdPinch,LDPinch,', 0.9918692100843073, 'Zhelatin,ASH,'], ['Rbot,Sdbot,', 0.9912178706879633, 'OnLineGames,LegMir,'], ['OnLineGames,Mmorpg,', 0.9904164405049825, 'Banker,Banker,'], ['Stration,Warezov,', 0.990031044293025, 'Zhelatin,ASH,'], ['OnLineGames,LegMir,', 0.9889274589613317, 'OnLineGames,OnlineGames,'], ['Zhelatin,ASH,', 0.9869075296596614, 'Stration,Warezov,'], ['Stration,Warezov,', 0.9837624582495255, 'Zhelatin,ASH,'], ['Hupigon,ARR,', 0.9763302328782706, 'Swizzor,Obfuscated,'], ['Allaple,RAHack,', 0.9672709220113908, 'Banker,Banker,'], ['Stration,Warezov,', 0.9670051792299497, 'Zlob,Puper,'], ['Zhelatin,ASH,', 0.9633926898795471, 'Stration,Warezov,'], ['Virut,Virut,', 0.9329871247343934, 'OnLineGames,OnlineGames,']]\n",
      "[0.6449136276391555, 0.7869481765834933, 0.7984644913627639]\n",
      "[0.654510556621881, 0.7888675623800384, 0.8080614203454894]\n",
      "[0.6506717850287908, 0.7946257197696737, 0.8157389635316699]\n",
      "[0.6583493282149712, 0.7946257197696737, 0.8214971209213052]\n",
      "[0.6200378071833649, 0.775047258979206, 0.7920604914933838]\n",
      "---------------\n",
      "Csm\n",
      "---------------\n",
      "[0.6456966209376327, 0.788022887496417, 0.8071644975309225]\n",
      "===========================================\n",
      "\n"
     ]
    }
   ],
   "source": [
    "malwareTests= [maps[i][3] for i in range(len(maps))]\n",
    "benignTests= [maps[i][2] for i in range(len(maps))]\n",
    "simAverages(sortTests(malwareTests),sortTests(benignTests),\"Csm\")\n",
    "print(\"===========================================\")\n",
    "print()"
   ]
  },
  {
   "cell_type": "code",
   "execution_count": 18,
   "metadata": {},
   "outputs": [
    {
     "ename": "ValueError",
     "evalue": "too many values to unpack (expected 2)",
     "output_type": "error",
     "traceback": [
      "\u001b[1;31m---------------------------------------------------------------------------\u001b[0m",
      "\u001b[1;31mValueError\u001b[0m                                Traceback (most recent call last)",
      "\u001b[1;32m<ipython-input-18-8806e5fce054>\u001b[0m in \u001b[0;36m<module>\u001b[1;34m\u001b[0m\n\u001b[0;32m      2\u001b[0m \u001b[0mben\u001b[0m \u001b[1;33m=\u001b[0m \u001b[1;33m[\u001b[0m\u001b[1;33m]\u001b[0m\u001b[1;33m\u001b[0m\u001b[1;33m\u001b[0m\u001b[0m\n\u001b[0;32m      3\u001b[0m \u001b[0msteps\u001b[0m \u001b[1;33m=\u001b[0m \u001b[1;36m20\u001b[0m\u001b[1;33m\u001b[0m\u001b[1;33m\u001b[0m\u001b[0m\n\u001b[1;32m----> 4\u001b[1;33m \u001b[1;32mfor\u001b[0m \u001b[0mi\u001b[0m\u001b[1;33m,\u001b[0m\u001b[0mj\u001b[0m \u001b[1;32min\u001b[0m \u001b[0mmaps\u001b[0m\u001b[1;33m:\u001b[0m\u001b[1;33m\u001b[0m\u001b[1;33m\u001b[0m\u001b[0m\n\u001b[0m\u001b[0;32m      5\u001b[0m     \u001b[0mmal\u001b[0m\u001b[1;33m.\u001b[0m\u001b[0mappend\u001b[0m\u001b[1;33m(\u001b[0m\u001b[0mi\u001b[0m\u001b[1;33m)\u001b[0m\u001b[1;33m\u001b[0m\u001b[1;33m\u001b[0m\u001b[0m\n\u001b[0;32m      6\u001b[0m     \u001b[0mben\u001b[0m\u001b[1;33m.\u001b[0m\u001b[0mappend\u001b[0m\u001b[1;33m(\u001b[0m\u001b[0mj\u001b[0m\u001b[1;33m)\u001b[0m\u001b[1;33m\u001b[0m\u001b[1;33m\u001b[0m\u001b[0m\n",
      "\u001b[1;31mValueError\u001b[0m: too many values to unpack (expected 2)"
     ]
    }
   ],
   "source": [
    "mal = []\n",
    "ben = []\n",
    "steps = 20\n",
    "for i,j in maps:\n",
    "    mal.append(i)\n",
    "    ben.append(j)\n",
    "det, thr = detectSteps(ben,mal,steps, metric= \"pagerank\")\n",
    "mal_det = np.array([det[i][0] for i in range(len(det))])\n",
    "ben_det = np.array([det[i][1] for i in range(len(det))])\n",
    "threshPgr = np.mean(np.array([i for i in thr]),axis=0)\n",
    "avg_det = np.mean(mal_det,axis=0)\n",
    "avg_det_b = np.mean(ben_det,axis=0)\n",
    "plot_metrics(avg_det,avg_det_b,threshPgr,\"pagerank\")"
   ]
  },
  {
   "cell_type": "code",
   "execution_count": null,
   "metadata": {},
   "outputs": [],
   "source": [
    "print(maps[0][1])"
   ]
  },
  {
   "cell_type": "code",
   "execution_count": null,
   "metadata": {},
   "outputs": [],
   "source": [
    "simAverages(maps[0],maps[1],\"Csm\")\n",
    "print(\"===========================================\")\n",
    "print()"
   ]
  },
  {
   "cell_type": "code",
   "execution_count": null,
   "metadata": {},
   "outputs": [],
   "source": [
    "graphCentr = [findCentrality(graphs[i]) for i in range(len(graphs))]"
   ]
  },
  {
   "cell_type": "code",
   "execution_count": null,
   "metadata": {},
   "outputs": [],
   "source": [
    "t = time.time()\n",
    "malwareTests = [calculateDifference(graphCentr[i][0],graphCentr[i][2], \n",
    "                                    itDirs[i], False) for i in range(len(graphCentr))]\n",
    "print(\"malware took %f seconds\"%(time.time()-t))\n",
    "benignTests = [calculateDifference(graphCentr[i][1],graphCentr[i][2], \n",
    "                                   itDirs[i], True) for i in range(len(graphCentr))]\n"
   ]
  },
  {
   "cell_type": "code",
   "execution_count": null,
   "metadata": {},
   "outputs": [],
   "source": [
    "sortBenignTests= sortTests(benignTests)\n",
    "sortMalwareTests =  sortTests(malwareTests)\n",
    "\n",
    "malwares =  [[sortMalwareTests[j][i][1] for i in range(len(sortMalwareTests[j]))] \n",
    "             for j in range(len(sortMalwareTests))]\n",
    "benigns =  [[sortBenignTests[j][i][1] for i in range(len(sortBenignTests[j]))] \n",
    "             for j in range(len(sortBenignTests))]"
   ]
  },
  {
   "cell_type": "code",
   "execution_count": null,
   "metadata": {},
   "outputs": [],
   "source": [
    "steps = 20\n",
    "detBtc, thrBtc = detectSteps(benigns,malwares,steps, metric= \"bet centr\")\n",
    "malbtc = np.array([detBtc[i][0] for i in range(len(detBtc))])\n",
    "benbtc = np.array([detBtc[i][1] for i in range(len(detBtc))])\n",
    "threshBtc = np.mean(np.array([i for i in thrBtc]),axis=0)\n",
    "avg_btc = np.mean(malbtc,axis=0)\n",
    "avg_btc_b = np.mean(benbtc,axis=0)\n",
    "plot_metrics(avg_btc,avg_btc_b,threshBtc,\"btcentrality\")"
   ]
  },
  {
   "cell_type": "code",
   "execution_count": null,
   "metadata": {},
   "outputs": [],
   "source": [
    "simAverages(sortMalwareTests,sortBenignTests,\"Csm\")\n",
    "print(\"===========================================\")\n",
    "print()"
   ]
  }
 ],
 "metadata": {
  "kernelspec": {
   "display_name": "Python 3",
   "language": "python",
   "name": "python3"
  },
  "language_info": {
   "codemirror_mode": {
    "name": "ipython",
    "version": 3
   },
   "file_extension": ".py",
   "mimetype": "text/x-python",
   "name": "python",
   "nbconvert_exporter": "python",
   "pygments_lexer": "ipython3",
   "version": "3.7.6"
  }
 },
 "nbformat": 4,
 "nbformat_minor": 2
}
