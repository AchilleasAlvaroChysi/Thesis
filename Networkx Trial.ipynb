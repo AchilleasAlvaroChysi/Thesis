{
 "cells": [
  {
   "cell_type": "code",
   "execution_count": 1,
   "metadata": {},
   "outputs": [],
   "source": [
    "import sys\n",
    "import os\n",
    "import csv\n",
    "import time\n",
    "import statistics\n",
    "import numpy as np\n",
    "from pathlib import Path, PureWindowsPath\n",
    "from numpy import dot\n",
    "from numpy.linalg import norm\n",
    "import networkx as nx\n",
    "import networkx.algorithms.matching\n",
    "from collections import Counter\n",
    "from IPython.display import Image, display\n",
    "from matplotlib import pyplot as plt\n",
    "from scipy.spatial import distance\n",
    "from sklearn.metrics.pairwise import cosine_similarity"
   ]
  },
  {
   "cell_type": "code",
   "execution_count": 2,
   "metadata": {},
   "outputs": [],
   "source": [
    "def printProgressBar (iteration, total, prefix = '', suffix = '', decimals = 1, length = 100, fill = '█', printEnd = \"\\r\"):\n",
    "    \"\"\"\n",
    "    Call in a loop to create terminal progress bar\n",
    "    @params:\n",
    "        iteration   - Required  : current iteration (Int)\n",
    "        total       - Required  : total iterations (Int)\n",
    "        prefix      - Optional  : prefix string (Str)\n",
    "        suffix      - Optional  : suffix string (Str)\n",
    "        decimals    - Optional  : positive number of decimals in percent complete (Int)\n",
    "        length      - Optional  : character length of bar (Int)\n",
    "        fill        - Optional  : bar fill character (Str)\n",
    "        printEnd    - Optional  : end character (e.g. \"\\r\", \"\\r\\n\") (Str)\n",
    "    \"\"\"\n",
    "    percent = (\"{0:.\" + str(decimals) + \"f}\").format(100 * (iteration / float(total)))\n",
    "    filledLength = int(length * iteration // total)\n",
    "    bar = fill * filledLength + '-' * (length - filledLength)\n",
    "    print('\\r%s |%s| %s%% %s' % (prefix, bar, percent, suffix), end = printEnd)\n",
    "    # Print New Line on Complete\n",
    "    if iteration == total: \n",
    "        print()"
   ]
  },
  {
   "cell_type": "code",
   "execution_count": 3,
   "metadata": {},
   "outputs": [],
   "source": [
    "def getArray (path):\n",
    "    results = []\n",
    "    with open(path) as csvfile:\n",
    "        reader = csv.reader(csvfile,csv.QUOTE_NONNUMERIC) # change contents to floats\n",
    "        for row in reader: # each row is a list\n",
    "            nums = []\n",
    "            for i in row: \n",
    "                if i :\n",
    "                    nums.append(int(i))\n",
    "            results.append(nums)\n",
    "    return results"
   ]
  },
  {
   "cell_type": "code",
   "execution_count": 4,
   "metadata": {},
   "outputs": [],
   "source": [
    "def createDirs(fold):\n",
    "    \n",
    "    path = \"DATASET F1/fold_\" +str(fold)\n",
    "    mal_path = path+ \"/20%_test\"\n",
    "    train_path = path+ \"/80%_train\"\n",
    "    benign_path = \"DATASET F1/specimen_benign/20%_test\"\n",
    "    \n",
    "    w_mal_path = PureWindowsPath(mal_path)\n",
    "    w_train_path= PureWindowsPath(train_path)\n",
    "    w_benign_path = PureWindowsPath(benign_path)\n",
    "#     print( mal_path+\"\\n\"+ train_path+\"\\n\"+ benign_path)\n",
    "#     print( w_mal_path, w_train_path, w_benign_path)\n",
    "\n",
    "    filename = \"default_G_tone_map\"\n",
    "    mapFilename = \"default_unique_mapping\"\n",
    "    \n",
    "    rootDir = [os.path.join(root, name)\n",
    "             for root, dirs, files in os.walk(w_mal_path)\n",
    "             for name in files\n",
    "             if name.endswith(filename+\".csv\")]\n",
    "    rootDir.sort()\n",
    "    # for i in range(len(paths)):\n",
    "    #     p = [os.path.join(root, name)\n",
    "    #              for root, dirs, files in os.walk(paths[i]+\"/\"+path)\n",
    "    #              for name in files\n",
    "    #              if name.endswith(filename+\".csv\")]\n",
    "    #     p.sort()\n",
    "    #     rootDirs[i] = p\n",
    "    # print(rootDirs[10])\n",
    "    benignDir = [os.path.join(root, name)\n",
    "                 for root, dirs, files in os.walk(w_benign_path)\n",
    "                 for name in files\n",
    "                 if name.endswith(filename+\".csv\")]\n",
    "    benignDir.sort()\n",
    "\n",
    "    # for i in range(len(paths)):\n",
    "    trainDir = [os.path.join(root, name)\n",
    "                 for root, dirs, files in os.walk(w_train_path)\n",
    "                 for name in files\n",
    "                 if name.endswith(filename+\".csv\")]\n",
    "    trainDir.sort()\n",
    "    #     trainDirs[i] = trainDir\n",
    "    return [rootDir,benignDir,trainDir]"
   ]
  },
  {
   "cell_type": "code",
   "execution_count": 5,
   "metadata": {},
   "outputs": [],
   "source": [
    "def createGraphs(dirs, npmode):\n",
    "    rootDir = dirs[0]\n",
    "    benignDir = dirs[1]\n",
    "    trainDir = dirs[2]\n",
    "    mal_gs = []\n",
    "    mal_np_gs = []\n",
    "    ben_gs = []\n",
    "    train_gs = []\n",
    "    train_np_gs = []\n",
    "    ben_np_gs = []\n",
    "    csm_vals = {}\n",
    "    for i in range(len(rootDir)):\n",
    "        A = np.array(getArray(rootDir[i]))\n",
    "        G = nx.from_numpy_matrix(A)\n",
    "        mal_gs.append(G)\n",
    "        mal_np_gs.append(A)\n",
    "#         printProgressBar(i, len(rootDir)-1,prefix = 'malware gs')\n",
    "\n",
    "    for i in range(len(trainDir)):\n",
    "        A = np.array(getArray(trainDir[i]))\n",
    "        G = nx.from_numpy_matrix(A)\n",
    "        train_gs.append(G)\n",
    "        train_np_gs.append(A)\n",
    "#         printProgressBar(i, len(trainDir)-1, prefix = 'train gs')\n",
    "        \n",
    "    for i in range(len(benignDir)):\n",
    "        A = np.array(getArray(benignDir[i]))\n",
    "        G = nx.from_numpy_matrix(A)\n",
    "        ben_gs.append(G)\n",
    "        ben_np_gs.append(A)\n",
    "#         printProgressBar(i, len(benignDir)-1, prefix = 'benign gs')\n",
    "    if npmode: \n",
    "        return [mal_np_gs, ben_np_gs, train_np_gs]\n",
    "    else: \n",
    "        return [mal_gs, ben_gs, train_gs]\n",
    "\n"
   ]
  },
  {
   "cell_type": "code",
   "execution_count": 6,
   "metadata": {},
   "outputs": [],
   "source": [
    "def findCentrality(graphs):\n",
    "    ben_gs = graphs[0]\n",
    "    mal_gs = graphs[1]\n",
    "    train_gs = graphs[2]\n",
    "    ben_bs = []\n",
    "    mal_bs = []\n",
    "    train_bs = []\n",
    "    ben_centr = []\n",
    "    mal_centr = []\n",
    "    train_centr = []\n",
    "    for i in ben_gs:\n",
    "        ben_bs.append(nx.betweenness_centrality(i))\n",
    "#         printProgressBar(ben_gs.index(i),len(ben_gs)-1,prefix = 'benign')\n",
    "    for j in mal_gs:\n",
    "        mal_bs.append(nx.betweenness_centrality(j))\n",
    "#         printProgressBar(mal_gs.index(j),len(mal_gs)-1,prefix = 'malware')\n",
    "    for k in train_gs:\n",
    "        train_bs.append(nx.betweenness_centrality(k))\n",
    "#         printProgressBar(train_gs.index(k),len(train_gs)-1,prefix = 'train')\n",
    "    for i in range(len(ben_bs)):\n",
    "        ben_centr.append(list(ben_bs[i].values()))\n",
    "    for i in range(len(mal_bs)):\n",
    "        mal_centr.append(list(mal_bs[i].values()))\n",
    "    for i in range(len(train_bs)):\n",
    "        train_centr.append(list(train_bs[i].values()))\n",
    "    return [ben_centr, mal_centr, train_centr]\n"
   ]
  },
  {
   "cell_type": "code",
   "execution_count": 7,
   "metadata": {},
   "outputs": [],
   "source": [
    "def calculateDifference(listA, listB, dirs,isBenign):\n",
    "    csm_val = []\n",
    "    rootDir = dirs[0]\n",
    "    benDir = dirs[1]\n",
    "    trainDir = dirs[2]\n",
    "    for i in range(len(listA)):\n",
    "#         printProgressBar(i,len(listA)-1, prefix='diff calculation:')\n",
    "        val = []\n",
    "        for j in range(len(listB)):\n",
    "            val.append(1-distance.cosine(listA[i], listB[j]))\n",
    "        if isBenign:\n",
    "            csm_val.append([benDir[i].split('\\\\')[-3],max(val),trainDir[val.index(max(val))].split('\\\\')[-3]])\n",
    "        else :\n",
    "            csm_val.append([rootDir[i].split('\\\\')[-3],max(val),trainDir[val.index(max(val))].split('\\\\')[-3]])\n",
    "    return csm_val"
   ]
  },
  {
   "cell_type": "code",
   "execution_count": 8,
   "metadata": {},
   "outputs": [],
   "source": [
    "def sortTests(test):\n",
    "    sortedTests =[]\n",
    "    for i in range(len(test)):\n",
    "        srTest = sorted(test[i], key = lambda kv:kv[1],reverse = True)\n",
    "        sortedTests.append(srTest)\n",
    "    return sortedTests"
   ]
  },
  {
   "cell_type": "code",
   "execution_count": 9,
   "metadata": {},
   "outputs": [],
   "source": [
    "def saveFigures(mal_th, ben_th, start, iteration):\n",
    "    lists = [mal_th,ben_th]\n",
    "    diffs = []\n",
    "    v = 0\n",
    "    for i in range(len(mal_th)):\n",
    "        v = max(v,abs(mal_th[i]-ben_th[i]))\n",
    "        diffs.append(abs(mal_th[i]-ben_th[i]))\n",
    "#     print(v)\n",
    "    d = max(diffs)\n",
    "#     print(d, mal_th[diffs.index(d)])\n",
    "\n",
    "    for i in lists:\n",
    "        plt.plot(i,marker= 11)\n",
    "    plt.title(\"max dif at %f\"%(diffs[diffs.index(d)]))\n",
    "    plt.legend([\"True positives\",\"False positives\"])\n",
    "    plt.yticks(np.arange(0, 1, 0.05))\n",
    "    plt.xticks(np.arange(0,step, 1))\n",
    "    plt.ylabel(\"\")\n",
    "    plt.draw()\n",
    "    try:\n",
    "        os.mkdir(str(iteration))\n",
    "    except OSError:\n",
    "#         print (\"Creation of the directory %s failed\" % str(iteration))\n",
    "        pass\n",
    "    else:\n",
    "        print (\"Successfully created the directory %s\" % str(iteration))\n",
    "    plt.savefig(str(iteration)+\"/\"+str(start)+\".png\")\n",
    "    plt.clf()\n",
    "\n"
   ]
  },
  {
   "cell_type": "code",
   "execution_count": 10,
   "metadata": {},
   "outputs": [],
   "source": [
    "def similarityMetric(sr):\n",
    "    counterA = 0\n",
    "    counterB = 0\n",
    "    counterC = 0\n",
    "    for i in sr :\n",
    "        A,B = i[0].split(',')[0], i[0].split(',')[1]\n",
    "        C,D = i[2].split(',')[0], i[2].split(',')[1]\n",
    "        if A==C and B==D:\n",
    "            counterA +=1\n",
    "        if A==C or B==D:\n",
    "            counterB +=1\n",
    "        if A==C or A==D or B == C or B == D:\n",
    "            counterC += 1\n",
    "    print(\"cA = %d (%f) cB= %d (%f) cC =%d (%f)\"%(counterA, counterA/len(sr), counterB, counterB/len(sr), counterC, counterC/len(sr)))\n",
    "    return [counterA/len(sr),counterB/len(sr),counterC/len(sr)]"
   ]
  },
  {
   "cell_type": "code",
   "execution_count": 11,
   "metadata": {},
   "outputs": [],
   "source": [
    "def detection(ben, mal, itr, step):\n",
    "    dif = ben[0]-ben[-1]\n",
    "    thresh = [ben[-1]+i*dif/step for i in range(step)]\n",
    "    thresh.append(0.99999999)\n",
    "    m = np.array((sum(i > thresh for i in mal)/len(mal))*100)\n",
    "    p = np.array((sum(i > thresh for i in ben)/len(ben))*100)\n",
    "    \n",
    "    for i in [m,p]:\n",
    "        plt.plot(i)\n",
    "    plt.yticks(np.arange(0,1.05,0.05))\n",
    "    plt.draw()\n",
    "    plt.title('detection at '+str(itr)+ ' iteration')\n",
    "    plt.savefig(str(itr)+'--btc.png')\n",
    "    plt.clf()\n",
    "    return [m,p],thresh"
   ]
  },
  {
   "cell_type": "code",
   "execution_count": 12,
   "metadata": {},
   "outputs": [],
   "source": [
    "def detectSteps(testA, testB,step, metric = \"Csm\"):\n",
    "    detect = []\n",
    "    thresh = []\n",
    "    for i in range(len(testA)):\n",
    "        det, thr = detection(testA[i], testB[i], i, step, metric=metric)\n",
    "        detect.append(det)\n",
    "        thresh.append(thr)\n",
    "    return detect, thresh"
   ]
  },
  {
   "cell_type": "code",
   "execution_count": 13,
   "metadata": {},
   "outputs": [],
   "source": [
    "def plot_metrics(listA, listB, listThr, metric):\n",
    "    \n",
    "    diffs = []\n",
    "    v = 0\n",
    "    for i in range(len(listA)):\n",
    "        v = max(v,abs(listA[i]-listB[i]))\n",
    "        diffs.append(abs(listA[i]-listB[i]))\n",
    "    pd = diffs.index(v)\n",
    "    print(listA[pd], listB[pd])\n",
    "    plt.figure(num=None, figsize=(10,7), dpi=200, facecolor='w', edgecolor=None)\n",
    "    plt.margins(0.01)\n",
    "    plt.plot(listA,'r')\n",
    "    plt.plot(listB,'g')\n",
    "#     plt.plot(pd,listA[pd],'yo-')\n",
    "#     plt.plot(pd,listB[pd],'yo-')\n",
    "#     plt.plot((pd,pd),(listA[pd],listB[pd]),'k--')\n",
    "    xi = list(range(len(listThr)))\n",
    "    plt.xticks(xi,[round(i,5) for i in listThr])\n",
    "    plt.xticks(fontsize=8, rotation=90)\n",
    "    plt.yticks(np.arange(0,105,5))\n",
    "    plt.legend([\"TP-rate\",\"FP-rate\"], loc='lower left')\n",
    "#     plt.title(\"Average five fold with %s metric\"%(metric))\n",
    "    plt.savefig(\"Average five fold with %s metric\"%(metric))\n",
    "    plt.clf()"
   ]
  },
  {
   "cell_type": "code",
   "execution_count": 14,
   "metadata": {},
   "outputs": [],
   "source": [
    "iterationDirs = [createDirs(i) for i in range(1,6)]"
   ]
  },
  {
   "cell_type": "code",
   "execution_count": 15,
   "metadata": {},
   "outputs": [],
   "source": [
    "graphs = [createGraphs(iterationDirs[i],False)for i in range(len(iterationDirs))]"
   ]
  },
  {
   "cell_type": "code",
   "execution_count": 16,
   "metadata": {
    "scrolled": true
   },
   "outputs": [],
   "source": [
    "graphCentr = [findCentrality(graphs[i]) for i in range(len(graphs))]"
   ]
  },
  {
   "cell_type": "code",
   "execution_count": 17,
   "metadata": {},
   "outputs": [
    {
     "name": "stdout",
     "output_type": "stream",
     "text": [
      "malware took 153.024907 seconds\n"
     ]
    }
   ],
   "source": [
    "t = time.time()\n",
    "malwareTests = [calculateDifference(graphCentr[i][0],graphCentr[i][2], \n",
    "                                    iterationDirs[i], False) for i in range(len(graphCentr))]\n",
    "print(\"malware took %f seconds\"%(time.time()-t))"
   ]
  },
  {
   "cell_type": "code",
   "execution_count": 18,
   "metadata": {},
   "outputs": [],
   "source": [
    "benignTests = [calculateDifference(graphCentr[i][1],graphCentr[i][2], \n",
    "                                   iterationDirs[i], True) for i in range(len(graphCentr))]"
   ]
  },
  {
   "cell_type": "code",
   "execution_count": 19,
   "metadata": {
    "scrolled": true
   },
   "outputs": [],
   "source": [
    "sortBenignTests= sortTests(benignTests)"
   ]
  },
  {
   "cell_type": "code",
   "execution_count": 20,
   "metadata": {},
   "outputs": [],
   "source": [
    "sortMalwareTests =  sortTests(malwareTests)"
   ]
  },
  {
   "cell_type": "code",
   "execution_count": 21,
   "metadata": {},
   "outputs": [],
   "source": [
    "malwares =  [[sortMalwareTests[j][i][1] for i in range(len(sortMalwareTests[j]))] \n",
    "             for j in range(len(sortMalwareTests))]\n",
    "benigns =  [[sortBenignTests[j][i][1] for i in range(len(sortBenignTests[j]))] \n",
    "             for j in range(len(sortBenignTests))]"
   ]
  },
  {
   "cell_type": "code",
   "execution_count": 22,
   "metadata": {
    "scrolled": true
   },
   "outputs": [
    {
     "name": "stdout",
     "output_type": "stream",
     "text": [
      "[99.77025424 99.73186652 99.65509109 99.57947672 99.50328182 99.42650639\n",
      " 99.31192378 99.23572888 99.19734116 99.0437903  98.92862715 98.65991314\n",
      " 98.31616529 97.89448095 97.55131364 96.90162513 96.09664416 94.79436448\n",
      " 93.18614414 90.0104133  79.10010196]\n",
      "[97.14285714 97.14285714 97.14285714 97.14285714 94.85714286 92.57142857\n",
      " 92.57142857 92.         88.         85.14285714 81.71428571 77.71428571\n",
      " 73.71428571 69.71428571 61.71428571 56.         53.71428571 49.14285714\n",
      " 40.         32.57142857  8.        ]\n"
     ]
    },
    {
     "data": {
      "text/plain": [
       "<Figure size 432x288 with 0 Axes>"
      ]
     },
     "metadata": {},
     "output_type": "display_data"
    },
    {
     "data": {
      "text/plain": [
       "<Figure size 2000x1400 with 0 Axes>"
      ]
     },
     "metadata": {},
     "output_type": "display_data"
    }
   ],
   "source": [
    "step = 20\n",
    "d = []\n",
    "thresh = []\n",
    "for i in range(len(benigns)):\n",
    "    db, trh = detection(benigns[i], malwares[i], i, step)\n",
    "    d.append(db)\n",
    "    thresh.append(trh)\n",
    "\n",
    "mal_det = np.array([d[i][0] for i in range(len(d))])\n",
    "ben_det = np.array([d[i][1] for i in range(len(d))])\n",
    "threshMean = np.mean(np.array([i for i in thresh]),axis=0)\n",
    "avg_d = np.mean(mal_det,axis=0)\n",
    "avg_d_b =  np.mean(ben_det,axis=0)\n",
    "print(avg_d)\n",
    "print(avg_d_b)\n",
    "plt.figure(num=None, figsize=(10,7), dpi=200, facecolor='w', edgecolor=None)\n",
    "plt.margins(0.01)\n",
    "plt.plot(avg_d,'r')\n",
    "plt.plot(avg_d_b,'g')\n",
    "plt.yticks(np.arange(0,105,5))\n",
    "plt.xticks(np.arange(0,len(avg_d),1))\n",
    "plt.legend(['TP-rate','FP-rate'],loc = 'lower left')\n",
    "plt.draw()\n",
    "plt.savefig('average--btc.png')\n",
    "plt.clf()"
   ]
  },
  {
   "cell_type": "code",
   "execution_count": 23,
   "metadata": {},
   "outputs": [
    {
     "name": "stdout",
     "output_type": "stream",
     "text": [
      "cA = 216 (0.414587) cB= 297 (0.570058) cC =314 (0.602687)\n",
      "cA = 217 (0.416507) cB= 318 (0.610365) cC =328 (0.629559)\n",
      "cA = 252 (0.483685) cB= 321 (0.616123) cC =339 (0.650672)\n",
      "cA = 217 (0.416507) cB= 292 (0.560461) cC =309 (0.593090)\n",
      "cA = 191 (0.361059) cB= 262 (0.495274) cC =286 (0.540643)\n",
      "[0.4145873320537428, 0.5700575815738963, 0.6026871401151631]\n",
      "[0.4165067178502879, 0.6103646833013435, 0.6295585412667947]\n",
      "[0.4836852207293666, 0.6161228406909789, 0.6506717850287908]\n",
      "[0.4165067178502879, 0.5604606525911708, 0.5930902111324377]\n",
      "[0.3610586011342155, 0.4952741020793951, 0.5406427221172023]\n",
      "-------------------------------\n",
      "\n",
      "0.41846891792358015\n",
      "0.570455972047357\n",
      "0.6033300799320777\n"
     ]
    }
   ],
   "source": [
    "similarities = [similarityMetric(sortMalwareTests[i]) for i in range(len(sortMalwareTests))]\n",
    "for i in similarities :\n",
    "    print(i)\n",
    "print('-------------------------------\\n')\n",
    "counts = [[i[j] for i in similarities] for j in range(len(i))]\n",
    "avg = [statistics.mean(i) for i in counts]\n",
    "\n",
    "for j in avg : print(j)"
   ]
  },
  {
   "cell_type": "code",
   "execution_count": 24,
   "metadata": {},
   "outputs": [
    {
     "name": "stdout",
     "output_type": "stream",
     "text": [
      "79.1001019560319 8.0\n"
     ]
    },
    {
     "data": {
      "text/plain": [
       "<Figure size 2000x1400 with 0 Axes>"
      ]
     },
     "metadata": {},
     "output_type": "display_data"
    }
   ],
   "source": [
    "plot_metrics(avg_d, avg_d_b, threshMean, \"BETWEENES\")"
   ]
  },
  {
   "cell_type": "code",
   "execution_count": 25,
   "metadata": {},
   "outputs": [
    {
     "name": "stdout",
     "output_type": "stream",
     "text": [
      "[0, 0, 0, 0, 0, 0, 0, 0, 0, 0, 0, 2, 0, 0, 0, 0, 0, 0, 0, 0, 0, 0, 0, 10, 1, 0, 0, 0, 0, 0]\n",
      "[0, 0, 0, 0, 0, 0, 0, 0, 0, 0, 0, 0, 0, 0, 0, 0, 0, 0, 0, 0, 0, 0, 0, 0, 0, 0, 0, 0, 0, 0]\n",
      "[0, 0, 0, 0, 0, 0, 0, 0, 0, 0, 0, 0, 0, 0, 0, 0, 0, 1, 0, 0, 0, 0, 0, 0, 0, 0, 0, 0, 0, 0]\n",
      "[0, 0, 0, 0, 0, 0, 0, 0, 0, 0, 0, 0, 0, 0, 0, 0, 0, 0, 0, 0, 0, 0, 0, 0, 0, 0, 0, 0, 0, 0]\n",
      "[0, 0, 0, 0, 0, 0, 0, 0, 0, 0, 0, 0, 0, 0, 0, 0, 0, 0, 0, 0, 0, 0, 0, 0, 0, 0, 0, 0, 0, 0]\n",
      "[0, 0, 0, 0, 0, 0, 0, 0, 0, 0, 0, 0, 0, 0, 0, 0, 0, 0, 0, 0, 0, 0, 0, 0, 0, 0, 0, 0, 0, 0]\n",
      "[0, 0, 0, 0, 0, 0, 0, 0, 0, 0, 0, 0, 0, 0, 0, 0, 0, 0, 0, 0, 0, 0, 0, 0, 0, 0, 0, 0, 0, 0]\n",
      "[0, 0, 0, 0, 0, 0, 0, 0, 0, 0, 1, 8, 0, 0, 0, 0, 0, 4, 0, 0, 0, 0, 0, 0, 1, 0, 0, 0, 0, 0]\n",
      "[0, 0, 0, 0, 0, 0, 0, 0, 0, 0, 0, 0, 0, 0, 0, 0, 0, 0, 0, 0, 0, 0, 0, 0, 0, 0, 0, 0, 0, 0]\n",
      "[0, 0, 0, 0, 0, 0, 0, 0, 0, 0, 0, 0, 0, 0, 0, 0, 0, 0, 0, 0, 0, 0, 0, 0, 0, 0, 0, 0, 0, 0]\n",
      "[0, 0, 0, 0, 0, 0, 0, 0, 0, 0, 0, 0, 0, 0, 0, 0, 0, 0, 0, 0, 0, 0, 0, 0, 0, 0, 0, 0, 0, 0]\n",
      "[0, 0, 0, 0, 0, 0, 2, 0, 0, 0, 1, 13, 0, 0, 1, 0, 0, 0, 0, 0, 0, 0, 0, 9, 0, 0, 0, 0, 0, 0]\n",
      "[0, 0, 0, 0, 0, 0, 0, 0, 0, 0, 0, 0, 0, 0, 1, 0, 0, 0, 0, 0, 0, 0, 0, 0, 0, 0, 0, 0, 0, 0]\n",
      "[0, 0, 0, 0, 0, 0, 0, 0, 0, 0, 0, 1, 0, 0, 0, 0, 0, 0, 0, 0, 0, 0, 0, 2, 0, 0, 0, 0, 0, 0]\n",
      "[0, 0, 0, 0, 0, 0, 0, 0, 0, 0, 0, 0, 0, 0, 1, 0, 0, 0, 0, 0, 0, 0, 0, 0, 0, 0, 0, 0, 0, 0]\n",
      "[0, 0, 0, 0, 0, 0, 0, 0, 0, 0, 0, 0, 0, 0, 0, 0, 0, 0, 0, 0, 0, 0, 0, 0, 0, 0, 0, 0, 0, 0]\n",
      "[0, 0, 0, 0, 0, 0, 0, 0, 0, 0, 0, 2, 0, 0, 0, 0, 0, 0, 0, 0, 0, 0, 0, 0, 0, 0, 0, 0, 0, 0]\n",
      "[0, 0, 0, 0, 0, 0, 0, 0, 0, 0, 0, 0, 0, 0, 0, 0, 0, 5, 0, 0, 0, 0, 0, 0, 0, 0, 0, 0, 0, 0]\n",
      "[0, 0, 0, 0, 0, 0, 0, 0, 0, 0, 0, 0, 0, 0, 0, 0, 0, 0, 0, 0, 0, 0, 0, 2, 0, 0, 0, 0, 0, 0]\n",
      "[0, 0, 0, 0, 0, 0, 0, 0, 0, 0, 0, 8, 0, 0, 0, 0, 0, 0, 0, 0, 0, 0, 0, 0, 0, 0, 0, 0, 0, 0]\n",
      "[0, 0, 0, 0, 0, 0, 0, 0, 0, 0, 0, 0, 0, 0, 0, 0, 0, 0, 0, 0, 0, 0, 0, 0, 0, 0, 0, 0, 0, 0]\n",
      "[0, 0, 0, 0, 0, 0, 0, 0, 0, 0, 0, 0, 0, 0, 1, 0, 0, 2, 0, 0, 0, 0, 0, 0, 0, 0, 0, 0, 0, 0]\n",
      "[0, 0, 0, 0, 0, 0, 0, 0, 0, 0, 0, 0, 0, 0, 0, 0, 0, 0, 0, 0, 0, 0, 0, 0, 0, 0, 0, 0, 0, 0]\n",
      "[0, 0, 0, 0, 0, 0, 3, 0, 0, 0, 0, 0, 0, 0, 0, 0, 0, 0, 0, 0, 0, 0, 0, 6, 0, 0, 0, 0, 0, 0]\n",
      "[0, 0, 0, 0, 0, 0, 1, 0, 0, 0, 0, 0, 0, 0, 0, 0, 0, 0, 0, 0, 0, 0, 0, 0, 2, 0, 0, 0, 0, 0]\n",
      "[0, 0, 0, 0, 0, 0, 0, 0, 0, 0, 0, 0, 0, 0, 0, 0, 0, 0, 0, 0, 0, 0, 0, 0, 0, 0, 0, 0, 0, 0]\n",
      "[0, 0, 0, 0, 0, 0, 0, 0, 0, 0, 0, 0, 0, 0, 0, 0, 0, 0, 0, 0, 0, 0, 0, 0, 0, 0, 0, 0, 0, 0]\n",
      "[0, 0, 0, 0, 0, 0, 0, 0, 0, 0, 0, 0, 0, 0, 0, 0, 0, 0, 0, 0, 0, 0, 0, 0, 0, 0, 0, 0, 0, 0]\n",
      "[0, 0, 0, 0, 0, 0, 0, 0, 0, 0, 0, 12, 0, 0, 2, 0, 0, 4, 0, 0, 0, 0, 0, 3, 1, 0, 0, 0, 0, 0]\n",
      "[0, 0, 0, 0, 0, 0, 0, 0, 0, 0, 0, 0, 0, 0, 0, 0, 0, 0, 0, 0, 0, 0, 0, 0, 0, 0, 0, 0, 0, 0]\n"
     ]
    }
   ],
   "source": [
    "for i in getArray(iterationDirs[0][0][0]):\n",
    "    print(i)"
   ]
  }
 ],
 "metadata": {
  "kernelspec": {
   "display_name": "Python 3",
   "language": "python",
   "name": "python3"
  },
  "language_info": {
   "codemirror_mode": {
    "name": "ipython",
    "version": 3
   },
   "file_extension": ".py",
   "mimetype": "text/x-python",
   "name": "python",
   "nbconvert_exporter": "python",
   "pygments_lexer": "ipython3",
   "version": "3.7.6"
  }
 },
 "nbformat": 4,
 "nbformat_minor": 2
}
